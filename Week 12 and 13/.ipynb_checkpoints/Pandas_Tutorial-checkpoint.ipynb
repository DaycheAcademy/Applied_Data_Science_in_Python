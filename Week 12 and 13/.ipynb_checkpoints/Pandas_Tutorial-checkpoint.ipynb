{
 "cells": [
  {
   "cell_type": "markdown",
   "metadata": {
    "id": "-ThSADq7Jck3",
    "pycharm": {
     "name": "#%% md\n"
    }
   },
   "source": [
    "## Loading in Data"
   ]
  },
  {
   "cell_type": "code",
   "execution_count": 1,
   "metadata": {
    "id": "1Bn9P-nwHAb5",
    "pycharm": {
     "name": "#%%\n"
    }
   },
   "outputs": [],
   "source": [
    "import pandas as pd"
   ]
  },
  {
   "cell_type": "code",
   "execution_count": null,
   "metadata": {
    "id": "Bv6JUKeNIm7j",
    "pycharm": {
     "name": "#%%\n"
    }
   },
   "outputs": [],
   "source": [
    "df = pd.read_csv('dayche.csv')"
   ]
  },
  {
   "cell_type": "code",
   "execution_count": 4,
   "metadata": {
    "id": "G3Iz3Xa3IqFQ",
    "pycharm": {
     "name": "#%%\n"
    }
   },
   "outputs": [],
   "source": [
    "# using the URL directly works too!\n",
    "df = pd.read_csv('https://www.stats.govt.nz/assets/Uploads/Annual-enterprise-survey/Annual-enterprise-survey-2021-financial-year-provisional/Download-data/annual-enterprise-survey-2021-financial-year-provisional-csv.csv')"
   ]
  },
  {
   "cell_type": "code",
   "execution_count": 5,
   "metadata": {
    "pycharm": {
     "name": "#%%\n"
    }
   },
   "outputs": [],
   "source": [
    "# saving dataframe to a csv file\n",
    "df.to_csv('test.csv')"
   ]
  },
  {
   "cell_type": "code",
   "execution_count": null,
   "metadata": {
    "colab": {
     "base_uri": "https://localhost:8080/",
     "height": 34
    },
    "executionInfo": {
     "elapsed": 673,
     "status": "ok",
     "timestamp": 1588137131618,
     "user": {
      "displayName": "Lazy Programmer",
      "photoUrl": "",
      "userId": "14255399010036105472"
     },
     "user_tz": 240
    },
    "id": "Um0uNYSxJJVv",
    "outputId": "8c3742d4-6eee-4733-92c6-9f2b89d65de1",
    "pycharm": {
     "name": "#%%\n"
    }
   },
   "outputs": [
    {
     "data": {
      "text/plain": [
       "pandas.core.frame.DataFrame"
      ]
     },
     "execution_count": 4,
     "metadata": {
      "tags": []
     },
     "output_type": "execute_result"
    }
   ],
   "source": [
    "type(df)"
   ]
  },
  {
   "cell_type": "code",
   "execution_count": null,
   "metadata": {
    "colab": {
     "base_uri": "https://localhost:8080/",
     "height": 191
    },
    "executionInfo": {
     "elapsed": 1083,
     "status": "ok",
     "timestamp": 1587881906587,
     "user": {
      "displayName": "Lazy Programmer",
      "photoUrl": "",
      "userId": "14255399010036105472"
     },
     "user_tz": 240
    },
    "id": "Yow8DbJlIvjd",
    "outputId": "e9550414-6fb3-402c-d077-7d04f7779300",
    "pycharm": {
     "name": "#%%\n"
    }
   },
   "outputs": [
    {
     "name": "stdout",
     "output_type": "stream",
     "text": [
      "date,open,high,low,close,volume,Name\n",
      "2013-02-08,27.92,28.325,27.92,28.185,7146296,SBUX\n",
      "2013-02-11,28.26,28.26,27.93,28.07,5457354,SBUX\n",
      "2013-02-12,28.0,28.275,27.975,28.13,8665592,SBUX\n",
      "2013-02-13,28.23,28.23,27.75,27.915,7022056,SBUX\n",
      "2013-02-14,27.765,27.905,27.675,27.775,8899188,SBUX\n",
      "2013-02-15,27.805,27.85,27.085,27.17,18195730,SBUX\n",
      "2013-02-19,27.18,27.305,27.01,27.225,11760912,SBUX\n",
      "2013-02-20,27.3,27.42,26.59,26.655,12472506,SBUX\n",
      "2013-02-21,26.535,26.82,26.26,26.675,13896450,SBUX\n"
     ]
    }
   ],
   "source": [
    "!head sbux.csv"
   ]
  },
  {
   "cell_type": "code",
   "execution_count": null,
   "metadata": {
    "colab": {
     "base_uri": "https://localhost:8080/",
     "height": 206
    },
    "executionInfo": {
     "elapsed": 508,
     "status": "ok",
     "timestamp": 1587881913325,
     "user": {
      "displayName": "Lazy Programmer",
      "photoUrl": "",
      "userId": "14255399010036105472"
     },
     "user_tz": 240
    },
    "id": "M-hPqCb7IxeN",
    "outputId": "f3d05851-4445-4c52-ef0e-6772397ddb88",
    "pycharm": {
     "name": "#%%\n"
    }
   },
   "outputs": [
    {
     "data": {
      "text/html": [
       "<div>\n",
       "<style scoped>\n",
       "    .dataframe tbody tr th:only-of-type {\n",
       "        vertical-align: middle;\n",
       "    }\n",
       "\n",
       "    .dataframe tbody tr th {\n",
       "        vertical-align: top;\n",
       "    }\n",
       "\n",
       "    .dataframe thead th {\n",
       "        text-align: right;\n",
       "    }\n",
       "</style>\n",
       "<table border=\"1\" class=\"dataframe\">\n",
       "  <thead>\n",
       "    <tr style=\"text-align: right;\">\n",
       "      <th></th>\n",
       "      <th>date</th>\n",
       "      <th>open</th>\n",
       "      <th>high</th>\n",
       "      <th>low</th>\n",
       "      <th>close</th>\n",
       "      <th>volume</th>\n",
       "      <th>Name</th>\n",
       "    </tr>\n",
       "  </thead>\n",
       "  <tbody>\n",
       "    <tr>\n",
       "      <th>0</th>\n",
       "      <td>2013-02-08</td>\n",
       "      <td>27.920</td>\n",
       "      <td>28.325</td>\n",
       "      <td>27.920</td>\n",
       "      <td>28.185</td>\n",
       "      <td>7146296</td>\n",
       "      <td>SBUX</td>\n",
       "    </tr>\n",
       "    <tr>\n",
       "      <th>1</th>\n",
       "      <td>2013-02-11</td>\n",
       "      <td>28.260</td>\n",
       "      <td>28.260</td>\n",
       "      <td>27.930</td>\n",
       "      <td>28.070</td>\n",
       "      <td>5457354</td>\n",
       "      <td>SBUX</td>\n",
       "    </tr>\n",
       "    <tr>\n",
       "      <th>2</th>\n",
       "      <td>2013-02-12</td>\n",
       "      <td>28.000</td>\n",
       "      <td>28.275</td>\n",
       "      <td>27.975</td>\n",
       "      <td>28.130</td>\n",
       "      <td>8665592</td>\n",
       "      <td>SBUX</td>\n",
       "    </tr>\n",
       "    <tr>\n",
       "      <th>3</th>\n",
       "      <td>2013-02-13</td>\n",
       "      <td>28.230</td>\n",
       "      <td>28.230</td>\n",
       "      <td>27.750</td>\n",
       "      <td>27.915</td>\n",
       "      <td>7022056</td>\n",
       "      <td>SBUX</td>\n",
       "    </tr>\n",
       "    <tr>\n",
       "      <th>4</th>\n",
       "      <td>2013-02-14</td>\n",
       "      <td>27.765</td>\n",
       "      <td>27.905</td>\n",
       "      <td>27.675</td>\n",
       "      <td>27.775</td>\n",
       "      <td>8899188</td>\n",
       "      <td>SBUX</td>\n",
       "    </tr>\n",
       "  </tbody>\n",
       "</table>\n",
       "</div>"
      ],
      "text/plain": [
       "         date    open    high     low   close   volume  Name\n",
       "0  2013-02-08  27.920  28.325  27.920  28.185  7146296  SBUX\n",
       "1  2013-02-11  28.260  28.260  27.930  28.070  5457354  SBUX\n",
       "2  2013-02-12  28.000  28.275  27.975  28.130  8665592  SBUX\n",
       "3  2013-02-13  28.230  28.230  27.750  27.915  7022056  SBUX\n",
       "4  2013-02-14  27.765  27.905  27.675  27.775  8899188  SBUX"
      ]
     },
     "execution_count": 6,
     "metadata": {
      "tags": []
     },
     "output_type": "execute_result"
    }
   ],
   "source": [
    "df.head()"
   ]
  },
  {
   "cell_type": "code",
   "execution_count": null,
   "metadata": {
    "colab": {
     "base_uri": "https://localhost:8080/",
     "height": 363
    },
    "executionInfo": {
     "elapsed": 388,
     "status": "ok",
     "timestamp": 1587882060631,
     "user": {
      "displayName": "Lazy Programmer",
      "photoUrl": "",
      "userId": "14255399010036105472"
     },
     "user_tz": 240
    },
    "id": "j8mTO3DmJVgQ",
    "outputId": "2761924e-62d6-492a-db52-88913c05e53e",
    "pycharm": {
     "name": "#%%\n"
    }
   },
   "outputs": [
    {
     "data": {
      "text/html": [
       "<div>\n",
       "<style scoped>\n",
       "    .dataframe tbody tr th:only-of-type {\n",
       "        vertical-align: middle;\n",
       "    }\n",
       "\n",
       "    .dataframe tbody tr th {\n",
       "        vertical-align: top;\n",
       "    }\n",
       "\n",
       "    .dataframe thead th {\n",
       "        text-align: right;\n",
       "    }\n",
       "</style>\n",
       "<table border=\"1\" class=\"dataframe\">\n",
       "  <thead>\n",
       "    <tr style=\"text-align: right;\">\n",
       "      <th></th>\n",
       "      <th>date</th>\n",
       "      <th>open</th>\n",
       "      <th>high</th>\n",
       "      <th>low</th>\n",
       "      <th>close</th>\n",
       "      <th>volume</th>\n",
       "      <th>Name</th>\n",
       "    </tr>\n",
       "  </thead>\n",
       "  <tbody>\n",
       "    <tr>\n",
       "      <th>0</th>\n",
       "      <td>2013-02-08</td>\n",
       "      <td>27.920</td>\n",
       "      <td>28.325</td>\n",
       "      <td>27.920</td>\n",
       "      <td>28.185</td>\n",
       "      <td>7146296</td>\n",
       "      <td>SBUX</td>\n",
       "    </tr>\n",
       "    <tr>\n",
       "      <th>1</th>\n",
       "      <td>2013-02-11</td>\n",
       "      <td>28.260</td>\n",
       "      <td>28.260</td>\n",
       "      <td>27.930</td>\n",
       "      <td>28.070</td>\n",
       "      <td>5457354</td>\n",
       "      <td>SBUX</td>\n",
       "    </tr>\n",
       "    <tr>\n",
       "      <th>2</th>\n",
       "      <td>2013-02-12</td>\n",
       "      <td>28.000</td>\n",
       "      <td>28.275</td>\n",
       "      <td>27.975</td>\n",
       "      <td>28.130</td>\n",
       "      <td>8665592</td>\n",
       "      <td>SBUX</td>\n",
       "    </tr>\n",
       "    <tr>\n",
       "      <th>3</th>\n",
       "      <td>2013-02-13</td>\n",
       "      <td>28.230</td>\n",
       "      <td>28.230</td>\n",
       "      <td>27.750</td>\n",
       "      <td>27.915</td>\n",
       "      <td>7022056</td>\n",
       "      <td>SBUX</td>\n",
       "    </tr>\n",
       "    <tr>\n",
       "      <th>4</th>\n",
       "      <td>2013-02-14</td>\n",
       "      <td>27.765</td>\n",
       "      <td>27.905</td>\n",
       "      <td>27.675</td>\n",
       "      <td>27.775</td>\n",
       "      <td>8899188</td>\n",
       "      <td>SBUX</td>\n",
       "    </tr>\n",
       "    <tr>\n",
       "      <th>5</th>\n",
       "      <td>2013-02-15</td>\n",
       "      <td>27.805</td>\n",
       "      <td>27.850</td>\n",
       "      <td>27.085</td>\n",
       "      <td>27.170</td>\n",
       "      <td>18195730</td>\n",
       "      <td>SBUX</td>\n",
       "    </tr>\n",
       "    <tr>\n",
       "      <th>6</th>\n",
       "      <td>2013-02-19</td>\n",
       "      <td>27.180</td>\n",
       "      <td>27.305</td>\n",
       "      <td>27.010</td>\n",
       "      <td>27.225</td>\n",
       "      <td>11760912</td>\n",
       "      <td>SBUX</td>\n",
       "    </tr>\n",
       "    <tr>\n",
       "      <th>7</th>\n",
       "      <td>2013-02-20</td>\n",
       "      <td>27.300</td>\n",
       "      <td>27.420</td>\n",
       "      <td>26.590</td>\n",
       "      <td>26.655</td>\n",
       "      <td>12472506</td>\n",
       "      <td>SBUX</td>\n",
       "    </tr>\n",
       "    <tr>\n",
       "      <th>8</th>\n",
       "      <td>2013-02-21</td>\n",
       "      <td>26.535</td>\n",
       "      <td>26.820</td>\n",
       "      <td>26.260</td>\n",
       "      <td>26.675</td>\n",
       "      <td>13896450</td>\n",
       "      <td>SBUX</td>\n",
       "    </tr>\n",
       "    <tr>\n",
       "      <th>9</th>\n",
       "      <td>2013-02-22</td>\n",
       "      <td>26.850</td>\n",
       "      <td>27.105</td>\n",
       "      <td>26.640</td>\n",
       "      <td>27.085</td>\n",
       "      <td>11487316</td>\n",
       "      <td>SBUX</td>\n",
       "    </tr>\n",
       "  </tbody>\n",
       "</table>\n",
       "</div>"
      ],
      "text/plain": [
       "         date    open    high     low   close    volume  Name\n",
       "0  2013-02-08  27.920  28.325  27.920  28.185   7146296  SBUX\n",
       "1  2013-02-11  28.260  28.260  27.930  28.070   5457354  SBUX\n",
       "2  2013-02-12  28.000  28.275  27.975  28.130   8665592  SBUX\n",
       "3  2013-02-13  28.230  28.230  27.750  27.915   7022056  SBUX\n",
       "4  2013-02-14  27.765  27.905  27.675  27.775   8899188  SBUX\n",
       "5  2013-02-15  27.805  27.850  27.085  27.170  18195730  SBUX\n",
       "6  2013-02-19  27.180  27.305  27.010  27.225  11760912  SBUX\n",
       "7  2013-02-20  27.300  27.420  26.590  26.655  12472506  SBUX\n",
       "8  2013-02-21  26.535  26.820  26.260  26.675  13896450  SBUX\n",
       "9  2013-02-22  26.850  27.105  26.640  27.085  11487316  SBUX"
      ]
     },
     "execution_count": 10,
     "metadata": {
      "tags": []
     },
     "output_type": "execute_result"
    }
   ],
   "source": [
    "df.head(10)"
   ]
  },
  {
   "cell_type": "code",
   "execution_count": null,
   "metadata": {
    "colab": {
     "base_uri": "https://localhost:8080/",
     "height": 206
    },
    "executionInfo": {
     "elapsed": 385,
     "status": "ok",
     "timestamp": 1587881919658,
     "user": {
      "displayName": "Lazy Programmer",
      "photoUrl": "",
      "userId": "14255399010036105472"
     },
     "user_tz": 240
    },
    "id": "X7YHHXXlIzWk",
    "outputId": "7293cb95-1879-4334-815a-cdc16ade4561",
    "pycharm": {
     "name": "#%%\n"
    }
   },
   "outputs": [
    {
     "data": {
      "text/html": [
       "<div>\n",
       "<style scoped>\n",
       "    .dataframe tbody tr th:only-of-type {\n",
       "        vertical-align: middle;\n",
       "    }\n",
       "\n",
       "    .dataframe tbody tr th {\n",
       "        vertical-align: top;\n",
       "    }\n",
       "\n",
       "    .dataframe thead th {\n",
       "        text-align: right;\n",
       "    }\n",
       "</style>\n",
       "<table border=\"1\" class=\"dataframe\">\n",
       "  <thead>\n",
       "    <tr style=\"text-align: right;\">\n",
       "      <th></th>\n",
       "      <th>date</th>\n",
       "      <th>open</th>\n",
       "      <th>high</th>\n",
       "      <th>low</th>\n",
       "      <th>close</th>\n",
       "      <th>volume</th>\n",
       "      <th>Name</th>\n",
       "    </tr>\n",
       "  </thead>\n",
       "  <tbody>\n",
       "    <tr>\n",
       "      <th>1254</th>\n",
       "      <td>2018-02-01</td>\n",
       "      <td>56.280</td>\n",
       "      <td>56.42</td>\n",
       "      <td>55.89</td>\n",
       "      <td>56.00</td>\n",
       "      <td>14690146</td>\n",
       "      <td>SBUX</td>\n",
       "    </tr>\n",
       "    <tr>\n",
       "      <th>1255</th>\n",
       "      <td>2018-02-02</td>\n",
       "      <td>55.900</td>\n",
       "      <td>56.32</td>\n",
       "      <td>55.70</td>\n",
       "      <td>55.77</td>\n",
       "      <td>15358909</td>\n",
       "      <td>SBUX</td>\n",
       "    </tr>\n",
       "    <tr>\n",
       "      <th>1256</th>\n",
       "      <td>2018-02-05</td>\n",
       "      <td>55.530</td>\n",
       "      <td>56.26</td>\n",
       "      <td>54.57</td>\n",
       "      <td>54.69</td>\n",
       "      <td>16059955</td>\n",
       "      <td>SBUX</td>\n",
       "    </tr>\n",
       "    <tr>\n",
       "      <th>1257</th>\n",
       "      <td>2018-02-06</td>\n",
       "      <td>53.685</td>\n",
       "      <td>56.06</td>\n",
       "      <td>53.56</td>\n",
       "      <td>55.61</td>\n",
       "      <td>17415065</td>\n",
       "      <td>SBUX</td>\n",
       "    </tr>\n",
       "    <tr>\n",
       "      <th>1258</th>\n",
       "      <td>2018-02-07</td>\n",
       "      <td>55.080</td>\n",
       "      <td>55.43</td>\n",
       "      <td>54.44</td>\n",
       "      <td>54.46</td>\n",
       "      <td>13927022</td>\n",
       "      <td>SBUX</td>\n",
       "    </tr>\n",
       "  </tbody>\n",
       "</table>\n",
       "</div>"
      ],
      "text/plain": [
       "            date    open   high    low  close    volume  Name\n",
       "1254  2018-02-01  56.280  56.42  55.89  56.00  14690146  SBUX\n",
       "1255  2018-02-02  55.900  56.32  55.70  55.77  15358909  SBUX\n",
       "1256  2018-02-05  55.530  56.26  54.57  54.69  16059955  SBUX\n",
       "1257  2018-02-06  53.685  56.06  53.56  55.61  17415065  SBUX\n",
       "1258  2018-02-07  55.080  55.43  54.44  54.46  13927022  SBUX"
      ]
     },
     "execution_count": 7,
     "metadata": {
      "tags": []
     },
     "output_type": "execute_result"
    }
   ],
   "source": [
    "df.tail()"
   ]
  },
  {
   "cell_type": "code",
   "execution_count": null,
   "metadata": {
    "colab": {
     "base_uri": "https://localhost:8080/",
     "height": 260
    },
    "executionInfo": {
     "elapsed": 376,
     "status": "ok",
     "timestamp": 1587881925090,
     "user": {
      "displayName": "Lazy Programmer",
      "photoUrl": "",
      "userId": "14255399010036105472"
     },
     "user_tz": 240
    },
    "id": "5dwLJEb4I0sl",
    "outputId": "e33501d8-b9b5-456a-cdac-3e5e2e3aff4b",
    "pycharm": {
     "name": "#%%\n"
    }
   },
   "outputs": [
    {
     "name": "stdout",
     "output_type": "stream",
     "text": [
      "<class 'pandas.core.frame.DataFrame'>\n",
      "RangeIndex: 1259 entries, 0 to 1258\n",
      "Data columns (total 7 columns):\n",
      " #   Column  Non-Null Count  Dtype  \n",
      "---  ------  --------------  -----  \n",
      " 0   date    1259 non-null   object \n",
      " 1   open    1259 non-null   float64\n",
      " 2   high    1259 non-null   float64\n",
      " 3   low     1259 non-null   float64\n",
      " 4   close   1259 non-null   float64\n",
      " 5   volume  1259 non-null   int64  \n",
      " 6   Name    1259 non-null   object \n",
      "dtypes: float64(4), int64(1), object(2)\n",
      "memory usage: 69.0+ KB\n"
     ]
    }
   ],
   "source": [
    "df.info()"
   ]
  },
  {
   "cell_type": "markdown",
   "metadata": {
    "id": "95921SlgJoz7",
    "pycharm": {
     "name": "#%% md\n"
    }
   },
   "source": [
    "## Selecting Rows and Columns"
   ]
  },
  {
   "cell_type": "code",
   "execution_count": null,
   "metadata": {
    "colab": {
     "base_uri": "https://localhost:8080/",
     "height": 730
    },
    "executionInfo": {
     "elapsed": 479,
     "status": "error",
     "timestamp": 1587884528465,
     "user": {
      "displayName": "Lazy Programmer",
      "photoUrl": "",
      "userId": "14255399010036105472"
     },
     "user_tz": 240
    },
    "id": "Yfo8TUtmSvQX",
    "outputId": "2f36906f-9ada-464d-fcb5-9e23e300f873",
    "pycharm": {
     "name": "#%%\n"
    }
   },
   "outputs": [
    {
     "ename": "KeyError",
     "evalue": "ignored",
     "output_type": "error",
     "traceback": [
      "\u001b[0;31m---------------------------------------------------------------------------\u001b[0m",
      "\u001b[0;31mKeyError\u001b[0m                                  Traceback (most recent call last)",
      "\u001b[0;32m/usr/local/lib/python3.6/dist-packages/pandas/core/indexes/base.py\u001b[0m in \u001b[0;36mget_loc\u001b[0;34m(self, key, method, tolerance)\u001b[0m\n\u001b[1;32m   2645\u001b[0m             \u001b[0;32mtry\u001b[0m\u001b[0;34m:\u001b[0m\u001b[0;34m\u001b[0m\u001b[0;34m\u001b[0m\u001b[0m\n\u001b[0;32m-> 2646\u001b[0;31m                 \u001b[0;32mreturn\u001b[0m \u001b[0mself\u001b[0m\u001b[0;34m.\u001b[0m\u001b[0m_engine\u001b[0m\u001b[0;34m.\u001b[0m\u001b[0mget_loc\u001b[0m\u001b[0;34m(\u001b[0m\u001b[0mkey\u001b[0m\u001b[0;34m)\u001b[0m\u001b[0;34m\u001b[0m\u001b[0;34m\u001b[0m\u001b[0m\n\u001b[0m\u001b[1;32m   2647\u001b[0m             \u001b[0;32mexcept\u001b[0m \u001b[0mKeyError\u001b[0m\u001b[0;34m:\u001b[0m\u001b[0;34m\u001b[0m\u001b[0;34m\u001b[0m\u001b[0m\n",
      "\u001b[0;32mpandas/_libs/index.pyx\u001b[0m in \u001b[0;36mpandas._libs.index.IndexEngine.get_loc\u001b[0;34m()\u001b[0m\n",
      "\u001b[0;32mpandas/_libs/index.pyx\u001b[0m in \u001b[0;36mpandas._libs.index.IndexEngine.get_loc\u001b[0;34m()\u001b[0m\n",
      "\u001b[0;32mpandas/_libs/hashtable_class_helper.pxi\u001b[0m in \u001b[0;36mpandas._libs.hashtable.PyObjectHashTable.get_item\u001b[0;34m()\u001b[0m\n",
      "\u001b[0;32mpandas/_libs/hashtable_class_helper.pxi\u001b[0m in \u001b[0;36mpandas._libs.hashtable.PyObjectHashTable.get_item\u001b[0;34m()\u001b[0m\n",
      "\u001b[0;31mKeyError\u001b[0m: (0, 0)",
      "\nDuring handling of the above exception, another exception occurred:\n",
      "\u001b[0;31mKeyError\u001b[0m                                  Traceback (most recent call last)",
      "\u001b[0;32m<ipython-input-13-0714b26a0933>\u001b[0m in \u001b[0;36m<module>\u001b[0;34m()\u001b[0m\n\u001b[0;32m----> 1\u001b[0;31m \u001b[0mdf\u001b[0m\u001b[0;34m[\u001b[0m\u001b[0;36m0\u001b[0m\u001b[0;34m,\u001b[0m\u001b[0;36m0\u001b[0m\u001b[0;34m]\u001b[0m \u001b[0;31m# doesn't work\u001b[0m\u001b[0;34m\u001b[0m\u001b[0;34m\u001b[0m\u001b[0m\n\u001b[0m",
      "\u001b[0;32m/usr/local/lib/python3.6/dist-packages/pandas/core/frame.py\u001b[0m in \u001b[0;36m__getitem__\u001b[0;34m(self, key)\u001b[0m\n\u001b[1;32m   2798\u001b[0m             \u001b[0;32mif\u001b[0m \u001b[0mself\u001b[0m\u001b[0;34m.\u001b[0m\u001b[0mcolumns\u001b[0m\u001b[0;34m.\u001b[0m\u001b[0mnlevels\u001b[0m \u001b[0;34m>\u001b[0m \u001b[0;36m1\u001b[0m\u001b[0;34m:\u001b[0m\u001b[0;34m\u001b[0m\u001b[0;34m\u001b[0m\u001b[0m\n\u001b[1;32m   2799\u001b[0m                 \u001b[0;32mreturn\u001b[0m \u001b[0mself\u001b[0m\u001b[0;34m.\u001b[0m\u001b[0m_getitem_multilevel\u001b[0m\u001b[0;34m(\u001b[0m\u001b[0mkey\u001b[0m\u001b[0;34m)\u001b[0m\u001b[0;34m\u001b[0m\u001b[0;34m\u001b[0m\u001b[0m\n\u001b[0;32m-> 2800\u001b[0;31m             \u001b[0mindexer\u001b[0m \u001b[0;34m=\u001b[0m \u001b[0mself\u001b[0m\u001b[0;34m.\u001b[0m\u001b[0mcolumns\u001b[0m\u001b[0;34m.\u001b[0m\u001b[0mget_loc\u001b[0m\u001b[0;34m(\u001b[0m\u001b[0mkey\u001b[0m\u001b[0;34m)\u001b[0m\u001b[0;34m\u001b[0m\u001b[0;34m\u001b[0m\u001b[0m\n\u001b[0m\u001b[1;32m   2801\u001b[0m             \u001b[0;32mif\u001b[0m \u001b[0mis_integer\u001b[0m\u001b[0;34m(\u001b[0m\u001b[0mindexer\u001b[0m\u001b[0;34m)\u001b[0m\u001b[0;34m:\u001b[0m\u001b[0;34m\u001b[0m\u001b[0;34m\u001b[0m\u001b[0m\n\u001b[1;32m   2802\u001b[0m                 \u001b[0mindexer\u001b[0m \u001b[0;34m=\u001b[0m \u001b[0;34m[\u001b[0m\u001b[0mindexer\u001b[0m\u001b[0;34m]\u001b[0m\u001b[0;34m\u001b[0m\u001b[0;34m\u001b[0m\u001b[0m\n",
      "\u001b[0;32m/usr/local/lib/python3.6/dist-packages/pandas/core/indexes/base.py\u001b[0m in \u001b[0;36mget_loc\u001b[0;34m(self, key, method, tolerance)\u001b[0m\n\u001b[1;32m   2646\u001b[0m                 \u001b[0;32mreturn\u001b[0m \u001b[0mself\u001b[0m\u001b[0;34m.\u001b[0m\u001b[0m_engine\u001b[0m\u001b[0;34m.\u001b[0m\u001b[0mget_loc\u001b[0m\u001b[0;34m(\u001b[0m\u001b[0mkey\u001b[0m\u001b[0;34m)\u001b[0m\u001b[0;34m\u001b[0m\u001b[0;34m\u001b[0m\u001b[0m\n\u001b[1;32m   2647\u001b[0m             \u001b[0;32mexcept\u001b[0m \u001b[0mKeyError\u001b[0m\u001b[0;34m:\u001b[0m\u001b[0;34m\u001b[0m\u001b[0;34m\u001b[0m\u001b[0m\n\u001b[0;32m-> 2648\u001b[0;31m                 \u001b[0;32mreturn\u001b[0m \u001b[0mself\u001b[0m\u001b[0;34m.\u001b[0m\u001b[0m_engine\u001b[0m\u001b[0;34m.\u001b[0m\u001b[0mget_loc\u001b[0m\u001b[0;34m(\u001b[0m\u001b[0mself\u001b[0m\u001b[0;34m.\u001b[0m\u001b[0m_maybe_cast_indexer\u001b[0m\u001b[0;34m(\u001b[0m\u001b[0mkey\u001b[0m\u001b[0;34m)\u001b[0m\u001b[0;34m)\u001b[0m\u001b[0;34m\u001b[0m\u001b[0;34m\u001b[0m\u001b[0m\n\u001b[0m\u001b[1;32m   2649\u001b[0m         \u001b[0mindexer\u001b[0m \u001b[0;34m=\u001b[0m \u001b[0mself\u001b[0m\u001b[0;34m.\u001b[0m\u001b[0mget_indexer\u001b[0m\u001b[0;34m(\u001b[0m\u001b[0;34m[\u001b[0m\u001b[0mkey\u001b[0m\u001b[0;34m]\u001b[0m\u001b[0;34m,\u001b[0m \u001b[0mmethod\u001b[0m\u001b[0;34m=\u001b[0m\u001b[0mmethod\u001b[0m\u001b[0;34m,\u001b[0m \u001b[0mtolerance\u001b[0m\u001b[0;34m=\u001b[0m\u001b[0mtolerance\u001b[0m\u001b[0;34m)\u001b[0m\u001b[0;34m\u001b[0m\u001b[0;34m\u001b[0m\u001b[0m\n\u001b[1;32m   2650\u001b[0m         \u001b[0;32mif\u001b[0m \u001b[0mindexer\u001b[0m\u001b[0;34m.\u001b[0m\u001b[0mndim\u001b[0m \u001b[0;34m>\u001b[0m \u001b[0;36m1\u001b[0m \u001b[0;32mor\u001b[0m \u001b[0mindexer\u001b[0m\u001b[0;34m.\u001b[0m\u001b[0msize\u001b[0m \u001b[0;34m>\u001b[0m \u001b[0;36m1\u001b[0m\u001b[0;34m:\u001b[0m\u001b[0;34m\u001b[0m\u001b[0;34m\u001b[0m\u001b[0m\n",
      "\u001b[0;32mpandas/_libs/index.pyx\u001b[0m in \u001b[0;36mpandas._libs.index.IndexEngine.get_loc\u001b[0;34m()\u001b[0m\n",
      "\u001b[0;32mpandas/_libs/index.pyx\u001b[0m in \u001b[0;36mpandas._libs.index.IndexEngine.get_loc\u001b[0;34m()\u001b[0m\n",
      "\u001b[0;32mpandas/_libs/hashtable_class_helper.pxi\u001b[0m in \u001b[0;36mpandas._libs.hashtable.PyObjectHashTable.get_item\u001b[0;34m()\u001b[0m\n",
      "\u001b[0;32mpandas/_libs/hashtable_class_helper.pxi\u001b[0m in \u001b[0;36mpandas._libs.hashtable.PyObjectHashTable.get_item\u001b[0;34m()\u001b[0m\n",
      "\u001b[0;31mKeyError\u001b[0m: (0, 0)"
     ]
    }
   ],
   "source": [
    "df[0,0] # doesn't work"
   ]
  },
  {
   "cell_type": "code",
   "execution_count": null,
   "metadata": {
    "colab": {
     "base_uri": "https://localhost:8080/",
     "height": 34
    },
    "executionInfo": {
     "elapsed": 478,
     "status": "ok",
     "timestamp": 1588137139112,
     "user": {
      "displayName": "Lazy Programmer",
      "photoUrl": "",
      "userId": "14255399010036105472"
     },
     "user_tz": 240
    },
    "id": "4imWW4tHS6Ma",
    "outputId": "704480bc-4746-416a-cdc2-ecbdc05667f9",
    "pycharm": {
     "name": "#%%\n"
    }
   },
   "outputs": [
    {
     "data": {
      "text/plain": [
       "Index(['date', 'open', 'high', 'low', 'close', 'volume', 'Name'], dtype='object')"
      ]
     },
     "execution_count": 5,
     "metadata": {
      "tags": []
     },
     "output_type": "execute_result"
    }
   ],
   "source": [
    "df.columns"
   ]
  },
  {
   "cell_type": "code",
   "execution_count": null,
   "metadata": {
    "id": "luEwbCEGWJNb",
    "pycharm": {
     "name": "#%%\n"
    }
   },
   "outputs": [],
   "source": [
    "# columns can be assigned\n",
    "df.columns = ['date', 'open', 'high', 'low', 'close', 'volume', 'name']"
   ]
  },
  {
   "cell_type": "code",
   "execution_count": null,
   "metadata": {
    "colab": {
     "base_uri": "https://localhost:8080/",
     "height": 225
    },
    "executionInfo": {
     "elapsed": 517,
     "status": "ok",
     "timestamp": 1588137143534,
     "user": {
      "displayName": "Lazy Programmer",
      "photoUrl": "",
      "userId": "14255399010036105472"
     },
     "user_tz": 240
    },
    "id": "g6sQLWwTS_lv",
    "outputId": "69f478c1-8bcd-4c95-becd-95e261974d7b",
    "pycharm": {
     "name": "#%%\n"
    }
   },
   "outputs": [
    {
     "data": {
      "text/plain": [
       "0       27.920\n",
       "1       28.260\n",
       "2       28.000\n",
       "3       28.230\n",
       "4       27.765\n",
       "         ...  \n",
       "1254    56.280\n",
       "1255    55.900\n",
       "1256    55.530\n",
       "1257    53.685\n",
       "1258    55.080\n",
       "Name: open, Length: 1259, dtype: float64"
      ]
     },
     "execution_count": 7,
     "metadata": {
      "tags": []
     },
     "output_type": "execute_result"
    }
   ],
   "source": [
    "df['open']"
   ]
  },
  {
   "cell_type": "code",
   "execution_count": null,
   "metadata": {
    "colab": {
     "base_uri": "https://localhost:8080/",
     "height": 424
    },
    "executionInfo": {
     "elapsed": 501,
     "status": "ok",
     "timestamp": 1588137145743,
     "user": {
      "displayName": "Lazy Programmer",
      "photoUrl": "",
      "userId": "14255399010036105472"
     },
     "user_tz": 240
    },
    "id": "989xFodRTBUK",
    "outputId": "18c2a001-7ac3-4051-f4e1-7d585456c85e",
    "pycharm": {
     "name": "#%%\n"
    }
   },
   "outputs": [
    {
     "data": {
      "text/html": [
       "<div>\n",
       "<style scoped>\n",
       "    .dataframe tbody tr th:only-of-type {\n",
       "        vertical-align: middle;\n",
       "    }\n",
       "\n",
       "    .dataframe tbody tr th {\n",
       "        vertical-align: top;\n",
       "    }\n",
       "\n",
       "    .dataframe thead th {\n",
       "        text-align: right;\n",
       "    }\n",
       "</style>\n",
       "<table border=\"1\" class=\"dataframe\">\n",
       "  <thead>\n",
       "    <tr style=\"text-align: right;\">\n",
       "      <th></th>\n",
       "      <th>open</th>\n",
       "      <th>close</th>\n",
       "    </tr>\n",
       "  </thead>\n",
       "  <tbody>\n",
       "    <tr>\n",
       "      <th>0</th>\n",
       "      <td>27.920</td>\n",
       "      <td>28.185</td>\n",
       "    </tr>\n",
       "    <tr>\n",
       "      <th>1</th>\n",
       "      <td>28.260</td>\n",
       "      <td>28.070</td>\n",
       "    </tr>\n",
       "    <tr>\n",
       "      <th>2</th>\n",
       "      <td>28.000</td>\n",
       "      <td>28.130</td>\n",
       "    </tr>\n",
       "    <tr>\n",
       "      <th>3</th>\n",
       "      <td>28.230</td>\n",
       "      <td>27.915</td>\n",
       "    </tr>\n",
       "    <tr>\n",
       "      <th>4</th>\n",
       "      <td>27.765</td>\n",
       "      <td>27.775</td>\n",
       "    </tr>\n",
       "    <tr>\n",
       "      <th>...</th>\n",
       "      <td>...</td>\n",
       "      <td>...</td>\n",
       "    </tr>\n",
       "    <tr>\n",
       "      <th>1254</th>\n",
       "      <td>56.280</td>\n",
       "      <td>56.000</td>\n",
       "    </tr>\n",
       "    <tr>\n",
       "      <th>1255</th>\n",
       "      <td>55.900</td>\n",
       "      <td>55.770</td>\n",
       "    </tr>\n",
       "    <tr>\n",
       "      <th>1256</th>\n",
       "      <td>55.530</td>\n",
       "      <td>54.690</td>\n",
       "    </tr>\n",
       "    <tr>\n",
       "      <th>1257</th>\n",
       "      <td>53.685</td>\n",
       "      <td>55.610</td>\n",
       "    </tr>\n",
       "    <tr>\n",
       "      <th>1258</th>\n",
       "      <td>55.080</td>\n",
       "      <td>54.460</td>\n",
       "    </tr>\n",
       "  </tbody>\n",
       "</table>\n",
       "<p>1259 rows × 2 columns</p>\n",
       "</div>"
      ],
      "text/plain": [
       "        open   close\n",
       "0     27.920  28.185\n",
       "1     28.260  28.070\n",
       "2     28.000  28.130\n",
       "3     28.230  27.915\n",
       "4     27.765  27.775\n",
       "...      ...     ...\n",
       "1254  56.280  56.000\n",
       "1255  55.900  55.770\n",
       "1256  55.530  54.690\n",
       "1257  53.685  55.610\n",
       "1258  55.080  54.460\n",
       "\n",
       "[1259 rows x 2 columns]"
      ]
     },
     "execution_count": 8,
     "metadata": {
      "tags": []
     },
     "output_type": "execute_result"
    }
   ],
   "source": [
    "df[['open', 'close']]"
   ]
  },
  {
   "cell_type": "code",
   "execution_count": null,
   "metadata": {
    "colab": {
     "base_uri": "https://localhost:8080/",
     "height": 34
    },
    "executionInfo": {
     "elapsed": 435,
     "status": "ok",
     "timestamp": 1587884646656,
     "user": {
      "displayName": "Lazy Programmer",
      "photoUrl": "",
      "userId": "14255399010036105472"
     },
     "user_tz": 240
    },
    "id": "KSdHWTEFTFY6",
    "outputId": "f842f804-93d0-4b02-9115-ed29f2e8acbf",
    "pycharm": {
     "name": "#%%\n"
    }
   },
   "outputs": [
    {
     "data": {
      "text/plain": [
       "pandas.core.series.Series"
      ]
     },
     "execution_count": 19,
     "metadata": {
      "tags": []
     },
     "output_type": "execute_result"
    }
   ],
   "source": [
    "type(df['open'])"
   ]
  },
  {
   "cell_type": "code",
   "execution_count": null,
   "metadata": {
    "colab": {
     "base_uri": "https://localhost:8080/",
     "height": 34
    },
    "executionInfo": {
     "elapsed": 416,
     "status": "ok",
     "timestamp": 1587884659111,
     "user": {
      "displayName": "Lazy Programmer",
      "photoUrl": "",
      "userId": "14255399010036105472"
     },
     "user_tz": 240
    },
    "id": "YUtIQ1l4TPSO",
    "outputId": "13480bf1-61ab-438e-82b7-9947982ba6bd",
    "pycharm": {
     "name": "#%%\n"
    }
   },
   "outputs": [
    {
     "data": {
      "text/plain": [
       "pandas.core.frame.DataFrame"
      ]
     },
     "execution_count": 20,
     "metadata": {
      "tags": []
     },
     "output_type": "execute_result"
    }
   ],
   "source": [
    "type(df[['open', 'close']])"
   ]
  },
  {
   "cell_type": "code",
   "execution_count": null,
   "metadata": {
    "colab": {
     "base_uri": "https://localhost:8080/",
     "height": 156
    },
    "executionInfo": {
     "elapsed": 420,
     "status": "ok",
     "timestamp": 1587884682849,
     "user": {
      "displayName": "Lazy Programmer",
      "photoUrl": "",
      "userId": "14255399010036105472"
     },
     "user_tz": 240
    },
    "id": "srsHZ4LOTVuU",
    "outputId": "b29c901f-9057-4d46-d13d-10ca364bdcc1",
    "pycharm": {
     "name": "#%%\n"
    }
   },
   "outputs": [
    {
     "data": {
      "text/plain": [
       "date      2013-02-08\n",
       "open           27.92\n",
       "high          28.325\n",
       "low            27.92\n",
       "close         28.185\n",
       "volume       7146296\n",
       "Name            SBUX\n",
       "Name: 0, dtype: object"
      ]
     },
     "execution_count": 21,
     "metadata": {
      "tags": []
     },
     "output_type": "execute_result"
    }
   ],
   "source": [
    "df.iloc[0]"
   ]
  },
  {
   "cell_type": "code",
   "execution_count": null,
   "metadata": {
    "colab": {
     "base_uri": "https://localhost:8080/",
     "height": 156
    },
    "executionInfo": {
     "elapsed": 523,
     "status": "ok",
     "timestamp": 1587884688698,
     "user": {
      "displayName": "Lazy Programmer",
      "photoUrl": "",
      "userId": "14255399010036105472"
     },
     "user_tz": 240
    },
    "id": "JqROAMHCTXjX",
    "outputId": "2b1d84dc-9849-4218-bafe-64bc77666898",
    "pycharm": {
     "name": "#%%\n"
    }
   },
   "outputs": [
    {
     "data": {
      "text/plain": [
       "date      2013-02-08\n",
       "open           27.92\n",
       "high          28.325\n",
       "low            27.92\n",
       "close         28.185\n",
       "volume       7146296\n",
       "Name            SBUX\n",
       "Name: 0, dtype: object"
      ]
     },
     "execution_count": 22,
     "metadata": {
      "tags": []
     },
     "output_type": "execute_result"
    }
   ],
   "source": [
    "df.loc[0]"
   ]
  },
  {
   "cell_type": "code",
   "execution_count": null,
   "metadata": {
    "id": "a23A0OwrTY9o",
    "pycharm": {
     "name": "#%%\n"
    }
   },
   "outputs": [],
   "source": [
    "df2 = pd.read_csv('sbux.csv', index_col='date')"
   ]
  },
  {
   "cell_type": "code",
   "execution_count": null,
   "metadata": {
    "colab": {
     "base_uri": "https://localhost:8080/",
     "height": 238
    },
    "executionInfo": {
     "elapsed": 413,
     "status": "ok",
     "timestamp": 1588137160746,
     "user": {
      "displayName": "Lazy Programmer",
      "photoUrl": "",
      "userId": "14255399010036105472"
     },
     "user_tz": 240
    },
    "id": "1T2BhoCbUBta",
    "outputId": "48b49959-a72f-44de-d3f9-6d7c2e06b0c8",
    "pycharm": {
     "name": "#%%\n"
    }
   },
   "outputs": [
    {
     "data": {
      "text/html": [
       "<div>\n",
       "<style scoped>\n",
       "    .dataframe tbody tr th:only-of-type {\n",
       "        vertical-align: middle;\n",
       "    }\n",
       "\n",
       "    .dataframe tbody tr th {\n",
       "        vertical-align: top;\n",
       "    }\n",
       "\n",
       "    .dataframe thead th {\n",
       "        text-align: right;\n",
       "    }\n",
       "</style>\n",
       "<table border=\"1\" class=\"dataframe\">\n",
       "  <thead>\n",
       "    <tr style=\"text-align: right;\">\n",
       "      <th></th>\n",
       "      <th>open</th>\n",
       "      <th>high</th>\n",
       "      <th>low</th>\n",
       "      <th>close</th>\n",
       "      <th>volume</th>\n",
       "      <th>Name</th>\n",
       "    </tr>\n",
       "    <tr>\n",
       "      <th>date</th>\n",
       "      <th></th>\n",
       "      <th></th>\n",
       "      <th></th>\n",
       "      <th></th>\n",
       "      <th></th>\n",
       "      <th></th>\n",
       "    </tr>\n",
       "  </thead>\n",
       "  <tbody>\n",
       "    <tr>\n",
       "      <th>2013-02-08</th>\n",
       "      <td>27.920</td>\n",
       "      <td>28.325</td>\n",
       "      <td>27.920</td>\n",
       "      <td>28.185</td>\n",
       "      <td>7146296</td>\n",
       "      <td>SBUX</td>\n",
       "    </tr>\n",
       "    <tr>\n",
       "      <th>2013-02-11</th>\n",
       "      <td>28.260</td>\n",
       "      <td>28.260</td>\n",
       "      <td>27.930</td>\n",
       "      <td>28.070</td>\n",
       "      <td>5457354</td>\n",
       "      <td>SBUX</td>\n",
       "    </tr>\n",
       "    <tr>\n",
       "      <th>2013-02-12</th>\n",
       "      <td>28.000</td>\n",
       "      <td>28.275</td>\n",
       "      <td>27.975</td>\n",
       "      <td>28.130</td>\n",
       "      <td>8665592</td>\n",
       "      <td>SBUX</td>\n",
       "    </tr>\n",
       "    <tr>\n",
       "      <th>2013-02-13</th>\n",
       "      <td>28.230</td>\n",
       "      <td>28.230</td>\n",
       "      <td>27.750</td>\n",
       "      <td>27.915</td>\n",
       "      <td>7022056</td>\n",
       "      <td>SBUX</td>\n",
       "    </tr>\n",
       "    <tr>\n",
       "      <th>2013-02-14</th>\n",
       "      <td>27.765</td>\n",
       "      <td>27.905</td>\n",
       "      <td>27.675</td>\n",
       "      <td>27.775</td>\n",
       "      <td>8899188</td>\n",
       "      <td>SBUX</td>\n",
       "    </tr>\n",
       "  </tbody>\n",
       "</table>\n",
       "</div>"
      ],
      "text/plain": [
       "              open    high     low   close   volume  Name\n",
       "date                                                     \n",
       "2013-02-08  27.920  28.325  27.920  28.185  7146296  SBUX\n",
       "2013-02-11  28.260  28.260  27.930  28.070  5457354  SBUX\n",
       "2013-02-12  28.000  28.275  27.975  28.130  8665592  SBUX\n",
       "2013-02-13  28.230  28.230  27.750  27.915  7022056  SBUX\n",
       "2013-02-14  27.765  27.905  27.675  27.775  8899188  SBUX"
      ]
     },
     "execution_count": 11,
     "metadata": {
      "tags": []
     },
     "output_type": "execute_result"
    }
   ],
   "source": [
    "df2.head()"
   ]
  },
  {
   "cell_type": "code",
   "execution_count": null,
   "metadata": {
    "colab": {
     "base_uri": "https://localhost:8080/",
     "height": 139
    },
    "executionInfo": {
     "elapsed": 409,
     "status": "ok",
     "timestamp": 1587884873562,
     "user": {
      "displayName": "Lazy Programmer",
      "photoUrl": "",
      "userId": "14255399010036105472"
     },
     "user_tz": 240
    },
    "id": "4SKGXaF1UDTZ",
    "outputId": "150fe794-2f2c-4365-c438-5f8a8bef8bfb",
    "pycharm": {
     "name": "#%%\n"
    }
   },
   "outputs": [
    {
     "data": {
      "text/plain": [
       "open        27.92\n",
       "high       28.325\n",
       "low         27.92\n",
       "close      28.185\n",
       "volume    7146296\n",
       "Name         SBUX\n",
       "Name: 2013-02-08, dtype: object"
      ]
     },
     "execution_count": 26,
     "metadata": {
      "tags": []
     },
     "output_type": "execute_result"
    }
   ],
   "source": [
    "df2.loc['2013-02-08']"
   ]
  },
  {
   "cell_type": "code",
   "execution_count": null,
   "metadata": {
    "colab": {
     "base_uri": "https://localhost:8080/",
     "height": 34
    },
    "executionInfo": {
     "elapsed": 395,
     "status": "ok",
     "timestamp": 1587884903254,
     "user": {
      "displayName": "Lazy Programmer",
      "photoUrl": "",
      "userId": "14255399010036105472"
     },
     "user_tz": 240
    },
    "id": "480Q46qhULyA",
    "outputId": "cc1fe641-aeef-4117-bdae-bf062edaa82d",
    "pycharm": {
     "name": "#%%\n"
    }
   },
   "outputs": [
    {
     "data": {
      "text/plain": [
       "pandas.core.series.Series"
      ]
     },
     "execution_count": 27,
     "metadata": {
      "tags": []
     },
     "output_type": "execute_result"
    }
   ],
   "source": [
    "type(df2.loc['2013-02-08'])"
   ]
  },
  {
   "cell_type": "code",
   "execution_count": null,
   "metadata": {
    "colab": {
     "base_uri": "https://localhost:8080/",
     "height": 143
    },
    "executionInfo": {
     "elapsed": 961,
     "status": "ok",
     "timestamp": 1588137170266,
     "user": {
      "displayName": "Lazy Programmer",
      "photoUrl": "",
      "userId": "14255399010036105472"
     },
     "user_tz": 240
    },
    "id": "aHtOLoscUbkC",
    "outputId": "a35c7e23-1932-44d7-e30b-b27fc1da7a5c",
    "pycharm": {
     "name": "#%%\n"
    }
   },
   "outputs": [
    {
     "data": {
      "text/html": [
       "<div>\n",
       "<style scoped>\n",
       "    .dataframe tbody tr th:only-of-type {\n",
       "        vertical-align: middle;\n",
       "    }\n",
       "\n",
       "    .dataframe tbody tr th {\n",
       "        vertical-align: top;\n",
       "    }\n",
       "\n",
       "    .dataframe thead th {\n",
       "        text-align: right;\n",
       "    }\n",
       "</style>\n",
       "<table border=\"1\" class=\"dataframe\">\n",
       "  <thead>\n",
       "    <tr style=\"text-align: right;\">\n",
       "      <th></th>\n",
       "      <th>date</th>\n",
       "      <th>open</th>\n",
       "      <th>high</th>\n",
       "      <th>low</th>\n",
       "      <th>close</th>\n",
       "      <th>volume</th>\n",
       "      <th>name</th>\n",
       "    </tr>\n",
       "  </thead>\n",
       "  <tbody>\n",
       "    <tr>\n",
       "      <th>1087</th>\n",
       "      <td>2017-06-05</td>\n",
       "      <td>64.85</td>\n",
       "      <td>64.870</td>\n",
       "      <td>64.18</td>\n",
       "      <td>64.27</td>\n",
       "      <td>6809284</td>\n",
       "      <td>SBUX</td>\n",
       "    </tr>\n",
       "    <tr>\n",
       "      <th>1088</th>\n",
       "      <td>2017-06-06</td>\n",
       "      <td>64.22</td>\n",
       "      <td>64.350</td>\n",
       "      <td>64.05</td>\n",
       "      <td>64.16</td>\n",
       "      <td>5448439</td>\n",
       "      <td>SBUX</td>\n",
       "    </tr>\n",
       "    <tr>\n",
       "      <th>1089</th>\n",
       "      <td>2017-06-07</td>\n",
       "      <td>64.13</td>\n",
       "      <td>64.295</td>\n",
       "      <td>63.34</td>\n",
       "      <td>63.50</td>\n",
       "      <td>8364994</td>\n",
       "      <td>SBUX</td>\n",
       "    </tr>\n",
       "  </tbody>\n",
       "</table>\n",
       "</div>"
      ],
      "text/plain": [
       "            date   open    high    low  close   volume  name\n",
       "1087  2017-06-05  64.85  64.870  64.18  64.27  6809284  SBUX\n",
       "1088  2017-06-06  64.22  64.350  64.05  64.16  5448439  SBUX\n",
       "1089  2017-06-07  64.13  64.295  63.34  63.50  8364994  SBUX"
      ]
     },
     "execution_count": 12,
     "metadata": {
      "tags": []
     },
     "output_type": "execute_result"
    }
   ],
   "source": [
    "df[df['open'] > 64]"
   ]
  },
  {
   "cell_type": "code",
   "execution_count": null,
   "metadata": {
    "colab": {
     "base_uri": "https://localhost:8080/",
     "height": 49
    },
    "executionInfo": {
     "elapsed": 477,
     "status": "ok",
     "timestamp": 1588137172904,
     "user": {
      "displayName": "Lazy Programmer",
      "photoUrl": "",
      "userId": "14255399010036105472"
     },
     "user_tz": 240
    },
    "id": "mreoYJ2mUnRd",
    "outputId": "12f9749a-40a2-4c8e-ecab-4481c99acbf6",
    "pycharm": {
     "name": "#%%\n"
    }
   },
   "outputs": [
    {
     "data": {
      "text/html": [
       "<div>\n",
       "<style scoped>\n",
       "    .dataframe tbody tr th:only-of-type {\n",
       "        vertical-align: middle;\n",
       "    }\n",
       "\n",
       "    .dataframe tbody tr th {\n",
       "        vertical-align: top;\n",
       "    }\n",
       "\n",
       "    .dataframe thead th {\n",
       "        text-align: right;\n",
       "    }\n",
       "</style>\n",
       "<table border=\"1\" class=\"dataframe\">\n",
       "  <thead>\n",
       "    <tr style=\"text-align: right;\">\n",
       "      <th></th>\n",
       "      <th>date</th>\n",
       "      <th>open</th>\n",
       "      <th>high</th>\n",
       "      <th>low</th>\n",
       "      <th>close</th>\n",
       "      <th>volume</th>\n",
       "      <th>name</th>\n",
       "    </tr>\n",
       "  </thead>\n",
       "  <tbody>\n",
       "  </tbody>\n",
       "</table>\n",
       "</div>"
      ],
      "text/plain": [
       "Empty DataFrame\n",
       "Columns: [date, open, high, low, close, volume, name]\n",
       "Index: []"
      ]
     },
     "execution_count": 13,
     "metadata": {
      "tags": []
     },
     "output_type": "execute_result"
    }
   ],
   "source": [
    "df[df['name'] != 'SBUX']"
   ]
  },
  {
   "cell_type": "code",
   "execution_count": null,
   "metadata": {
    "colab": {
     "base_uri": "https://localhost:8080/",
     "height": 225
    },
    "executionInfo": {
     "elapsed": 406,
     "status": "ok",
     "timestamp": 1588137175377,
     "user": {
      "displayName": "Lazy Programmer",
      "photoUrl": "",
      "userId": "14255399010036105472"
     },
     "user_tz": 240
    },
    "id": "KV2R47gQU8ZN",
    "outputId": "d470a6a5-2a7c-4f0e-d124-ba0fac1eb785",
    "pycharm": {
     "name": "#%%\n"
    }
   },
   "outputs": [
    {
     "data": {
      "text/plain": [
       "0       False\n",
       "1       False\n",
       "2       False\n",
       "3       False\n",
       "4       False\n",
       "        ...  \n",
       "1254    False\n",
       "1255    False\n",
       "1256    False\n",
       "1257    False\n",
       "1258    False\n",
       "Name: name, Length: 1259, dtype: bool"
      ]
     },
     "execution_count": 14,
     "metadata": {
      "tags": []
     },
     "output_type": "execute_result"
    }
   ],
   "source": [
    "df['name'] != 'SBUX'"
   ]
  },
  {
   "cell_type": "code",
   "execution_count": null,
   "metadata": {
    "colab": {
     "base_uri": "https://localhost:8080/",
     "height": 34
    },
    "executionInfo": {
     "elapsed": 381,
     "status": "ok",
     "timestamp": 1588137180514,
     "user": {
      "displayName": "Lazy Programmer",
      "photoUrl": "",
      "userId": "14255399010036105472"
     },
     "user_tz": 240
    },
    "id": "-_8v5uTVVBKg",
    "outputId": "4db1475c-cd17-4ce4-b557-33ef1114c8f5",
    "pycharm": {
     "name": "#%%\n"
    }
   },
   "outputs": [
    {
     "data": {
      "text/plain": [
       "pandas.core.series.Series"
      ]
     },
     "execution_count": 15,
     "metadata": {
      "tags": []
     },
     "output_type": "execute_result"
    }
   ],
   "source": [
    "type(df['name'] != 'SBUX')"
   ]
  },
  {
   "cell_type": "code",
   "execution_count": null,
   "metadata": {
    "colab": {
     "base_uri": "https://localhost:8080/",
     "height": 34
    },
    "executionInfo": {
     "elapsed": 405,
     "status": "ok",
     "timestamp": 1587885159603,
     "user": {
      "displayName": "Lazy Programmer",
      "photoUrl": "",
      "userId": "14255399010036105472"
     },
     "user_tz": 240
    },
    "id": "g4WqLOxkVF6y",
    "outputId": "d92791d7-9a6a-4d9f-d785-05f8ae79778a",
    "pycharm": {
     "name": "#%%\n"
    }
   },
   "outputs": [
    {
     "data": {
      "text/plain": [
       "array([0, 1, 2, 3, 4, 5, 6, 7, 8, 9])"
      ]
     },
     "execution_count": 43,
     "metadata": {
      "tags": []
     },
     "output_type": "execute_result"
    }
   ],
   "source": [
    "# by the way, this works with Numpy too\n",
    "import numpy as np\n",
    "A = np.arange(10)\n",
    "A"
   ]
  },
  {
   "cell_type": "code",
   "execution_count": null,
   "metadata": {
    "colab": {
     "base_uri": "https://localhost:8080/",
     "height": 34
    },
    "executionInfo": {
     "elapsed": 233,
     "status": "ok",
     "timestamp": 1587885168735,
     "user": {
      "displayName": "Lazy Programmer",
      "photoUrl": "",
      "userId": "14255399010036105472"
     },
     "user_tz": 240
    },
    "id": "xRzEsa6jVLqs",
    "outputId": "976501ac-3db5-486f-fc9f-4b92c5ffbbe5",
    "pycharm": {
     "name": "#%%\n"
    }
   },
   "outputs": [
    {
     "data": {
      "text/plain": [
       "array([0, 2, 4, 6, 8])"
      ]
     },
     "execution_count": 44,
     "metadata": {
      "tags": []
     },
     "output_type": "execute_result"
    }
   ],
   "source": [
    "A[A % 2 == 0]"
   ]
  },
  {
   "cell_type": "code",
   "execution_count": null,
   "metadata": {
    "colab": {
     "base_uri": "https://localhost:8080/",
     "height": 156
    },
    "executionInfo": {
     "elapsed": 387,
     "status": "ok",
     "timestamp": 1587882123414,
     "user": {
      "displayName": "Lazy Programmer",
      "photoUrl": "",
      "userId": "14255399010036105472"
     },
     "user_tz": 240
    },
    "id": "MNSThpYdJlQx",
    "outputId": "785b32b7-93a4-4f58-e322-1171373e6bae",
    "pycharm": {
     "name": "#%%\n"
    }
   },
   "outputs": [
    {
     "data": {
      "text/plain": [
       "array([['2013-02-08', 27.92, 28.325, ..., 28.185, 7146296, 'SBUX'],\n",
       "       ['2013-02-11', 28.26, 28.26, ..., 28.07, 5457354, 'SBUX'],\n",
       "       ['2013-02-12', 28.0, 28.275, ..., 28.13, 8665592, 'SBUX'],\n",
       "       ...,\n",
       "       ['2018-02-05', 55.53, 56.26, ..., 54.69, 16059955, 'SBUX'],\n",
       "       ['2018-02-06', 53.685, 56.06, ..., 55.61, 17415065, 'SBUX'],\n",
       "       ['2018-02-07', 55.08, 55.43, ..., 54.46, 13927022, 'SBUX']],\n",
       "      dtype=object)"
      ]
     },
     "execution_count": 12,
     "metadata": {
      "tags": []
     },
     "output_type": "execute_result"
    }
   ],
   "source": [
    "# don't want \"objects\" when we're doing math!\n",
    "df.values"
   ]
  },
  {
   "cell_type": "code",
   "execution_count": null,
   "metadata": {
    "colab": {
     "base_uri": "https://localhost:8080/",
     "height": 139
    },
    "executionInfo": {
     "elapsed": 466,
     "status": "ok",
     "timestamp": 1588020650273,
     "user": {
      "displayName": "Lazy Programmer",
      "photoUrl": "",
      "userId": "14255399010036105472"
     },
     "user_tz": 240
    },
    "id": "CptMzuduVak6",
    "outputId": "a8807ac0-7a0d-4564-82c3-7dace137b644",
    "pycharm": {
     "name": "#%%\n"
    }
   },
   "outputs": [
    {
     "data": {
      "text/plain": [
       "array([[27.92 , 28.185],\n",
       "       [28.26 , 28.07 ],\n",
       "       [28.   , 28.13 ],\n",
       "       ...,\n",
       "       [55.53 , 54.69 ],\n",
       "       [53.685, 55.61 ],\n",
       "       [55.08 , 54.46 ]])"
      ]
     },
     "execution_count": 4,
     "metadata": {
      "tags": []
     },
     "output_type": "execute_result"
    }
   ],
   "source": [
    "A = df[['open', 'close']].values\n",
    "A"
   ]
  },
  {
   "cell_type": "code",
   "execution_count": null,
   "metadata": {
    "colab": {
     "base_uri": "https://localhost:8080/",
     "height": 34
    },
    "executionInfo": {
     "elapsed": 464,
     "status": "ok",
     "timestamp": 1588020652710,
     "user": {
      "displayName": "Lazy Programmer",
      "photoUrl": "",
      "userId": "14255399010036105472"
     },
     "user_tz": 240
    },
    "id": "MW_TyI4nVl1f",
    "outputId": "d0935c6e-72ff-4d75-a4a6-915a59c12a7c",
    "pycharm": {
     "name": "#%%\n"
    }
   },
   "outputs": [
    {
     "data": {
      "text/plain": [
       "numpy.ndarray"
      ]
     },
     "execution_count": 5,
     "metadata": {
      "tags": []
     },
     "output_type": "execute_result"
    }
   ],
   "source": [
    "type(A)"
   ]
  },
  {
   "cell_type": "code",
   "execution_count": null,
   "metadata": {
    "id": "C42Vx5nFZ6VK",
    "pycharm": {
     "name": "#%%\n"
    }
   },
   "outputs": [],
   "source": [
    "# write a dataframe to file\n",
    "smalldf = df[['open', 'close']]\n",
    "smalldf.to_csv('output.csv')"
   ]
  },
  {
   "cell_type": "code",
   "execution_count": null,
   "metadata": {
    "colab": {
     "base_uri": "https://localhost:8080/",
     "height": 191
    },
    "executionInfo": {
     "elapsed": 1612,
     "status": "ok",
     "timestamp": 1588020730306,
     "user": {
      "displayName": "Lazy Programmer",
      "photoUrl": "",
      "userId": "14255399010036105472"
     },
     "user_tz": 240
    },
    "id": "o4fQSWNJaSd5",
    "outputId": "9529f0e2-49ce-4b8c-f3fc-2d8d717ab1c2",
    "pycharm": {
     "name": "#%%\n"
    }
   },
   "outputs": [
    {
     "name": "stdout",
     "output_type": "stream",
     "text": [
      ",open,close\n",
      "0,27.92,28.185\n",
      "1,28.26,28.07\n",
      "2,28.0,28.13\n",
      "3,28.23,27.915\n",
      "4,27.765,27.775\n",
      "5,27.805,27.17\n",
      "6,27.18,27.225\n",
      "7,27.3,26.655\n",
      "8,26.535,26.675\n"
     ]
    }
   ],
   "source": [
    "!head output.csv"
   ]
  },
  {
   "cell_type": "code",
   "execution_count": null,
   "metadata": {
    "id": "HQ1cKZFyaWTB",
    "pycharm": {
     "name": "#%%\n"
    }
   },
   "outputs": [],
   "source": [
    "# what if we don't want an index column?\n",
    "smalldf.to_csv('output.csv', index=False)"
   ]
  },
  {
   "cell_type": "code",
   "execution_count": null,
   "metadata": {
    "colab": {
     "base_uri": "https://localhost:8080/",
     "height": 191
    },
    "executionInfo": {
     "elapsed": 1290,
     "status": "ok",
     "timestamp": 1588020775084,
     "user": {
      "displayName": "Lazy Programmer",
      "photoUrl": "",
      "userId": "14255399010036105472"
     },
     "user_tz": 240
    },
    "id": "JR9D6-1safMY",
    "outputId": "26692ebc-72b7-4fa8-d291-84ae072951f5",
    "pycharm": {
     "name": "#%%\n"
    }
   },
   "outputs": [
    {
     "name": "stdout",
     "output_type": "stream",
     "text": [
      "open,close\n",
      "27.92,28.185\n",
      "28.26,28.07\n",
      "28.0,28.13\n",
      "28.23,27.915\n",
      "27.765,27.775\n",
      "27.805,27.17\n",
      "27.18,27.225\n",
      "27.3,26.655\n",
      "26.535,26.675\n"
     ]
    }
   ],
   "source": [
    "!head output.csv"
   ]
  },
  {
   "cell_type": "markdown",
   "metadata": {
    "id": "ZqY_ygGnVXsz",
    "pycharm": {
     "name": "#%% md\n"
    }
   },
   "source": [
    "## The apply() function\n"
   ]
  },
  {
   "cell_type": "code",
   "execution_count": null,
   "metadata": {
    "colab": {
     "base_uri": "https://localhost:8080/",
     "height": 225
    },
    "executionInfo": {
     "elapsed": 399,
     "status": "ok",
     "timestamp": 1587885908881,
     "user": {
      "displayName": "Lazy Programmer",
      "photoUrl": "",
      "userId": "14255399010036105472"
     },
     "user_tz": 240
    },
    "id": "Bz9o0snTXS3Z",
    "outputId": "422702b9-00f5-4f98-e636-2b3ceb6dab74",
    "pycharm": {
     "name": "#%%\n"
    }
   },
   "outputs": [
    {
     "data": {
      "text/plain": [
       "0       2013\n",
       "1       2013\n",
       "2       2013\n",
       "3       2013\n",
       "4       2013\n",
       "        ... \n",
       "1254    2018\n",
       "1255    2018\n",
       "1256    2018\n",
       "1257    2018\n",
       "1258    2018\n",
       "Length: 1259, dtype: int64"
      ]
     },
     "execution_count": 64,
     "metadata": {
      "tags": []
     },
     "output_type": "execute_result"
    }
   ],
   "source": [
    "def date_to_year(row):\n",
    "  return int(row['date'].split('-')[0])\n",
    "\n",
    "df.apply(date_to_year, axis=1)"
   ]
  },
  {
   "cell_type": "code",
   "execution_count": null,
   "metadata": {
    "id": "3OKuaS92YEAy",
    "pycharm": {
     "name": "#%%\n"
    }
   },
   "outputs": [],
   "source": [
    "df['year'] = df.apply(date_to_year, axis=1)"
   ]
  },
  {
   "cell_type": "code",
   "execution_count": null,
   "metadata": {
    "colab": {
     "base_uri": "https://localhost:8080/",
     "height": 206
    },
    "executionInfo": {
     "elapsed": 363,
     "status": "ok",
     "timestamp": 1587885939624,
     "user": {
      "displayName": "Lazy Programmer",
      "photoUrl": "",
      "userId": "14255399010036105472"
     },
     "user_tz": 240
    },
    "id": "VAUR-eO8YI4J",
    "outputId": "9c72a6d8-ad20-4ae0-e542-c378d0105ffa",
    "pycharm": {
     "name": "#%%\n"
    }
   },
   "outputs": [
    {
     "data": {
      "text/html": [
       "<div>\n",
       "<style scoped>\n",
       "    .dataframe tbody tr th:only-of-type {\n",
       "        vertical-align: middle;\n",
       "    }\n",
       "\n",
       "    .dataframe tbody tr th {\n",
       "        vertical-align: top;\n",
       "    }\n",
       "\n",
       "    .dataframe thead th {\n",
       "        text-align: right;\n",
       "    }\n",
       "</style>\n",
       "<table border=\"1\" class=\"dataframe\">\n",
       "  <thead>\n",
       "    <tr style=\"text-align: right;\">\n",
       "      <th></th>\n",
       "      <th>date</th>\n",
       "      <th>open</th>\n",
       "      <th>high</th>\n",
       "      <th>low</th>\n",
       "      <th>close</th>\n",
       "      <th>volume</th>\n",
       "      <th>Name</th>\n",
       "      <th>year</th>\n",
       "    </tr>\n",
       "  </thead>\n",
       "  <tbody>\n",
       "    <tr>\n",
       "      <th>0</th>\n",
       "      <td>2013-02-08</td>\n",
       "      <td>27.920</td>\n",
       "      <td>28.325</td>\n",
       "      <td>27.920</td>\n",
       "      <td>28.185</td>\n",
       "      <td>7146296</td>\n",
       "      <td>SBUX</td>\n",
       "      <td>2013</td>\n",
       "    </tr>\n",
       "    <tr>\n",
       "      <th>1</th>\n",
       "      <td>2013-02-11</td>\n",
       "      <td>28.260</td>\n",
       "      <td>28.260</td>\n",
       "      <td>27.930</td>\n",
       "      <td>28.070</td>\n",
       "      <td>5457354</td>\n",
       "      <td>SBUX</td>\n",
       "      <td>2013</td>\n",
       "    </tr>\n",
       "    <tr>\n",
       "      <th>2</th>\n",
       "      <td>2013-02-12</td>\n",
       "      <td>28.000</td>\n",
       "      <td>28.275</td>\n",
       "      <td>27.975</td>\n",
       "      <td>28.130</td>\n",
       "      <td>8665592</td>\n",
       "      <td>SBUX</td>\n",
       "      <td>2013</td>\n",
       "    </tr>\n",
       "    <tr>\n",
       "      <th>3</th>\n",
       "      <td>2013-02-13</td>\n",
       "      <td>28.230</td>\n",
       "      <td>28.230</td>\n",
       "      <td>27.750</td>\n",
       "      <td>27.915</td>\n",
       "      <td>7022056</td>\n",
       "      <td>SBUX</td>\n",
       "      <td>2013</td>\n",
       "    </tr>\n",
       "    <tr>\n",
       "      <th>4</th>\n",
       "      <td>2013-02-14</td>\n",
       "      <td>27.765</td>\n",
       "      <td>27.905</td>\n",
       "      <td>27.675</td>\n",
       "      <td>27.775</td>\n",
       "      <td>8899188</td>\n",
       "      <td>SBUX</td>\n",
       "      <td>2013</td>\n",
       "    </tr>\n",
       "  </tbody>\n",
       "</table>\n",
       "</div>"
      ],
      "text/plain": [
       "         date    open    high     low   close   volume  Name  year\n",
       "0  2013-02-08  27.920  28.325  27.920  28.185  7146296  SBUX  2013\n",
       "1  2013-02-11  28.260  28.260  27.930  28.070  5457354  SBUX  2013\n",
       "2  2013-02-12  28.000  28.275  27.975  28.130  8665592  SBUX  2013\n",
       "3  2013-02-13  28.230  28.230  27.750  27.915  7022056  SBUX  2013\n",
       "4  2013-02-14  27.765  27.905  27.675  27.775  8899188  SBUX  2013"
      ]
     },
     "execution_count": 66,
     "metadata": {
      "tags": []
     },
     "output_type": "execute_result"
    }
   ],
   "source": [
    "df.head()"
   ]
  },
  {
   "cell_type": "markdown",
   "metadata": {
    "id": "e-lRsfm4Wycn",
    "pycharm": {
     "name": "#%% md\n"
    }
   },
   "source": [
    "## Plotting with Pandas"
   ]
  },
  {
   "cell_type": "code",
   "execution_count": null,
   "metadata": {
    "colab": {
     "base_uri": "https://localhost:8080/",
     "height": 265
    },
    "executionInfo": {
     "elapsed": 561,
     "status": "ok",
     "timestamp": 1587885540846,
     "user": {
      "displayName": "Lazy Programmer",
      "photoUrl": "",
      "userId": "14255399010036105472"
     },
     "user_tz": 240
    },
    "id": "VdzZLf88Wfuz",
    "outputId": "a362556d-3cbe-4859-d152-d00d2a1c1430",
    "pycharm": {
     "name": "#%%\n"
    }
   },
   "outputs": [
    {
     "data": {
      "image/png": "[encoded data removed]",
      "text/plain": [
       "<Figure size 432x288 with 1 Axes>"
      ]
     },
     "metadata": {
      "needs_background": "light",
      "tags": []
     },
     "output_type": "display_data"
    }
   ],
   "source": [
    "df['open'].hist();"
   ]
  },
  {
   "cell_type": "code",
   "execution_count": null,
   "metadata": {
    "colab": {
     "base_uri": "https://localhost:8080/",
     "height": 265
    },
    "executionInfo": {
     "elapsed": 591,
     "status": "ok",
     "timestamp": 1587885544330,
     "user": {
      "displayName": "Lazy Programmer",
      "photoUrl": "",
      "userId": "14255399010036105472"
     },
     "user_tz": 240
    },
    "id": "rkLF3t6uWlPg",
    "outputId": "8d2f96f1-d2ac-43ed-8fae-8a64213209d2",
    "pycharm": {
     "name": "#%%\n"
    }
   },
   "outputs": [
    {
     "data": {
      "image/png": "[encoded data removed]",
      "text/plain": [
       "<Figure size 432x288 with 1 Axes>"
      ]
     },
     "metadata": {
      "needs_background": "light",
      "tags": []
     },
     "output_type": "display_data"
    }
   ],
   "source": [
    "df['open'].plot();"
   ]
  },
  {
   "cell_type": "code",
   "execution_count": null,
   "metadata": {
    "colab": {
     "base_uri": "https://localhost:8080/",
     "height": 265
    },
    "executionInfo": {
     "elapsed": 418,
     "status": "ok",
     "timestamp": 1587885549213,
     "user": {
      "displayName": "Lazy Programmer",
      "photoUrl": "",
      "userId": "14255399010036105472"
     },
     "user_tz": 240
    },
    "id": "Rux9b8syVn2b",
    "outputId": "2474d69e-859c-40df-99a9-ce4358794d47",
    "pycharm": {
     "name": "#%%\n"
    }
   },
   "outputs": [
    {
     "data": {
      "image/png": "[encoded data removed]",
      "text/plain": [
       "<Figure size 432x288 with 1 Axes>"
      ]
     },
     "metadata": {
      "needs_background": "light",
      "tags": []
     },
     "output_type": "display_data"
    }
   ],
   "source": [
    "df[['open', 'high', 'low', 'close']].plot.box();"
   ]
  },
  {
   "cell_type": "code",
   "execution_count": null,
   "metadata": {
    "colab": {
     "base_uri": "https://localhost:8080/",
     "height": 388
    },
    "executionInfo": {
     "elapsed": 1804,
     "status": "ok",
     "timestamp": 1588137290333,
     "user": {
      "displayName": "Lazy Programmer",
      "photoUrl": "",
      "userId": "14255399010036105472"
     },
     "user_tz": 240
    },
    "id": "Tvi5oWMQWRPt",
    "outputId": "9b813083-2797-4138-ae45-c6893a97d1bd",
    "pycharm": {
     "name": "#%%\n"
    }
   },
   "outputs": [
    {
     "data": {
      "image/png": "[encoded data removed]",
      "text/plain": [
       "<Figure size 432x432 with 16 Axes>"
      ]
     },
     "metadata": {
      "needs_background": "light",
      "tags": []
     },
     "output_type": "display_data"
    }
   ],
   "source": [
    "from pandas.plotting import scatter_matrix\n",
    "scatter_matrix(df[['open', 'high', 'low', 'close']],\n",
    "               alpha=0.2, figsize=(6, 6));"
   ]
  }
 ],
 "metadata": {
  "colab": {
   "collapsed_sections": [],
   "provenance": [
    {
     "file_id": "1tf7dD2UuGo5Fx5qc16pcF05vZMOKefbE",
     "timestamp": 1662231908692
    }
   ]
  },
  "kernelspec": {
   "display_name": "Python 3 (ipykernel)",
   "language": "python",
   "name": "python3"
  },
  "language_info": {
   "codemirror_mode": {
    "name": "ipython",
    "version": 3
   },
   "file_extension": ".py",
   "mimetype": "text/x-python",
   "name": "python",
   "nbconvert_exporter": "python",
   "pygments_lexer": "ipython3",
   "version": "3.10.0"
  }
 },
 "nbformat": 4,
 "nbformat_minor": 1
}
