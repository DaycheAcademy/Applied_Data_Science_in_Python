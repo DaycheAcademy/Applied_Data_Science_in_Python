{
 "nbformat": 4,
 "nbformat_minor": 0,
 "metadata": {
  "colab": {
   "provenance": [
    {
     "file_id": "1bpjWwc0MDq0pHkounxpeI9TpiEzsNO_e",
     "timestamp": 1662231953985
    }
   ]
  },
  "kernelspec": {
   "name": "python3",
   "display_name": "Python 3"
  }
 },
 "cells": [
  {
   "cell_type": "markdown",
   "metadata": {
    "id": "G7slGEWjswHZ",
    "pycharm": {
     "name": "#%% md\n"
    }
   },
   "source": [
    "## PDF and CDF"
   ]
  },
  {
   "cell_type": "code",
   "metadata": {
    "id": "QrMqPSgJpzwb",
    "pycharm": {
     "name": "#%%\n"
    }
   },
   "source": [
    "import numpy as np\n",
    "import matplotlib.pyplot as plt"
   ],
   "execution_count": null,
   "outputs": []
  },
  {
   "cell_type": "code",
   "metadata": {
    "id": "KWI62Ptlsxrs",
    "pycharm": {
     "name": "#%%\n"
    }
   },
   "source": [
    "from scipy.stats import norm"
   ],
   "execution_count": null,
   "outputs": []
  },
  {
   "cell_type": "code",
   "metadata": {
    "id": "ilL9lrEZtICd",
    "pycharm": {
     "name": "#%%\n"
    }
   },
   "source": [
    "x = np.linspace(-6, 6, 1000)\n",
    "fx = norm.pdf(x, loc=0, scale=1)"
   ],
   "execution_count": null,
   "outputs": []
  },
  {
   "cell_type": "code",
   "metadata": {
    "id": "-Ar4mxkktQJX",
    "colab": {
     "base_uri": "https://localhost:8080/",
     "height": 265
    },
    "outputId": "7963c1a4-e6f6-44cb-ab7e-0be9f33b2ab1",
    "executionInfo": {
     "status": "ok",
     "timestamp": 1588025695468,
     "user_tz": 240,
     "elapsed": 413,
     "user": {
      "displayName": "Lazy Programmer",
      "photoUrl": "",
      "userId": "14255399010036105472"
     }
    },
    "pycharm": {
     "name": "#%%\n",
     "is_executing": true
    }
   },
   "source": [
    "plt.plot(x, fx);"
   ],
   "execution_count": null,
   "outputs": []
  },
  {
   "cell_type": "code",
   "metadata": {
    "id": "KyV7G7HTtSVT",
    "colab": {
     "base_uri": "https://localhost:8080/",
     "height": 265
    },
    "outputId": "1089ebf1-fdb4-4ff5-da4c-73a9cf452f23",
    "executionInfo": {
     "status": "ok",
     "timestamp": 1588025726109,
     "user_tz": 240,
     "elapsed": 446,
     "user": {
      "displayName": "Lazy Programmer",
      "photoUrl": "",
      "userId": "14255399010036105472"
     }
    },
    "pycharm": {
     "name": "#%%\n",
     "is_executing": true
    }
   },
   "source": [
    "Fx = norm.cdf(x, loc=0, scale=1)\n",
    "plt.plot(x, Fx);"
   ],
   "execution_count": null,
   "outputs": []
  },
  {
   "cell_type": "code",
   "metadata": {
    "id": "aKux0ghEtvIH",
    "colab": {
     "base_uri": "https://localhost:8080/",
     "height": 265
    },
    "outputId": "742c615e-ec3a-4e40-8c24-54e1327ac851",
    "executionInfo": {
     "status": "ok",
     "timestamp": 1588025843587,
     "user_tz": 240,
     "elapsed": 658,
     "user": {
      "displayName": "Lazy Programmer",
      "photoUrl": "",
      "userId": "14255399010036105472"
     }
    },
    "pycharm": {
     "name": "#%%\n",
     "is_executing": true
    }
   },
   "source": [
    "logfx = norm.logpdf(x, loc=0, scale=1)\n",
    "plt.plot(x, logfx);"
   ],
   "execution_count": null,
   "outputs": []
  },
  {
   "cell_type": "markdown",
   "metadata": {
    "id": "-pU0CJ2RtrLj",
    "pycharm": {
     "name": "#%% md\n"
    }
   },
   "source": [
    "## Convolution"
   ]
  },
  {
   "cell_type": "code",
   "metadata": {
    "id": "WZ32Eb0Xtqbh",
    "pycharm": {
     "name": "#%%\n"
    }
   },
   "source": [
    "from PIL import Image"
   ],
   "execution_count": null,
   "outputs": []
  },
  {
   "cell_type": "code",
   "metadata": {
    "id": "hj8HnIa1uMSl",
    "pycharm": {
     "name": "#%%\n"
    }
   },
   "source": [
    "im = Image.open('lena.png')"
   ],
   "execution_count": null,
   "outputs": []
  },
  {
   "cell_type": "code",
   "metadata": {
    "id": "1EtSyHSruXb3",
    "pycharm": {
     "name": "#%%\n"
    }
   },
   "source": [
    "gray = np.mean(im, axis=2)"
   ],
   "execution_count": null,
   "outputs": []
  },
  {
   "cell_type": "code",
   "metadata": {
    "id": "N8G0AgNiucTO",
    "pycharm": {
     "name": "#%%\n"
    }
   },
   "source": [
    "x = np.linspace(-6, 6, 50)\n",
    "fx = norm.pdf(x, loc=0, scale=1)"
   ],
   "execution_count": null,
   "outputs": []
  },
  {
   "cell_type": "code",
   "metadata": {
    "id": "qmWKWyuUv-dp",
    "colab": {
     "base_uri": "https://localhost:8080/",
     "height": 265
    },
    "outputId": "6783c480-6dab-4ebf-f25c-394c48592fd3",
    "executionInfo": {
     "status": "ok",
     "timestamp": 1588026551859,
     "user_tz": 240,
     "elapsed": 949,
     "user": {
      "displayName": "Lazy Programmer",
      "photoUrl": "",
      "userId": "14255399010036105472"
     }
    },
    "pycharm": {
     "name": "#%%\n",
     "is_executing": true
    }
   },
   "source": [
    "plt.plot(x, fx);"
   ],
   "execution_count": null,
   "outputs": []
  },
  {
   "cell_type": "code",
   "metadata": {
    "id": "5IzMsA3GwC8H",
    "pycharm": {
     "name": "#%%\n"
    }
   },
   "source": [
    "filt = np.outer(fx, fx)"
   ],
   "execution_count": null,
   "outputs": []
  },
  {
   "cell_type": "code",
   "metadata": {
    "id": "Cawdic_VwG0T",
    "colab": {
     "base_uri": "https://localhost:8080/",
     "height": 267
    },
    "outputId": "97a752a7-1b64-4e32-b166-f446b9d1c075",
    "executionInfo": {
     "status": "ok",
     "timestamp": 1588026552091,
     "user_tz": 240,
     "elapsed": 1160,
     "user": {
      "displayName": "Lazy Programmer",
      "photoUrl": "",
      "userId": "14255399010036105472"
     }
    },
    "pycharm": {
     "name": "#%%\n",
     "is_executing": true
    }
   },
   "source": [
    "plt.imshow(filt, cmap='gray');"
   ],
   "execution_count": null,
   "outputs": []
  },
  {
   "cell_type": "code",
   "metadata": {
    "id": "nnqXaSwTwPdI",
    "pycharm": {
     "name": "#%%\n"
    }
   },
   "source": [
    "from scipy.signal import convolve2d"
   ],
   "execution_count": null,
   "outputs": []
  },
  {
   "cell_type": "code",
   "metadata": {
    "id": "fXhuilAMwS3h",
    "pycharm": {
     "name": "#%%\n"
    }
   },
   "source": [
    "out = convolve2d(gray, filt)"
   ],
   "execution_count": null,
   "outputs": []
  },
  {
   "cell_type": "code",
   "metadata": {
    "id": "ZJP_VcmLwXNT",
    "colab": {
     "base_uri": "https://localhost:8080/",
     "height": 204
    },
    "outputId": "20791097-05d9-41ca-bc01-b11e55d683e9",
    "executionInfo": {
     "status": "ok",
     "timestamp": 1588026554854,
     "user_tz": 240,
     "elapsed": 3905,
     "user": {
      "displayName": "Lazy Programmer",
      "photoUrl": "",
      "userId": "14255399010036105472"
     }
    },
    "pycharm": {
     "name": "#%%\n",
     "is_executing": true
    }
   },
   "source": [
    "plt.subplot(1,2,1)\n",
    "plt.imshow(gray, cmap='gray')\n",
    "plt.subplot(1,2,2)\n",
    "plt.imshow(out, cmap='gray');"
   ],
   "execution_count": null,
   "outputs": []
  }
 ]
}