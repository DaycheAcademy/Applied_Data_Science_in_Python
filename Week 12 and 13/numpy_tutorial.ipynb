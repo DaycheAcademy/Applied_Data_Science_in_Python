{
 "nbformat": 4,
 "nbformat_minor": 0,
 "metadata": {
  "colab": {
   "provenance": [
    {
     "file_id": "1VdLyfnop7Tt4wx4BmS6WHSSQg3n5wXrX",
     "timestamp": 1662231117595
    }
   ],
   "collapsed_sections": []
  },
  "kernelspec": {
   "name": "python3",
   "display_name": "Python 3"
  }
 },
 "cells": [
  {
   "cell_type": "markdown",
   "metadata": {
    "id": "Qppj_nuWLj5x",
    "pycharm": {
     "name": "#%% md\n"
    }
   },
   "source": [
    "## What is Numpy?"
   ]
  },
  {
   "cell_type": "markdown",
   "source": [
    "Numpy: To compute everything in Linear Algebra and a little bit of probablity\n",
    "Central Core: Numpy array\n",
    "Question:\n",
    "1 - difference with List?\n",
    "2 - Why do we need it?\n",
    "3 - Benefits?\n",
    "\n",
    "Array in Numpy: Scalar, 1D, 2D, (ndarray), Matrix, Tensor\n",
    "--------------------------------------\n",
    "\n",
    "Applications of Numpy Module:\n",
    "1 - Linear Regression\n",
    "2 - Logistic Regression\n",
    "3 - Deep Neural Networks (Everything in Deep Learning)\n",
    "4 - K-Means\n",
    "5 - Density Estimation\n",
    "6 - Principle Component Analysis (PCA) -> Dimensionality Reduction : ICA\n",
    "7 - Matrix Factorization -> Recommender System : NNMF\n",
    "8 - SVM\n",
    "9 - Markov Models -> HMM\n",
    "10 - Control Systems\n",
    "11 - Game Theory\n",
    "12 - Optimization Theory\n",
    "13 - profile Optimization\n",
    "\n"
   ],
   "metadata": {
    "collapsed": false,
    "pycharm": {
     "name": "#%% md\n"
    }
   }
  },
  {
   "cell_type": "markdown",
   "source": [
    "## NumPy array creation functions"
   ],
   "metadata": {
    "collapsed": false,
    "pycharm": {
     "name": "#%% md\n"
    }
   }
  },
  {
   "cell_type": "code",
   "metadata": {
    "id": "2YWtop3oo3jK",
    "pycharm": {
     "name": "#%%\n"
    }
   },
   "source": [
    "import numpy as np\n",
    "from time import time\n",
    "import sys"
   ],
   "execution_count": 1,
   "outputs": []
  },
  {
   "cell_type": "code",
   "execution_count": 2,
   "outputs": [
    {
     "data": {
      "text/plain": "array([1, 2, 3, 4])"
     },
     "execution_count": 2,
     "metadata": {},
     "output_type": "execute_result"
    }
   ],
   "source": [
    "a1D = np.array([1, 2, 3, 4])\n",
    "a1D"
   ],
   "metadata": {
    "collapsed": false,
    "pycharm": {
     "name": "#%%\n"
    }
   }
  },
  {
   "cell_type": "code",
   "execution_count": 4,
   "outputs": [
    {
     "data": {
      "text/plain": "array([[1, 2],\n       [3, 4]])"
     },
     "execution_count": 4,
     "metadata": {},
     "output_type": "execute_result"
    }
   ],
   "source": [
    "a2D = np.array([[1, 2], [3, 4]])\n",
    "a2D"
   ],
   "metadata": {
    "collapsed": false,
    "pycharm": {
     "name": "#%%\n"
    }
   }
  },
  {
   "cell_type": "code",
   "execution_count": 74,
   "outputs": [
    {
     "data": {
      "text/plain": "array([[[1, 2],\n        [3, 4]],\n\n       [[5, 6],\n        [7, 8]]])"
     },
     "execution_count": 74,
     "metadata": {},
     "output_type": "execute_result"
    }
   ],
   "source": [
    "a3D = np.array([[[1, 2], [3, 4]], [[5, 6], [7, 8]]])\n",
    "a3D"
   ],
   "metadata": {
    "collapsed": false,
    "pycharm": {
     "name": "#%%\n"
    }
   }
  },
  {
   "cell_type": "code",
   "execution_count": 76,
   "outputs": [
    {
     "data": {
      "text/plain": "array([ 127, -128, -127,    4], dtype=int8)"
     },
     "execution_count": 76,
     "metadata": {},
     "output_type": "execute_result"
    }
   ],
   "source": [
    "a = np.array([127, 128, 129, 260], dtype=np.int8)\n",
    "a"
   ],
   "metadata": {
    "collapsed": false,
    "pycharm": {
     "name": "#%%\n"
    }
   }
  },
  {
   "cell_type": "code",
   "execution_count": 77,
   "outputs": [
    {
     "name": "stdout",
     "output_type": "stream",
     "text": [
      "unsigned c: [4294967293 4294967293 4294967293] uint32\n"
     ]
    }
   ],
   "source": [
    "a = np.array([2, 3, 4], dtype=np.uint32)\n",
    "b = np.array([5, 6, 7], dtype=np.uint32)\n",
    "c_unsigned32 = a - b\n",
    "print('unsigned c:', c_unsigned32, c_unsigned32.dtype)"
   ],
   "metadata": {
    "collapsed": false,
    "pycharm": {
     "name": "#%%\n"
    }
   }
  },
  {
   "cell_type": "code",
   "execution_count": 78,
   "outputs": [
    {
     "name": "stdout",
     "output_type": "stream",
     "text": [
      "signed c: [-3 -3 -3] int64\n"
     ]
    }
   ],
   "source": [
    "c_signed64 = a - b.astype(np.int32)\n",
    "print('signed c:', c_signed64, c_signed64.dtype)"
   ],
   "metadata": {
    "collapsed": false,
    "pycharm": {
     "name": "#%%\n"
    }
   }
  },
  {
   "cell_type": "code",
   "execution_count": 79,
   "outputs": [
    {
     "data": {
      "text/plain": "array([0, 1, 2, 3, 4, 5, 6, 7, 8, 9])"
     },
     "execution_count": 79,
     "metadata": {},
     "output_type": "execute_result"
    }
   ],
   "source": [
    "np.arange(10)"
   ],
   "metadata": {
    "collapsed": false,
    "pycharm": {
     "name": "#%%\n"
    }
   }
  },
  {
   "cell_type": "code",
   "execution_count": 80,
   "outputs": [
    {
     "data": {
      "text/plain": "array([2., 3., 4., 5., 6., 7., 8., 9.])"
     },
     "execution_count": 80,
     "metadata": {},
     "output_type": "execute_result"
    }
   ],
   "source": [
    "np.arange(2, 10, dtype=float)"
   ],
   "metadata": {
    "collapsed": false,
    "pycharm": {
     "name": "#%%\n"
    }
   }
  },
  {
   "cell_type": "code",
   "execution_count": 81,
   "outputs": [
    {
     "data": {
      "text/plain": "array([2. , 2.1, 2.2, 2.3, 2.4, 2.5, 2.6, 2.7, 2.8, 2.9])"
     },
     "execution_count": 81,
     "metadata": {},
     "output_type": "execute_result"
    }
   ],
   "source": [
    "np.arange(2, 3, 0.1)"
   ],
   "metadata": {
    "collapsed": false,
    "pycharm": {
     "name": "#%%\n"
    }
   }
  },
  {
   "cell_type": "code",
   "execution_count": 82,
   "outputs": [
    {
     "data": {
      "text/plain": "array([1. , 1.6, 2.2, 2.8, 3.4, 4. ])"
     },
     "execution_count": 82,
     "metadata": {},
     "output_type": "execute_result"
    }
   ],
   "source": [
    "np.linspace(1., 4., 6)"
   ],
   "metadata": {
    "collapsed": false,
    "pycharm": {
     "name": "#%%\n"
    }
   }
  },
  {
   "cell_type": "code",
   "execution_count": 83,
   "outputs": [
    {
     "data": {
      "text/plain": "array([[1., 0., 0.],\n       [0., 1., 0.],\n       [0., 0., 1.]])"
     },
     "execution_count": 83,
     "metadata": {},
     "output_type": "execute_result"
    }
   ],
   "source": [
    "np.eye(3)"
   ],
   "metadata": {
    "collapsed": false,
    "pycharm": {
     "name": "#%%\n"
    }
   }
  },
  {
   "cell_type": "code",
   "execution_count": 84,
   "outputs": [
    {
     "data": {
      "text/plain": "array([[1., 0., 0., 0., 0.],\n       [0., 1., 0., 0., 0.],\n       [0., 0., 1., 0., 0.]])"
     },
     "execution_count": 84,
     "metadata": {},
     "output_type": "execute_result"
    }
   ],
   "source": [
    "np.eye(3, 5)"
   ],
   "metadata": {
    "collapsed": false,
    "pycharm": {
     "name": "#%%\n"
    }
   }
  },
  {
   "cell_type": "code",
   "execution_count": 86,
   "outputs": [
    {
     "data": {
      "text/plain": "array([[ 1,  0,  0],\n       [ 0,  2,  0],\n       [ 0,  0, 10]])"
     },
     "execution_count": 86,
     "metadata": {},
     "output_type": "execute_result"
    }
   ],
   "source": [
    "np.diag([1, 2, 10])"
   ],
   "metadata": {
    "collapsed": false,
    "pycharm": {
     "name": "#%%\n"
    }
   }
  },
  {
   "cell_type": "code",
   "execution_count": 90,
   "outputs": [
    {
     "data": {
      "text/plain": "array([[0, 1, 0, 0],\n       [0, 0, 2, 0],\n       [0, 0, 0, 3],\n       [0, 0, 0, 0]])"
     },
     "execution_count": 90,
     "metadata": {},
     "output_type": "execute_result"
    }
   ],
   "source": [
    "np.diag([1, 2, 3], 1)"
   ],
   "metadata": {
    "collapsed": false,
    "pycharm": {
     "name": "#%%\n"
    }
   }
  },
  {
   "cell_type": "code",
   "execution_count": 95,
   "outputs": [
    {
     "data": {
      "text/plain": "array([[0., 1., 2.],\n       [3., 4., 5.],\n       [6., 7., 8.]])"
     },
     "execution_count": 95,
     "metadata": {},
     "output_type": "execute_result"
    }
   ],
   "source": [
    "x = np.arange(9.0).reshape(3, 3)\n",
    "x"
   ],
   "metadata": {
    "collapsed": false,
    "pycharm": {
     "name": "#%%\n"
    }
   }
  },
  {
   "cell_type": "code",
   "execution_count": 97,
   "outputs": [
    {
     "data": {
      "text/plain": "array([0., 4., 8.])"
     },
     "execution_count": 97,
     "metadata": {},
     "output_type": "execute_result"
    }
   ],
   "source": [
    "np.diag(x)"
   ],
   "metadata": {
    "collapsed": false,
    "pycharm": {
     "name": "#%%\n"
    }
   }
  },
  {
   "cell_type": "code",
   "execution_count": 98,
   "outputs": [
    {
     "data": {
      "text/plain": "array([1, 4])"
     },
     "execution_count": 98,
     "metadata": {},
     "output_type": "execute_result"
    }
   ],
   "source": [
    "a = np.array([[1, 2], [3, 4]])\n",
    "np.diag(a)"
   ],
   "metadata": {
    "collapsed": false,
    "pycharm": {
     "name": "#%%\n"
    }
   }
  },
  {
   "cell_type": "code",
   "execution_count": 99,
   "outputs": [
    {
     "data": {
      "text/plain": "array([[0., 0., 0.],\n       [0., 0., 0.]])"
     },
     "execution_count": 99,
     "metadata": {},
     "output_type": "execute_result"
    }
   ],
   "source": [
    "np.zeros((2, 3))"
   ],
   "metadata": {
    "collapsed": false,
    "pycharm": {
     "name": "#%%\n"
    }
   }
  },
  {
   "cell_type": "code",
   "execution_count": 100,
   "outputs": [
    {
     "data": {
      "text/plain": "array([[[0., 0.],\n        [0., 0.],\n        [0., 0.]],\n\n       [[0., 0.],\n        [0., 0.],\n        [0., 0.]]])"
     },
     "execution_count": 100,
     "metadata": {},
     "output_type": "execute_result"
    }
   ],
   "source": [
    "np.zeros((2, 3, 2))"
   ],
   "metadata": {
    "collapsed": false,
    "pycharm": {
     "name": "#%%\n"
    }
   }
  },
  {
   "cell_type": "code",
   "execution_count": 101,
   "outputs": [
    {
     "data": {
      "text/plain": "array([[1., 1., 1.],\n       [1., 1., 1.]])"
     },
     "execution_count": 101,
     "metadata": {},
     "output_type": "execute_result"
    }
   ],
   "source": [
    "np.ones((2, 3))"
   ],
   "metadata": {
    "collapsed": false,
    "pycharm": {
     "name": "#%%\n"
    }
   }
  },
  {
   "cell_type": "code",
   "execution_count": 102,
   "outputs": [
    {
     "data": {
      "text/plain": "array([[[1., 1.],\n        [1., 1.],\n        [1., 1.]],\n\n       [[1., 1.],\n        [1., 1.],\n        [1., 1.]]])"
     },
     "execution_count": 102,
     "metadata": {},
     "output_type": "execute_result"
    }
   ],
   "source": [
    "np.ones((2, 3, 2))"
   ],
   "metadata": {
    "collapsed": false,
    "pycharm": {
     "name": "#%%\n"
    }
   }
  },
  {
   "cell_type": "code",
   "execution_count": 103,
   "outputs": [
    {
     "name": "stdout",
     "output_type": "stream",
     "text": [
      "a = [2 3 3 4 5 6] ; b = [2 3]\n"
     ]
    }
   ],
   "source": [
    "a = np.array([1, 2, 3, 4, 5, 6])   # Numpy arrays are mutable\n",
    "b = a[:2]\n",
    "b += 1\n",
    "print('a =', a, '; b =', b)"
   ],
   "metadata": {
    "collapsed": false,
    "pycharm": {
     "name": "#%%\n"
    }
   }
  },
  {
   "cell_type": "code",
   "execution_count": 104,
   "outputs": [
    {
     "name": "stdout",
     "output_type": "stream",
     "text": [
      "a =  [1 2 3 4] b =  [2 3]\n"
     ]
    }
   ],
   "source": [
    "a = np.array([1, 2, 3, 4])\n",
    "b = a[:2].copy()\n",
    "b += 1\n",
    "print('a = ', a, 'b = ', b)"
   ],
   "metadata": {
    "collapsed": false,
    "pycharm": {
     "name": "#%%\n"
    }
   }
  },
  {
   "cell_type": "code",
   "execution_count": 105,
   "outputs": [
    {
     "data": {
      "text/plain": "array([[ 1.,  1.,  1.,  0.],\n       [ 1.,  1.,  0.,  1.],\n       [ 0.,  0., -3.,  0.],\n       [ 0.,  0.,  0., -4.]])"
     },
     "execution_count": 105,
     "metadata": {},
     "output_type": "execute_result"
    }
   ],
   "source": [
    "A = np.ones((2, 2))\n",
    "B = np.eye(2, 2)\n",
    "C = np.zeros((2, 2))\n",
    "D = np.diag((-3, -4))\n",
    "np.block([[A, B], [C, D]])"
   ],
   "metadata": {
    "collapsed": false,
    "pycharm": {
     "name": "#%%\n"
    }
   }
  },
  {
   "cell_type": "code",
   "execution_count": 106,
   "outputs": [
    {
     "data": {
      "text/plain": "array([[1, 2, 3],\n       [4, 5, 6]])"
     },
     "execution_count": 106,
     "metadata": {},
     "output_type": "execute_result"
    }
   ],
   "source": [
    "a = np.array([1, 2, 3])\n",
    "b = np.array([4, 5, 6])\n",
    "np.vstack((a,b))"
   ],
   "metadata": {
    "collapsed": false,
    "pycharm": {
     "name": "#%%\n"
    }
   }
  },
  {
   "cell_type": "code",
   "execution_count": 107,
   "outputs": [
    {
     "data": {
      "text/plain": "array([1, 2, 3, 4, 5, 6])"
     },
     "execution_count": 107,
     "metadata": {},
     "output_type": "execute_result"
    }
   ],
   "source": [
    "a = np.array((1,2,3))\n",
    "b = np.array((4,5,6))\n",
    "np.hstack((a,b))"
   ],
   "metadata": {
    "collapsed": false,
    "pycharm": {
     "name": "#%%\n"
    }
   }
  },
  {
   "cell_type": "code",
   "execution_count": 108,
   "outputs": [
    {
     "data": {
      "text/plain": "[array([0., 1., 2.]), array([3., 4., 5.]), array([6., 7., 8.])]"
     },
     "execution_count": 108,
     "metadata": {},
     "output_type": "execute_result"
    }
   ],
   "source": [
    "x = np.arange(9.0)\n",
    "np.split(x, 3)"
   ],
   "metadata": {
    "collapsed": false,
    "pycharm": {
     "name": "#%%\n"
    }
   }
  },
  {
   "cell_type": "code",
   "execution_count": 111,
   "outputs": [
    {
     "data": {
      "text/plain": "array([[ 0.,  1.,  2.,  3.],\n       [ 4.,  5.,  6.,  7.],\n       [ 8.,  9., 10., 11.],\n       [12., 13., 14., 15.]])"
     },
     "execution_count": 111,
     "metadata": {},
     "output_type": "execute_result"
    }
   ],
   "source": [
    "y = np.arange(16.0).reshape(4, 4)\n",
    "y"
   ],
   "metadata": {
    "collapsed": false,
    "pycharm": {
     "name": "#%%\n"
    }
   }
  },
  {
   "cell_type": "code",
   "execution_count": 112,
   "outputs": [
    {
     "data": {
      "text/plain": "[array([[ 0.,  1.],\n        [ 4.,  5.],\n        [ 8.,  9.],\n        [12., 13.]]),\n array([[ 2.,  3.],\n        [ 6.,  7.],\n        [10., 11.],\n        [14., 15.]])]"
     },
     "execution_count": 112,
     "metadata": {},
     "output_type": "execute_result"
    }
   ],
   "source": [
    "np.split(y, 2, axis=1)"
   ],
   "metadata": {
    "collapsed": false,
    "pycharm": {
     "name": "#%%\n"
    }
   }
  },
  {
   "cell_type": "code",
   "execution_count": 114,
   "outputs": [
    {
     "data": {
      "text/plain": "[array([0., 1., 2.]),\n array([3., 4.]),\n array([5.]),\n array([6., 7.]),\n array([], dtype=float64)]"
     },
     "execution_count": 114,
     "metadata": {},
     "output_type": "execute_result"
    }
   ],
   "source": [
    "x = np.arange(8.0)\n",
    "np.split(x, [3, 5, 6, 10])"
   ],
   "metadata": {
    "collapsed": false,
    "pycharm": {
     "name": "#%%\n"
    }
   }
  },
  {
   "cell_type": "code",
   "execution_count": 115,
   "outputs": [
    {
     "data": {
      "text/plain": "array([[ 0.,  1.,  2.,  3.],\n       [ 4.,  5.,  6.,  7.],\n       [ 8.,  9., 10., 11.],\n       [12., 13., 14., 15.]])"
     },
     "execution_count": 115,
     "metadata": {},
     "output_type": "execute_result"
    }
   ],
   "source": [
    "x = np.arange(16.0).reshape(4, 4)\n",
    "x"
   ],
   "metadata": {
    "collapsed": false,
    "pycharm": {
     "name": "#%%\n"
    }
   }
  },
  {
   "cell_type": "code",
   "execution_count": 116,
   "outputs": [
    {
     "data": {
      "text/plain": "[array([[ 0.,  1.],\n        [ 4.,  5.],\n        [ 8.,  9.],\n        [12., 13.]]),\n array([[ 2.,  3.],\n        [ 6.,  7.],\n        [10., 11.],\n        [14., 15.]])]"
     },
     "execution_count": 116,
     "metadata": {},
     "output_type": "execute_result"
    }
   ],
   "source": [
    "np.hsplit(x, 2)"
   ],
   "metadata": {
    "collapsed": false,
    "pycharm": {
     "name": "#%%\n"
    }
   }
  },
  {
   "cell_type": "code",
   "execution_count": 117,
   "outputs": [
    {
     "data": {
      "text/plain": "[array([[0., 1., 2., 3.],\n        [4., 5., 6., 7.]]),\n array([[ 8.,  9., 10., 11.],\n        [12., 13., 14., 15.]])]"
     },
     "execution_count": 117,
     "metadata": {},
     "output_type": "execute_result"
    }
   ],
   "source": [
    "np.vsplit(x, 2)"
   ],
   "metadata": {
    "collapsed": false,
    "pycharm": {
     "name": "#%%\n"
    }
   }
  },
  {
   "cell_type": "markdown",
   "source": [
    "## Arrays vs Lists"
   ],
   "metadata": {
    "collapsed": false,
    "pycharm": {
     "name": "#%% md\n"
    }
   }
  },
  {
   "cell_type": "markdown",
   "source": [
    "NumPy Arrays are generally faster than Python Lists:\n",
    "\n",
    "1 - Array: a collection of homogeneous data-types, stored in contiguous memory locations\n",
    "2 - List: a collection of heterogeneous data types, stored in non-contiguous memory locations.\n",
    "2 - NumPy breaks down a task into multiple fragments and then processes all the fragments in parallel\n",
    "3 - NumPy integrates C, C++, and Fortran codes in Python => very little execution time compared to Python."
   ],
   "metadata": {
    "collapsed": false,
    "pycharm": {
     "name": "#%% md\n"
    }
   }
  },
  {
   "cell_type": "code",
   "metadata": {
    "id": "CYf8KIrKpDlp",
    "pycharm": {
     "name": "#%%\n"
    }
   },
   "source": [
    "L = [1,2,3]"
   ],
   "execution_count": 118,
   "outputs": []
  },
  {
   "cell_type": "code",
   "metadata": {
    "id": "AABDVAM-pKqw",
    "pycharm": {
     "name": "#%%\n"
    }
   },
   "source": [
    "A = np.array([1,2,3])"
   ],
   "execution_count": 119,
   "outputs": []
  },
  {
   "cell_type": "code",
   "metadata": {
    "id": "hYwR2_RepN6D",
    "colab": {
     "base_uri": "https://localhost:8080/",
     "height": 69
    },
    "outputId": "4effcd64-4bee-41b2-8aa3-4b4ff31bc4c5",
    "executionInfo": {
     "status": "ok",
     "timestamp": 1587772979297,
     "user_tz": 240,
     "elapsed": 349,
     "user": {
      "displayName": "Lazy Programmer",
      "photoUrl": "",
      "userId": "14255399010036105472"
     }
    },
    "pycharm": {
     "name": "#%%\n"
    }
   },
   "source": [
    "for e in L:\n",
    "  print(e)"
   ],
   "execution_count": 120,
   "outputs": [
    {
     "name": "stdout",
     "output_type": "stream",
     "text": [
      "1\n",
      "2\n",
      "3\n"
     ]
    }
   ]
  },
  {
   "cell_type": "code",
   "metadata": {
    "id": "l3N31fTspP4B",
    "colab": {
     "base_uri": "https://localhost:8080/",
     "height": 69
    },
    "outputId": "cc87c864-904b-4dda-a362-55dd0c92175b",
    "executionInfo": {
     "status": "ok",
     "timestamp": 1587772986795,
     "user_tz": 240,
     "elapsed": 282,
     "user": {
      "displayName": "Lazy Programmer",
      "photoUrl": "",
      "userId": "14255399010036105472"
     }
    },
    "pycharm": {
     "name": "#%%\n"
    }
   },
   "source": [
    "for e in A:\n",
    "  print(e)"
   ],
   "execution_count": 121,
   "outputs": [
    {
     "name": "stdout",
     "output_type": "stream",
     "text": [
      "1\n",
      "2\n",
      "3\n"
     ]
    }
   ]
  },
  {
   "cell_type": "code",
   "metadata": {
    "id": "L_WURu4epSm6",
    "pycharm": {
     "name": "#%%\n"
    }
   },
   "source": [
    "L.append(4)"
   ],
   "execution_count": 122,
   "outputs": []
  },
  {
   "cell_type": "code",
   "metadata": {
    "id": "fDsd-UBXpXNU",
    "colab": {
     "base_uri": "https://localhost:8080/",
     "height": 34
    },
    "outputId": "ed4023d2-04e4-40eb-b07f-b4adee678ef5",
    "executionInfo": {
     "status": "ok",
     "timestamp": 1587773013009,
     "user_tz": 240,
     "elapsed": 351,
     "user": {
      "displayName": "Lazy Programmer",
      "photoUrl": "",
      "userId": "14255399010036105472"
     }
    },
    "pycharm": {
     "name": "#%%\n"
    }
   },
   "source": [
    "L"
   ],
   "execution_count": 123,
   "outputs": [
    {
     "data": {
      "text/plain": "[1, 2, 3, 4]"
     },
     "execution_count": 123,
     "metadata": {},
     "output_type": "execute_result"
    }
   ]
  },
  {
   "cell_type": "code",
   "metadata": {
    "id": "8DP73J3KpYH7",
    "colab": {
     "base_uri": "https://localhost:8080/",
     "height": 165
    },
    "outputId": "94167c1d-271b-427b-db7d-588a1d0870eb",
    "executionInfo": {
     "status": "error",
     "timestamp": 1587773023778,
     "user_tz": 240,
     "elapsed": 308,
     "user": {
      "displayName": "Lazy Programmer",
      "photoUrl": "",
      "userId": "14255399010036105472"
     }
    },
    "pycharm": {
     "name": "#%%\n"
    }
   },
   "source": [
    "A.append(4) # doesn't work, append exists in the module level, not in arrays"
   ],
   "execution_count": 124,
   "outputs": [
    {
     "ename": "AttributeError",
     "evalue": "'numpy.ndarray' object has no attribute 'append'",
     "output_type": "error",
     "traceback": [
      "\u001B[1;31m---------------------------------------------------------------------------\u001B[0m",
      "\u001B[1;31mAttributeError\u001B[0m                            Traceback (most recent call last)",
      "Input \u001B[1;32mIn [124]\u001B[0m, in \u001B[0;36m<cell line: 1>\u001B[1;34m()\u001B[0m\n\u001B[1;32m----> 1\u001B[0m \u001B[43mA\u001B[49m\u001B[38;5;241;43m.\u001B[39;49m\u001B[43mappend\u001B[49m(\u001B[38;5;241m4\u001B[39m)\n",
      "\u001B[1;31mAttributeError\u001B[0m: 'numpy.ndarray' object has no attribute 'append'"
     ]
    }
   ]
  },
  {
   "cell_type": "code",
   "metadata": {
    "id": "beoI6SsCpbQW",
    "colab": {
     "base_uri": "https://localhost:8080/",
     "height": 34
    },
    "outputId": "1a3cb76e-d114-40c2-cccc-677bfcd271c7",
    "executionInfo": {
     "status": "ok",
     "timestamp": 1587773047730,
     "user_tz": 240,
     "elapsed": 349,
     "user": {
      "displayName": "Lazy Programmer",
      "photoUrl": "",
      "userId": "14255399010036105472"
     }
    },
    "pycharm": {
     "name": "#%%\n"
    }
   },
   "source": [
    "L + [5]"
   ],
   "execution_count": 125,
   "outputs": [
    {
     "data": {
      "text/plain": "[1, 2, 3, 4, 5]"
     },
     "execution_count": 125,
     "metadata": {},
     "output_type": "execute_result"
    }
   ]
  },
  {
   "cell_type": "code",
   "metadata": {
    "id": "UodzHCvUphsg",
    "colab": {
     "base_uri": "https://localhost:8080/",
     "height": 34
    },
    "outputId": "ffc97294-e578-4461-9a8d-1e4cb3ec8349",
    "executionInfo": {
     "status": "ok",
     "timestamp": 1587773060453,
     "user_tz": 240,
     "elapsed": 320,
     "user": {
      "displayName": "Lazy Programmer",
      "photoUrl": "",
      "userId": "14255399010036105472"
     }
    },
    "pycharm": {
     "name": "#%%\n"
    }
   },
   "source": [
    "A + np.array([4])"
   ],
   "execution_count": 126,
   "outputs": [
    {
     "data": {
      "text/plain": "array([5, 6, 7])"
     },
     "execution_count": 126,
     "metadata": {},
     "output_type": "execute_result"
    }
   ]
  },
  {
   "cell_type": "code",
   "metadata": {
    "id": "NQeDCZ9fpl3M",
    "colab": {
     "base_uri": "https://localhost:8080/",
     "height": 34
    },
    "outputId": "a1d67ed8-c5c6-4415-b36d-74134fefe2e8",
    "executionInfo": {
     "status": "ok",
     "timestamp": 1587773076639,
     "user_tz": 240,
     "elapsed": 295,
     "user": {
      "displayName": "Lazy Programmer",
      "photoUrl": "",
      "userId": "14255399010036105472"
     }
    },
    "pycharm": {
     "name": "#%%\n"
    }
   },
   "source": [
    "A + np.array([4,5,6])"
   ],
   "execution_count": 127,
   "outputs": [
    {
     "data": {
      "text/plain": "array([5, 7, 9])"
     },
     "execution_count": 127,
     "metadata": {},
     "output_type": "execute_result"
    }
   ]
  },
  {
   "cell_type": "code",
   "metadata": {
    "id": "FvYRdkbHppDf",
    "colab": {
     "base_uri": "https://localhost:8080/",
     "height": 165
    },
    "outputId": "66caa26f-476b-4fa0-8c85-9e1c69aa1620",
    "executionInfo": {
     "status": "error",
     "timestamp": 1587773092623,
     "user_tz": 240,
     "elapsed": 309,
     "user": {
      "displayName": "Lazy Programmer",
      "photoUrl": "",
      "userId": "14255399010036105472"
     }
    },
    "pycharm": {
     "name": "#%%\n"
    }
   },
   "source": [
    "A + np.array([4,5]) # doesn't work"
   ],
   "execution_count": 128,
   "outputs": [
    {
     "ename": "ValueError",
     "evalue": "operands could not be broadcast together with shapes (3,) (2,) ",
     "output_type": "error",
     "traceback": [
      "\u001B[1;31m---------------------------------------------------------------------------\u001B[0m",
      "\u001B[1;31mValueError\u001B[0m                                Traceback (most recent call last)",
      "Input \u001B[1;32mIn [128]\u001B[0m, in \u001B[0;36m<cell line: 1>\u001B[1;34m()\u001B[0m\n\u001B[1;32m----> 1\u001B[0m \u001B[43mA\u001B[49m\u001B[43m \u001B[49m\u001B[38;5;241;43m+\u001B[39;49m\u001B[43m \u001B[49m\u001B[43mnp\u001B[49m\u001B[38;5;241;43m.\u001B[39;49m\u001B[43marray\u001B[49m\u001B[43m(\u001B[49m\u001B[43m[\u001B[49m\u001B[38;5;241;43m4\u001B[39;49m\u001B[43m,\u001B[49m\u001B[38;5;241;43m5\u001B[39;49m\u001B[43m]\u001B[49m\u001B[43m)\u001B[49m\n",
      "\u001B[1;31mValueError\u001B[0m: operands could not be broadcast together with shapes (3,) (2,) "
     ]
    }
   ]
  },
  {
   "cell_type": "code",
   "metadata": {
    "id": "MS2n4LxVpr6b",
    "colab": {
     "base_uri": "https://localhost:8080/",
     "height": 34
    },
    "outputId": "d48b85bd-9d2b-4438-89b2-e9ce2d7c7088",
    "executionInfo": {
     "status": "ok",
     "timestamp": 1587773100554,
     "user_tz": 240,
     "elapsed": 329,
     "user": {
      "displayName": "Lazy Programmer",
      "photoUrl": "",
      "userId": "14255399010036105472"
     }
    },
    "pycharm": {
     "name": "#%%\n"
    }
   },
   "source": [
    "2 * A"
   ],
   "execution_count": 129,
   "outputs": [
    {
     "data": {
      "text/plain": "array([2, 4, 6])"
     },
     "execution_count": 129,
     "metadata": {},
     "output_type": "execute_result"
    }
   ]
  },
  {
   "cell_type": "code",
   "metadata": {
    "id": "zO4USxRzptgs",
    "colab": {
     "base_uri": "https://localhost:8080/",
     "height": 34
    },
    "outputId": "7849d253-508e-4bb2-8a5a-c3f6be1b426a",
    "executionInfo": {
     "status": "ok",
     "timestamp": 1587773106336,
     "user_tz": 240,
     "elapsed": 299,
     "user": {
      "displayName": "Lazy Programmer",
      "photoUrl": "",
      "userId": "14255399010036105472"
     }
    },
    "pycharm": {
     "name": "#%%\n"
    }
   },
   "source": [
    "2 * L"
   ],
   "execution_count": 130,
   "outputs": [
    {
     "data": {
      "text/plain": "[1, 2, 3, 4, 1, 2, 3, 4]"
     },
     "execution_count": 130,
     "metadata": {},
     "output_type": "execute_result"
    }
   ]
  },
  {
   "cell_type": "code",
   "metadata": {
    "id": "LtLSqZgipu-P",
    "colab": {
     "base_uri": "https://localhost:8080/",
     "height": 34
    },
    "outputId": "d8229959-be65-48cb-d1e9-bb6f7633c956",
    "executionInfo": {
     "status": "ok",
     "timestamp": 1587773115341,
     "user_tz": 240,
     "elapsed": 325,
     "user": {
      "displayName": "Lazy Programmer",
      "photoUrl": "",
      "userId": "14255399010036105472"
     }
    },
    "pycharm": {
     "name": "#%%\n"
    }
   },
   "source": [
    "L + L"
   ],
   "execution_count": 131,
   "outputs": [
    {
     "data": {
      "text/plain": "[1, 2, 3, 4, 1, 2, 3, 4]"
     },
     "execution_count": 131,
     "metadata": {},
     "output_type": "execute_result"
    }
   ]
  },
  {
   "cell_type": "code",
   "metadata": {
    "id": "RJ11NZkSp13o",
    "pycharm": {
     "name": "#%%\n"
    }
   },
   "source": [
    "L2 = []\n",
    "for e in L:\n",
    "  L2.append(e + 3)"
   ],
   "execution_count": 133,
   "outputs": []
  },
  {
   "cell_type": "code",
   "metadata": {
    "id": "ZgtqoSvIp4va",
    "colab": {
     "base_uri": "https://localhost:8080/",
     "height": 34
    },
    "outputId": "94b54728-7bbb-490a-8139-b185952eee75",
    "executionInfo": {
     "status": "ok",
     "timestamp": 1587773149970,
     "user_tz": 240,
     "elapsed": 342,
     "user": {
      "displayName": "Lazy Programmer",
      "photoUrl": "",
      "userId": "14255399010036105472"
     }
    },
    "pycharm": {
     "name": "#%%\n"
    }
   },
   "source": [
    "L2"
   ],
   "execution_count": 134,
   "outputs": [
    {
     "data": {
      "text/plain": "[4, 5, 6, 7]"
     },
     "execution_count": 134,
     "metadata": {},
     "output_type": "execute_result"
    }
   ]
  },
  {
   "cell_type": "code",
   "metadata": {
    "id": "GZCQEk-Rp7gx",
    "pycharm": {
     "name": "#%%\n"
    }
   },
   "source": [
    "L2 = [e + 3 for e in L]"
   ],
   "execution_count": 135,
   "outputs": []
  },
  {
   "cell_type": "code",
   "metadata": {
    "id": "McUAtUVep960",
    "colab": {
     "base_uri": "https://localhost:8080/",
     "height": 34
    },
    "outputId": "c37a99a1-c9b8-43f4-eb3b-1302c13ce650",
    "executionInfo": {
     "status": "ok",
     "timestamp": 1587773171286,
     "user_tz": 240,
     "elapsed": 288,
     "user": {
      "displayName": "Lazy Programmer",
      "photoUrl": "",
      "userId": "14255399010036105472"
     }
    },
    "pycharm": {
     "name": "#%%\n",
     "is_executing": true
    }
   },
   "source": [
    "L2"
   ],
   "execution_count": null,
   "outputs": []
  },
  {
   "cell_type": "code",
   "metadata": {
    "id": "vcy3WKcwp-wi",
    "pycharm": {
     "name": "#%%\n"
    }
   },
   "source": [
    "L2 = []\n",
    "for e in L:\n",
    "  L2.append(e**2)"
   ],
   "execution_count": 136,
   "outputs": []
  },
  {
   "cell_type": "code",
   "metadata": {
    "id": "1Emx-hN_qDa2",
    "colab": {
     "base_uri": "https://localhost:8080/",
     "height": 34
    },
    "outputId": "80aa407c-6892-494e-83bc-58ddd81ac8c4",
    "executionInfo": {
     "status": "ok",
     "timestamp": 1587773193879,
     "user_tz": 240,
     "elapsed": 341,
     "user": {
      "displayName": "Lazy Programmer",
      "photoUrl": "",
      "userId": "14255399010036105472"
     }
    },
    "pycharm": {
     "name": "#%%\n",
     "is_executing": true
    }
   },
   "source": [
    "L2"
   ],
   "execution_count": null,
   "outputs": []
  },
  {
   "cell_type": "code",
   "metadata": {
    "id": "blVB8cA9qERt",
    "colab": {
     "base_uri": "https://localhost:8080/",
     "height": 34
    },
    "outputId": "8cd94e43-57f3-44c9-9b16-d39c46905a23",
    "executionInfo": {
     "status": "ok",
     "timestamp": 1587773199113,
     "user_tz": 240,
     "elapsed": 302,
     "user": {
      "displayName": "Lazy Programmer",
      "photoUrl": "",
      "userId": "14255399010036105472"
     }
    },
    "pycharm": {
     "name": "#%%\n"
    }
   },
   "source": [
    "A**2"
   ],
   "execution_count": 137,
   "outputs": [
    {
     "data": {
      "text/plain": "array([1, 4, 9])"
     },
     "execution_count": 137,
     "metadata": {},
     "output_type": "execute_result"
    }
   ]
  },
  {
   "cell_type": "code",
   "metadata": {
    "id": "gDfVRJ5fqGPV",
    "colab": {
     "base_uri": "https://localhost:8080/",
     "height": 34
    },
    "outputId": "ef944468-55e3-4c70-921b-a4c70ae55152",
    "executionInfo": {
     "status": "ok",
     "timestamp": 1587773208508,
     "user_tz": 240,
     "elapsed": 322,
     "user": {
      "displayName": "Lazy Programmer",
      "photoUrl": "",
      "userId": "14255399010036105472"
     }
    },
    "pycharm": {
     "name": "#%%\n"
    }
   },
   "source": [
    "np.sqrt(A)"
   ],
   "execution_count": 138,
   "outputs": [
    {
     "data": {
      "text/plain": "array([1.        , 1.41421356, 1.73205081])"
     },
     "execution_count": 138,
     "metadata": {},
     "output_type": "execute_result"
    }
   ]
  },
  {
   "cell_type": "code",
   "metadata": {
    "id": "yUwFM2OhqHwq",
    "colab": {
     "base_uri": "https://localhost:8080/",
     "height": 34
    },
    "outputId": "ed7a9fbe-35dd-4891-80d7-c81752bcfc36",
    "executionInfo": {
     "status": "ok",
     "timestamp": 1587773212756,
     "user_tz": 240,
     "elapsed": 327,
     "user": {
      "displayName": "Lazy Programmer",
      "photoUrl": "",
      "userId": "14255399010036105472"
     }
    },
    "pycharm": {
     "name": "#%%\n"
    }
   },
   "source": [
    "np.log(A)"
   ],
   "execution_count": 139,
   "outputs": [
    {
     "data": {
      "text/plain": "array([0.        , 0.69314718, 1.09861229])"
     },
     "execution_count": 139,
     "metadata": {},
     "output_type": "execute_result"
    }
   ]
  },
  {
   "cell_type": "code",
   "metadata": {
    "id": "vlF9GWxzqIpd",
    "colab": {
     "base_uri": "https://localhost:8080/",
     "height": 34
    },
    "outputId": "01c11376-8c93-4ae2-a095-b00650ff8cd6",
    "executionInfo": {
     "status": "ok",
     "timestamp": 1587773216145,
     "user_tz": 240,
     "elapsed": 271,
     "user": {
      "displayName": "Lazy Programmer",
      "photoUrl": "",
      "userId": "14255399010036105472"
     }
    },
    "pycharm": {
     "name": "#%%\n"
    }
   },
   "source": [
    "np.exp(A)"
   ],
   "execution_count": 140,
   "outputs": [
    {
     "data": {
      "text/plain": "array([ 2.71828183,  7.3890561 , 20.08553692])"
     },
     "execution_count": 140,
     "metadata": {},
     "output_type": "execute_result"
    }
   ]
  },
  {
   "cell_type": "code",
   "metadata": {
    "id": "pPvbPZB6qJq2",
    "colab": {
     "base_uri": "https://localhost:8080/",
     "height": 34
    },
    "outputId": "83ddddd6-4e30-4e47-d4dd-86b9db6ec483",
    "executionInfo": {
     "status": "ok",
     "timestamp": 1587773221400,
     "user_tz": 240,
     "elapsed": 251,
     "user": {
      "displayName": "Lazy Programmer",
      "photoUrl": "",
      "userId": "14255399010036105472"
     }
    },
    "pycharm": {
     "name": "#%%\n",
     "is_executing": true
    }
   },
   "source": [
    "np.tanh(A)"
   ],
   "execution_count": null,
   "outputs": []
  },
  {
   "cell_type": "code",
   "execution_count": 142,
   "outputs": [],
   "source": [
    "# Test to compare List and Array\n",
    "numpy_array = np.random.rand(1000000)\n",
    "list_conv = list(numpy_array)"
   ],
   "metadata": {
    "collapsed": false,
    "pycharm": {
     "name": "#%%\n"
    }
   }
  },
  {
   "cell_type": "code",
   "execution_count": 143,
   "outputs": [
    {
     "name": "stdout",
     "output_type": "stream",
     "text": [
      "Computing the mean using NumPy: 0.5000947341583862\n",
      "Computation time: 0.004998683929443359\n"
     ]
    }
   ],
   "source": [
    "start1 = time()\n",
    "numpy_mean = np.mean(numpy_array)\n",
    "print(f\"Computing the mean using NumPy: {numpy_mean}\")\n",
    "end1 = time()\n",
    "time1 = end1 - start1\n",
    "print(f\"Computation time: {time1}\")"
   ],
   "metadata": {
    "collapsed": false,
    "pycharm": {
     "name": "#%%\n"
    }
   }
  },
  {
   "cell_type": "code",
   "execution_count": 144,
   "outputs": [
    {
     "name": "stdout",
     "output_type": "stream",
     "text": [
      "Computing the mean using lists: 0.5000947341583862\n",
      "Computation time: 0.1209249496459961\n"
     ]
    }
   ],
   "source": [
    "start2 = time()\n",
    "list_mean = np.mean(list_conv)\n",
    "print(f\"Computing the mean using lists: {list_mean}\")\n",
    "end2 = time()\n",
    "time2 = end2 - start2\n",
    "print(f\"Computation time: {time2}\")"
   ],
   "metadata": {
    "collapsed": false,
    "pycharm": {
     "name": "#%%\n"
    }
   }
  },
  {
   "cell_type": "code",
   "execution_count": 145,
   "outputs": [],
   "source": [
    "assert abs(numpy_mean - list_mean) <= 10e-6, \"Alert, means are not equal\""
   ],
   "metadata": {
    "collapsed": false,
    "pycharm": {
     "name": "#%%\n"
    }
   }
  },
  {
   "cell_type": "code",
   "execution_count": 146,
   "outputs": [],
   "source": [
    "# Numpy Slower than List\n",
    "def numpy_append():\n",
    "    arr = np.empty((1, 0), int)\n",
    "    for i in range(100000):\n",
    "        arr = np.append(arr, np.array(i))\n",
    "    return arr"
   ],
   "metadata": {
    "collapsed": false,
    "pycharm": {
     "name": "#%%\n"
    }
   }
  },
  {
   "cell_type": "code",
   "execution_count": 147,
   "outputs": [],
   "source": [
    "def list_append():\n",
    "    list_1 = []\n",
    "    for i in range(100000):\n",
    "        list_1.append(i)\n",
    "    return list_1"
   ],
   "metadata": {
    "collapsed": false,
    "pycharm": {
     "name": "#%%\n"
    }
   }
  },
  {
   "cell_type": "code",
   "execution_count": 148,
   "outputs": [],
   "source": [
    "def main ():\n",
    "\n",
    "    start1 = time()\n",
    "    new_np_arr = numpy_append()\n",
    "    end1 = time()\n",
    "    print(f\"Computation time of the numpy array : {end1 - start1}\")\n",
    "\n",
    "    start2 = time()\n",
    "    new_list = list_append()\n",
    "    end2 = time()\n",
    "    print(f\"Computation time of the list: {end2 - start2}\")\n",
    "\n",
    "    assert list(new_np_arr) == new_list, \"Arrays tested are not the same\""
   ],
   "metadata": {
    "collapsed": false,
    "pycharm": {
     "name": "#%%\n"
    }
   }
  },
  {
   "cell_type": "code",
   "execution_count": 149,
   "outputs": [
    {
     "name": "stdout",
     "output_type": "stream",
     "text": [
      "Computation time of the numpy array : 4.460419416427612\n",
      "Computation time of the list: 0.006995201110839844\n"
     ]
    }
   ],
   "source": [
    "if __name__ == \"__main__\":\n",
    "    main()"
   ],
   "metadata": {
    "collapsed": false,
    "pycharm": {
     "name": "#%%\n"
    }
   }
  },
  {
   "cell_type": "markdown",
   "source": [
    "\"Append values to the end of an array.\n",
    "    Parameters\n",
    "    ----------\n",
    "    arr : array_like\n",
    "        Values are appended to a copy of this array.\n",
    "    values : array_like\n",
    "        These values are appended to a copy of `arr`.  It must be of\n",
    "        the correct shape (the same shape as `arr`, excluding\n",
    "        `axis`). If `axis` is not specified, `values` can be any\n",
    "        shape and will be flattened before use.\n",
    "    axis : int, optional\n",
    "        The axis along which `values` are appended.  If `axis` is\n",
    "        not given, both `arr` and `values` are flattened before use.\n",
    "    Returns\n",
    "    -------\n",
    "    append : ndarray\n",
    "        A copy of `arr` with `values` appended to `axis`.  Note that\n",
    "        `append` does not occur in-place: a new array is allocated\n",
    "        and filled.  If `axis` is None, `out` is a flattened array.\""
   ],
   "metadata": {
    "collapsed": false,
    "pycharm": {
     "name": "#%% md\n"
    }
   }
  },
  {
   "cell_type": "markdown",
   "source": [
    "## Deque and Comparison to List\n",
    "\n",
    "https://dev.to/v_it_aly/python-deque-vs-listwh-25i9\n"
   ],
   "metadata": {
    "collapsed": false,
    "pycharm": {
     "name": "#%% md\n"
    }
   }
  },
  {
   "cell_type": "code",
   "execution_count": 150,
   "outputs": [
    {
     "name": "stdout",
     "output_type": "stream",
     "text": [
      "Size of the whole list in bytes:  8056\n",
      "Size of the whole list in bytes:  4112\n"
     ]
    }
   ],
   "source": [
    "S = range(1000)\n",
    "print(\"Size of the whole list in bytes: \",sys.getsizeof(list(S)))\n",
    "D = np.arange(1000)\n",
    "print(\"Size of the whole list in bytes: \",sys.getsizeof(D))"
   ],
   "metadata": {
    "collapsed": false,
    "pycharm": {
     "name": "#%%\n"
    }
   }
  },
  {
   "cell_type": "code",
   "execution_count": 157,
   "outputs": [
    {
     "name": "stdout",
     "output_type": "stream",
     "text": [
      "False\n",
      "l1: 136,  l2:216\n"
     ]
    }
   ],
   "source": [
    "l1 = list(range(10))\n",
    "l2 = [0, 1, 2, 3, 4, 5, 6 ,7, 8, 9, 10, 11, 12, 13, 14, 15, 16]\n",
    "print(sys.getsizeof(l1) == sys.getsizeof(l2))\n",
    "print(f'l1: {sys.getsizeof(l1)},  l2:{sys.getsizeof(l2)}')"
   ],
   "metadata": {
    "collapsed": false,
    "pycharm": {
     "name": "#%%\n"
    }
   }
  },
  {
   "cell_type": "markdown",
   "metadata": {
    "id": "bITmEpM7LszR",
    "pycharm": {
     "name": "#%% md\n"
    }
   },
   "source": [
    "## The Dot Product"
   ]
  },
  {
   "cell_type": "markdown",
   "metadata": {
    "id": "OJa5nyifvA-j",
    "pycharm": {
     "name": "#%% md\n"
    }
   },
   "source": [
    "$$ a \\cdot b = a^T b = \\sum_{d=1}^D a_d b_d $$"
   ]
  },
  {
   "cell_type": "code",
   "metadata": {
    "id": "JnZ_vWW4qMTE",
    "pycharm": {
     "name": "#%%\n"
    }
   },
   "source": [
    "a = np.array([1,2])\n",
    "b = np.array([3,4])"
   ],
   "execution_count": 3,
   "outputs": []
  },
  {
   "cell_type": "code",
   "metadata": {
    "id": "bdD4Vzm3ryuR",
    "colab": {
     "base_uri": "https://localhost:8080/",
     "height": 34
    },
    "outputId": "978bbe7b-18da-440a-f108-796a9bab3e5e",
    "executionInfo": {
     "status": "ok",
     "timestamp": 1587773666588,
     "user_tz": 240,
     "elapsed": 343,
     "user": {
      "displayName": "Lazy Programmer",
      "photoUrl": "",
      "userId": "14255399010036105472"
     }
    },
    "pycharm": {
     "name": "#%%\n"
    }
   },
   "source": [
    "dot = 0\n",
    "for e, f in zip(a, b):\n",
    "  dot += e*f\n",
    "dot"
   ],
   "execution_count": 4,
   "outputs": [
    {
     "data": {
      "text/plain": "11"
     },
     "execution_count": 4,
     "metadata": {},
     "output_type": "execute_result"
    }
   ]
  },
  {
   "cell_type": "code",
   "metadata": {
    "id": "efUGU3ZNEH9T",
    "colab": {
     "base_uri": "https://localhost:8080/",
     "height": 34
    },
    "outputId": "1a20f7db-f13f-4a74-e934-0fac7d25d93e",
    "executionInfo": {
     "status": "ok",
     "timestamp": 1587780050009,
     "user_tz": 240,
     "elapsed": 321,
     "user": {
      "displayName": "Lazy Programmer",
      "photoUrl": "",
      "userId": "14255399010036105472"
     }
    },
    "pycharm": {
     "name": "#%%\n"
    }
   },
   "source": [
    "# use integer index\n",
    "dot = 0\n",
    "for i in range(len(a)):\n",
    "  dot += a[i] * b[i]\n",
    "dot"
   ],
   "execution_count": 5,
   "outputs": [
    {
     "data": {
      "text/plain": "11"
     },
     "execution_count": 5,
     "metadata": {},
     "output_type": "execute_result"
    }
   ]
  },
  {
   "cell_type": "code",
   "metadata": {
    "id": "O8BdMMpxr6F_",
    "colab": {
     "base_uri": "https://localhost:8080/",
     "height": 34
    },
    "outputId": "ebaf4f01-ab2e-41dc-b483-a608cc8308bd",
    "executionInfo": {
     "status": "ok",
     "timestamp": 1587773681962,
     "user_tz": 240,
     "elapsed": 328,
     "user": {
      "displayName": "Lazy Programmer",
      "photoUrl": "",
      "userId": "14255399010036105472"
     }
    },
    "pycharm": {
     "name": "#%%\n"
    }
   },
   "source": [
    "a * b"
   ],
   "execution_count": 6,
   "outputs": [
    {
     "data": {
      "text/plain": "array([3, 8])"
     },
     "execution_count": 6,
     "metadata": {},
     "output_type": "execute_result"
    }
   ]
  },
  {
   "cell_type": "code",
   "metadata": {
    "id": "E_Msua0sr_Tz",
    "colab": {
     "base_uri": "https://localhost:8080/",
     "height": 34
    },
    "outputId": "dbf7dfe7-f54f-43f6-e0c4-8ce2ff699749",
    "executionInfo": {
     "status": "ok",
     "timestamp": 1587773704847,
     "user_tz": 240,
     "elapsed": 318,
     "user": {
      "displayName": "Lazy Programmer",
      "photoUrl": "",
      "userId": "14255399010036105472"
     }
    },
    "pycharm": {
     "name": "#%%\n"
    }
   },
   "source": [
    "np.sum(a * b)"
   ],
   "execution_count": 7,
   "outputs": [
    {
     "data": {
      "text/plain": "11"
     },
     "execution_count": 7,
     "metadata": {},
     "output_type": "execute_result"
    }
   ]
  },
  {
   "cell_type": "code",
   "metadata": {
    "id": "HHLSRnxDsBEo",
    "colab": {
     "base_uri": "https://localhost:8080/",
     "height": 34
    },
    "outputId": "26468871-f9f7-439f-bf99-695ab810f19b",
    "executionInfo": {
     "status": "ok",
     "timestamp": 1587773712201,
     "user_tz": 240,
     "elapsed": 338,
     "user": {
      "displayName": "Lazy Programmer",
      "photoUrl": "",
      "userId": "14255399010036105472"
     }
    },
    "pycharm": {
     "name": "#%%\n"
    }
   },
   "source": [
    "(a * b).sum()"
   ],
   "execution_count": 8,
   "outputs": [
    {
     "data": {
      "text/plain": "11"
     },
     "execution_count": 8,
     "metadata": {},
     "output_type": "execute_result"
    }
   ]
  },
  {
   "cell_type": "code",
   "metadata": {
    "id": "aRR1cbgksDmr",
    "colab": {
     "base_uri": "https://localhost:8080/",
     "height": 34
    },
    "outputId": "36d65548-3372-4983-cf70-7852eefc09b1",
    "executionInfo": {
     "status": "ok",
     "timestamp": 1587773721721,
     "user_tz": 240,
     "elapsed": 345,
     "user": {
      "displayName": "Lazy Programmer",
      "photoUrl": "",
      "userId": "14255399010036105472"
     }
    },
    "pycharm": {
     "name": "#%%\n"
    }
   },
   "source": [
    "np.dot(a, b)"
   ],
   "execution_count": 9,
   "outputs": [
    {
     "data": {
      "text/plain": "11"
     },
     "execution_count": 9,
     "metadata": {},
     "output_type": "execute_result"
    }
   ]
  },
  {
   "cell_type": "code",
   "metadata": {
    "id": "6WwQ2TzHsFC3",
    "colab": {
     "base_uri": "https://localhost:8080/",
     "height": 34
    },
    "outputId": "872d1321-a426-4cd0-b22d-ca9b9ca51d74",
    "executionInfo": {
     "status": "ok",
     "timestamp": 1587773725658,
     "user_tz": 240,
     "elapsed": 330,
     "user": {
      "displayName": "Lazy Programmer",
      "photoUrl": "",
      "userId": "14255399010036105472"
     }
    },
    "pycharm": {
     "name": "#%%\n"
    }
   },
   "source": [
    "a.dot(b)"
   ],
   "execution_count": 10,
   "outputs": [
    {
     "data": {
      "text/plain": "11"
     },
     "execution_count": 10,
     "metadata": {},
     "output_type": "execute_result"
    }
   ]
  },
  {
   "cell_type": "code",
   "metadata": {
    "id": "l34Llv1MsGGI",
    "colab": {
     "base_uri": "https://localhost:8080/",
     "height": 34
    },
    "outputId": "980cb603-318d-4cd2-c170-192af7b8ce57",
    "executionInfo": {
     "status": "ok",
     "timestamp": 1587773730314,
     "user_tz": 240,
     "elapsed": 398,
     "user": {
      "displayName": "Lazy Programmer",
      "photoUrl": "",
      "userId": "14255399010036105472"
     }
    },
    "pycharm": {
     "name": "#%%\n"
    }
   },
   "source": [
    "b.dot(a)"
   ],
   "execution_count": 11,
   "outputs": [
    {
     "data": {
      "text/plain": "11"
     },
     "execution_count": 11,
     "metadata": {},
     "output_type": "execute_result"
    }
   ]
  },
  {
   "cell_type": "code",
   "metadata": {
    "id": "w7uLRNdesHTM",
    "colab": {
     "base_uri": "https://localhost:8080/",
     "height": 34
    },
    "outputId": "8b09565f-c3c0-4f63-b629-e1947ba538a5",
    "executionInfo": {
     "status": "ok",
     "timestamp": 1587773735804,
     "user_tz": 240,
     "elapsed": 315,
     "user": {
      "displayName": "Lazy Programmer",
      "photoUrl": "",
      "userId": "14255399010036105472"
     }
    },
    "pycharm": {
     "name": "#%%\n"
    }
   },
   "source": [
    "a @ b"
   ],
   "execution_count": 12,
   "outputs": [
    {
     "data": {
      "text/plain": "11"
     },
     "execution_count": 12,
     "metadata": {},
     "output_type": "execute_result"
    }
   ]
  },
  {
   "cell_type": "markdown",
   "metadata": {
    "id": "NeQ_U0EevVxR",
    "pycharm": {
     "name": "#%% md\n"
    }
   },
   "source": [
    "$$ a^T b = \\left\\lVert a \\right\\rVert \\left\\lVert b \\right\\rVert \\cos \\theta_{ab}$$\n",
    "\n",
    "$$ \\cos \\theta_{ab} = \\frac{a^T b}{\\left\\lVert a \\right\\rVert \\left\\lVert b \\right\\rVert} $$"
   ]
  },
  {
   "cell_type": "markdown",
   "source": [
    "## Computing Second Norm of an Array"
   ],
   "metadata": {
    "collapsed": false,
    "pycharm": {
     "name": "#%% md\n"
    }
   }
  },
  {
   "cell_type": "markdown",
   "metadata": {
    "id": "HPnLQJ8zwjsZ",
    "pycharm": {
     "name": "#%% md\n"
    }
   },
   "source": [
    "$$ \\left\\lVert a \\right\\rVert = \\sqrt{\\sum_{d=1}^D a_d^2 } $$"
   ]
  },
  {
   "cell_type": "code",
   "metadata": {
    "id": "uTIfhyQQsTW7",
    "colab": {
     "base_uri": "https://localhost:8080/",
     "height": 34
    },
    "outputId": "988b26c3-1f3c-43d2-b394-559439145d90",
    "executionInfo": {
     "status": "ok",
     "timestamp": 1587773801516,
     "user_tz": 240,
     "elapsed": 384,
     "user": {
      "displayName": "Lazy Programmer",
      "photoUrl": "",
      "userId": "14255399010036105472"
     }
    },
    "pycharm": {
     "name": "#%%\n"
    }
   },
   "source": [
    "mag = np.sqrt((a * a).sum())\n",
    "mag"
   ],
   "execution_count": 13,
   "outputs": [
    {
     "data": {
      "text/plain": "2.23606797749979"
     },
     "execution_count": 13,
     "metadata": {},
     "output_type": "execute_result"
    }
   ]
  },
  {
   "cell_type": "code",
   "metadata": {
    "id": "WmeKjge-sYc-",
    "colab": {
     "base_uri": "https://localhost:8080/",
     "height": 34
    },
    "outputId": "3c25d919-2905-4a66-aad9-5f21ac778f2c",
    "executionInfo": {
     "status": "ok",
     "timestamp": 1587773819273,
     "user_tz": 240,
     "elapsed": 313,
     "user": {
      "displayName": "Lazy Programmer",
      "photoUrl": "",
      "userId": "14255399010036105472"
     }
    },
    "pycharm": {
     "name": "#%%\n"
    }
   },
   "source": [
    "mag = np.linalg.norm(mag)\n",
    "mag"
   ],
   "execution_count": 14,
   "outputs": [
    {
     "data": {
      "text/plain": "2.23606797749979"
     },
     "execution_count": 14,
     "metadata": {},
     "output_type": "execute_result"
    }
   ]
  },
  {
   "cell_type": "code",
   "metadata": {
    "id": "ABr65tNMsc7_",
    "pycharm": {
     "name": "#%%\n"
    }
   },
   "source": [
    "cos_angle = a.dot(b) / (np.linalg.norm(a) * np.linalg.norm(b))"
   ],
   "execution_count": 16,
   "outputs": []
  },
  {
   "cell_type": "code",
   "metadata": {
    "id": "tFlv4mQcsho3",
    "colab": {
     "base_uri": "https://localhost:8080/",
     "height": 34
    },
    "outputId": "9f3fc36b-ed65-41f0-d8a1-6125a347c6d8",
    "executionInfo": {
     "status": "ok",
     "timestamp": 1587773842843,
     "user_tz": 240,
     "elapsed": 403,
     "user": {
      "displayName": "Lazy Programmer",
      "photoUrl": "",
      "userId": "14255399010036105472"
     }
    },
    "pycharm": {
     "name": "#%%\n"
    }
   },
   "source": [
    "cos_angle"
   ],
   "execution_count": 17,
   "outputs": [
    {
     "data": {
      "text/plain": "0.9838699100999074"
     },
     "execution_count": 17,
     "metadata": {},
     "output_type": "execute_result"
    }
   ]
  },
  {
   "cell_type": "code",
   "metadata": {
    "id": "6zwbfBYIsi_P",
    "colab": {
     "base_uri": "https://localhost:8080/",
     "height": 34
    },
    "outputId": "38430260-e3bc-45ae-f06f-8ad302cff451",
    "executionInfo": {
     "status": "ok",
     "timestamp": 1587773858432,
     "user_tz": 240,
     "elapsed": 280,
     "user": {
      "displayName": "Lazy Programmer",
      "photoUrl": "",
      "userId": "14255399010036105472"
     }
    },
    "pycharm": {
     "name": "#%%\n"
    }
   },
   "source": [
    "angle = np.arccos(cos_angle)\n",
    "angle"
   ],
   "execution_count": 18,
   "outputs": [
    {
     "data": {
      "text/plain": "0.17985349979247847"
     },
     "execution_count": 18,
     "metadata": {},
     "output_type": "execute_result"
    }
   ]
  },
  {
   "cell_type": "markdown",
   "metadata": {
    "id": "m7rqbLCcLwUU",
    "pycharm": {
     "name": "#%% md\n"
    }
   },
   "source": [
    "## Speed Test"
   ]
  },
  {
   "cell_type": "code",
   "metadata": {
    "id": "1A4r4yUA8haB",
    "colab": {
     "base_uri": "https://localhost:8080/",
     "height": 34
    },
    "outputId": "b3140df1-9e38-44db-cd20-1342fa792cdb",
    "executionInfo": {
     "status": "ok",
     "timestamp": 1587837902522,
     "user_tz": 240,
     "elapsed": 4938,
     "user": {
      "displayName": "Lazy Programmer",
      "photoUrl": "",
      "userId": "14255399010036105472"
     }
    },
    "pycharm": {
     "name": "#%%\n"
    }
   },
   "source": [
    "## speed comparison ##\n",
    "from datetime import datetime\n",
    "\n",
    "# note: you can also use %timeit\n",
    "\n",
    "a = np.random.randn(100)\n",
    "b = np.random.randn(100)\n",
    "T = 100000\n",
    "\n",
    "def slow_dot_product(a, b):\n",
    "  result = 0\n",
    "  for e, f in zip(a, b):\n",
    "    result += e*f\n",
    "  return result\n",
    "\n",
    "t0 = datetime.now()\n",
    "for t in range(T):\n",
    "  slow_dot_product(a, b)\n",
    "dt1 = datetime.now() - t0\n",
    "\n",
    "t0 = datetime.now()\n",
    "for t in range(T):\n",
    "  a.dot(b)\n",
    "dt2 = datetime.now() - t0\n",
    "\n",
    "print(\"dt1 / dt2:\", dt1.total_seconds() / dt2.total_seconds())"
   ],
   "execution_count": 19,
   "outputs": [
    {
     "name": "stdout",
     "output_type": "stream",
     "text": [
      "dt1 / dt2: 38.280710387891915\n"
     ]
    }
   ]
  },
  {
   "cell_type": "markdown",
   "metadata": {
    "id": "Dp6XgRz-Lx0a",
    "pycharm": {
     "name": "#%% md\n"
    }
   },
   "source": [
    "## Matrices"
   ]
  },
  {
   "cell_type": "code",
   "metadata": {
    "id": "yy5O-BRCLzBi",
    "colab": {
     "base_uri": "https://localhost:8080/",
     "height": 34
    },
    "outputId": "f1ca439e-ccb2-43d0-c258-706a0f7907e9",
    "executionInfo": {
     "status": "ok",
     "timestamp": 1587782456216,
     "user_tz": 240,
     "elapsed": 329,
     "user": {
      "displayName": "Lazy Programmer",
      "photoUrl": "",
      "userId": "14255399010036105472"
     }
    },
    "pycharm": {
     "name": "#%%\n"
    }
   },
   "source": [
    "L = [[1,2], [3,4]]\n",
    "L"
   ],
   "execution_count": 54,
   "outputs": [
    {
     "data": {
      "text/plain": "[[1, 2], [3, 4]]"
     },
     "execution_count": 54,
     "metadata": {},
     "output_type": "execute_result"
    }
   ]
  },
  {
   "cell_type": "code",
   "metadata": {
    "id": "8LKJa4A8M93b",
    "colab": {
     "base_uri": "https://localhost:8080/",
     "height": 34
    },
    "outputId": "8b3d9a15-3c01-424c-ce71-5c4e9a3a7466",
    "executionInfo": {
     "status": "ok",
     "timestamp": 1587782346551,
     "user_tz": 240,
     "elapsed": 324,
     "user": {
      "displayName": "Lazy Programmer",
      "photoUrl": "",
      "userId": "14255399010036105472"
     }
    },
    "pycharm": {
     "name": "#%%\n"
    }
   },
   "source": [
    "L[0]"
   ],
   "execution_count": 55,
   "outputs": [
    {
     "data": {
      "text/plain": "[1, 2]"
     },
     "execution_count": 55,
     "metadata": {},
     "output_type": "execute_result"
    }
   ]
  },
  {
   "cell_type": "code",
   "metadata": {
    "id": "urv6P_-OM-na",
    "colab": {
     "base_uri": "https://localhost:8080/",
     "height": 34
    },
    "outputId": "1f9491f3-6181-46c8-f431-824c792981d3",
    "executionInfo": {
     "status": "ok",
     "timestamp": 1587782350915,
     "user_tz": 240,
     "elapsed": 438,
     "user": {
      "displayName": "Lazy Programmer",
      "photoUrl": "",
      "userId": "14255399010036105472"
     }
    },
    "pycharm": {
     "name": "#%%\n"
    }
   },
   "source": [
    "L[0][1]"
   ],
   "execution_count": 56,
   "outputs": [
    {
     "data": {
      "text/plain": "2"
     },
     "execution_count": 56,
     "metadata": {},
     "output_type": "execute_result"
    }
   ]
  },
  {
   "cell_type": "code",
   "metadata": {
    "id": "D83WMGZsNVpd",
    "colab": {
     "base_uri": "https://localhost:8080/",
     "height": 52
    },
    "outputId": "65c8f9e0-4b4b-404e-ba38-584129afaaed",
    "executionInfo": {
     "status": "ok",
     "timestamp": 1587782461553,
     "user_tz": 240,
     "elapsed": 390,
     "user": {
      "displayName": "Lazy Programmer",
      "photoUrl": "",
      "userId": "14255399010036105472"
     }
    },
    "pycharm": {
     "name": "#%%\n"
    }
   },
   "source": [
    "A = np.array([[1,2], [3,4]])\n",
    "A"
   ],
   "execution_count": 57,
   "outputs": [
    {
     "data": {
      "text/plain": "array([[1, 2],\n       [3, 4]])"
     },
     "execution_count": 57,
     "metadata": {},
     "output_type": "execute_result"
    }
   ]
  },
  {
   "cell_type": "code",
   "metadata": {
    "id": "opW1ghAwRu9a",
    "colab": {
     "base_uri": "https://localhost:8080/",
     "height": 34
    },
    "outputId": "32740a20-959c-4a49-a70e-e266b2cb3ded",
    "executionInfo": {
     "status": "ok",
     "timestamp": 1587783622633,
     "user_tz": 240,
     "elapsed": 11138,
     "user": {
      "displayName": "Lazy Programmer",
      "photoUrl": "",
      "userId": "14255399010036105472"
     }
    },
    "pycharm": {
     "name": "#%%\n"
    }
   },
   "source": [
    "A[0][1]"
   ],
   "execution_count": 58,
   "outputs": [
    {
     "data": {
      "text/plain": "2"
     },
     "execution_count": 58,
     "metadata": {},
     "output_type": "execute_result"
    }
   ]
  },
  {
   "cell_type": "code",
   "metadata": {
    "id": "OVV5gimRRx8-",
    "colab": {
     "base_uri": "https://localhost:8080/",
     "height": 34
    },
    "outputId": "a19683be-b030-41fa-a76a-722b2eea7b1f",
    "executionInfo": {
     "status": "ok",
     "timestamp": 1587783628389,
     "user_tz": 240,
     "elapsed": 359,
     "user": {
      "displayName": "Lazy Programmer",
      "photoUrl": "",
      "userId": "14255399010036105472"
     }
    },
    "pycharm": {
     "name": "#%%\n"
    }
   },
   "source": [
    "A[0,1]"
   ],
   "execution_count": 59,
   "outputs": [
    {
     "data": {
      "text/plain": "2"
     },
     "execution_count": 59,
     "metadata": {},
     "output_type": "execute_result"
    }
   ]
  },
  {
   "cell_type": "code",
   "metadata": {
    "id": "9X2_e9tGoM7b",
    "colab": {
     "base_uri": "https://localhost:8080/",
     "height": 34
    },
    "outputId": "f1b1656a-4f8f-43c0-ebcc-c38e9d65c8b1",
    "executionInfo": {
     "status": "ok",
     "timestamp": 1587789489117,
     "user_tz": 240,
     "elapsed": 339,
     "user": {
      "displayName": "Lazy Programmer",
      "photoUrl": "",
      "userId": "14255399010036105472"
     }
    },
    "pycharm": {
     "name": "#%%\n"
    }
   },
   "source": [
    "A[:,0]"
   ],
   "execution_count": 60,
   "outputs": [
    {
     "data": {
      "text/plain": "array([1, 3])"
     },
     "execution_count": 60,
     "metadata": {},
     "output_type": "execute_result"
    }
   ]
  },
  {
   "cell_type": "code",
   "metadata": {
    "id": "P131KAabR0jr",
    "colab": {
     "base_uri": "https://localhost:8080/",
     "height": 52
    },
    "outputId": "4e997070-03c2-47c4-a46a-7bf73d11e540",
    "executionInfo": {
     "status": "ok",
     "timestamp": 1587783628389,
     "user_tz": 240,
     "elapsed": 363,
     "user": {
      "displayName": "Lazy Programmer",
      "photoUrl": "",
      "userId": "14255399010036105472"
     }
    },
    "pycharm": {
     "name": "#%%\n"
    }
   },
   "source": [
    "A.T"
   ],
   "execution_count": 61,
   "outputs": [
    {
     "data": {
      "text/plain": "array([[1, 3],\n       [2, 4]])"
     },
     "execution_count": 61,
     "metadata": {},
     "output_type": "execute_result"
    }
   ]
  },
  {
   "cell_type": "code",
   "metadata": {
    "id": "_Z-OdLyfbSIj",
    "colab": {
     "base_uri": "https://localhost:8080/",
     "height": 52
    },
    "outputId": "918497d9-1cff-45e8-eca6-17f79b163607",
    "executionInfo": {
     "status": "ok",
     "timestamp": 1587786101814,
     "user_tz": 240,
     "elapsed": 397,
     "user": {
      "displayName": "Lazy Programmer",
      "photoUrl": "",
      "userId": "14255399010036105472"
     }
    },
    "pycharm": {
     "name": "#%%\n"
    }
   },
   "source": [
    "np.exp(A)"
   ],
   "execution_count": 62,
   "outputs": [
    {
     "data": {
      "text/plain": "array([[ 2.71828183,  7.3890561 ],\n       [20.08553692, 54.59815003]])"
     },
     "execution_count": 62,
     "metadata": {},
     "output_type": "execute_result"
    }
   ]
  },
  {
   "cell_type": "code",
   "metadata": {
    "id": "QU7kqXTZNX4_",
    "colab": {
     "base_uri": "https://localhost:8080/",
     "height": 52
    },
    "outputId": "2de55583-8c89-4651-9a93-3a667cad576c",
    "executionInfo": {
     "status": "ok",
     "timestamp": 1587783574243,
     "user_tz": 240,
     "elapsed": 11625,
     "user": {
      "displayName": "Lazy Programmer",
      "photoUrl": "",
      "userId": "14255399010036105472"
     }
    },
    "pycharm": {
     "name": "#%%\n"
    }
   },
   "source": [
    "np.exp(L)\n"
   ],
   "execution_count": 63,
   "outputs": [
    {
     "data": {
      "text/plain": "array([[ 2.71828183,  7.3890561 ],\n       [20.08553692, 54.59815003]])"
     },
     "execution_count": 63,
     "metadata": {},
     "output_type": "execute_result"
    }
   ]
  },
  {
   "cell_type": "markdown",
   "source": [
    "Numpy already knows the structure of your List.\n",
    "If you ever need to pass a list to scipy or numpy, you DO NOT need to convert it to an array."
   ],
   "metadata": {
    "collapsed": false,
    "pycharm": {
     "name": "#%% md\n"
    }
   }
  },
  {
   "cell_type": "code",
   "metadata": {
    "id": "VXw7euSIbagB",
    "colab": {
     "base_uri": "https://localhost:8080/",
     "height": 52
    },
    "outputId": "22114a08-1fb0-4f1b-cb5d-7b80352bd234",
    "executionInfo": {
     "status": "ok",
     "timestamp": 1587786142422,
     "user_tz": 240,
     "elapsed": 320,
     "user": {
      "displayName": "Lazy Programmer",
      "photoUrl": "",
      "userId": "14255399010036105472"
     }
    },
    "pycharm": {
     "name": "#%%\n"
    }
   },
   "source": [
    "B = np.array([[1,2,3],[4,5,6]])\n",
    "B"
   ],
   "execution_count": 64,
   "outputs": [
    {
     "data": {
      "text/plain": "array([[1, 2, 3],\n       [4, 5, 6]])"
     },
     "execution_count": 64,
     "metadata": {},
     "output_type": "execute_result"
    }
   ]
  },
  {
   "cell_type": "code",
   "metadata": {
    "id": "i8-Exef9hhXs",
    "colab": {
     "base_uri": "https://localhost:8080/",
     "height": 52
    },
    "outputId": "e9106c3b-81f8-49a7-f122-ecfc07f020b1",
    "executionInfo": {
     "status": "ok",
     "timestamp": 1587787738101,
     "user_tz": 240,
     "elapsed": 361,
     "user": {
      "displayName": "Lazy Programmer",
      "photoUrl": "",
      "userId": "14255399010036105472"
     }
    },
    "pycharm": {
     "name": "#%%\n"
    }
   },
   "source": [
    "A.dot(B)"
   ],
   "execution_count": 65,
   "outputs": [
    {
     "data": {
      "text/plain": "array([[ 9, 12, 15],\n       [19, 26, 33]])"
     },
     "execution_count": 65,
     "metadata": {},
     "output_type": "execute_result"
    }
   ]
  },
  {
   "cell_type": "code",
   "execution_count": 46,
   "outputs": [],
   "source": [
    "C =  np.array([[1,2],[4,5]])"
   ],
   "metadata": {
    "collapsed": false,
    "pycharm": {
     "name": "#%%\n"
    }
   }
  },
  {
   "cell_type": "code",
   "execution_count": 67,
   "outputs": [
    {
     "data": {
      "text/plain": "array([[ 7, 10],\n       [15, 22]])"
     },
     "execution_count": 67,
     "metadata": {},
     "output_type": "execute_result"
    }
   ],
   "source": [
    "A.dot(A)"
   ],
   "metadata": {
    "collapsed": false,
    "pycharm": {
     "name": "#%%\n"
    }
   }
  },
  {
   "cell_type": "code",
   "metadata": {
    "id": "W_sNxQQ2iQns",
    "colab": {
     "base_uri": "https://localhost:8080/",
     "height": 165
    },
    "outputId": "30a916bc-6138-4aa6-f1db-5a1ff55b3c38",
    "executionInfo": {
     "status": "error",
     "timestamp": 1587787937278,
     "user_tz": 240,
     "elapsed": 332,
     "user": {
      "displayName": "Lazy Programmer",
      "photoUrl": "",
      "userId": "14255399010036105472"
     }
    },
    "pycharm": {
     "name": "#%%\n"
    }
   },
   "source": [
    "# error! inner dimensions must match\n",
    "A.dot(B.T)"
   ],
   "execution_count": 66,
   "outputs": [
    {
     "ename": "ValueError",
     "evalue": "shapes (2,2) and (3,2) not aligned: 2 (dim 1) != 3 (dim 0)",
     "output_type": "error",
     "traceback": [
      "\u001B[1;31m---------------------------------------------------------------------------\u001B[0m",
      "\u001B[1;31mValueError\u001B[0m                                Traceback (most recent call last)",
      "Input \u001B[1;32mIn [66]\u001B[0m, in \u001B[0;36m<cell line: 2>\u001B[1;34m()\u001B[0m\n\u001B[0;32m      1\u001B[0m \u001B[38;5;66;03m# error! inner dimensions must match\u001B[39;00m\n\u001B[1;32m----> 2\u001B[0m \u001B[43mA\u001B[49m\u001B[38;5;241;43m.\u001B[39;49m\u001B[43mdot\u001B[49m\u001B[43m(\u001B[49m\u001B[43mB\u001B[49m\u001B[38;5;241;43m.\u001B[39;49m\u001B[43mT\u001B[49m\u001B[43m)\u001B[49m\n",
      "\u001B[1;31mValueError\u001B[0m: shapes (2,2) and (3,2) not aligned: 2 (dim 1) != 3 (dim 0)"
     ]
    }
   ]
  },
  {
   "cell_type": "code",
   "metadata": {
    "id": "q39ZD3R9bk93",
    "colab": {
     "base_uri": "https://localhost:8080/",
     "height": 34
    },
    "outputId": "94c84e1a-372d-47d1-ef9b-c6ca56f48873",
    "executionInfo": {
     "status": "ok",
     "timestamp": 1587786179152,
     "user_tz": 240,
     "elapsed": 339,
     "user": {
      "displayName": "Lazy Programmer",
      "photoUrl": "",
      "userId": "14255399010036105472"
     }
    },
    "pycharm": {
     "name": "#%%\n"
    }
   },
   "source": [
    "np.linalg.det(A)"
   ],
   "execution_count": 68,
   "outputs": [
    {
     "data": {
      "text/plain": "-2.0000000000000004"
     },
     "execution_count": 68,
     "metadata": {},
     "output_type": "execute_result"
    }
   ]
  },
  {
   "cell_type": "code",
   "metadata": {
    "id": "o7hrwfcubuEH",
    "colab": {
     "base_uri": "https://localhost:8080/",
     "height": 52
    },
    "outputId": "3a3d27eb-5e9c-45d9-e0fd-8d96d58197d4",
    "executionInfo": {
     "status": "ok",
     "timestamp": 1587786212948,
     "user_tz": 240,
     "elapsed": 266,
     "user": {
      "displayName": "Lazy Programmer",
      "photoUrl": "",
      "userId": "14255399010036105472"
     }
    },
    "pycharm": {
     "name": "#%%\n"
    }
   },
   "source": [
    "np.linalg.inv(A)"
   ],
   "execution_count": 69,
   "outputs": [
    {
     "data": {
      "text/plain": "array([[-2. ,  1. ],\n       [ 1.5, -0.5]])"
     },
     "execution_count": 69,
     "metadata": {},
     "output_type": "execute_result"
    }
   ]
  },
  {
   "cell_type": "code",
   "metadata": {
    "id": "psvVfsBliu3U",
    "colab": {
     "base_uri": "https://localhost:8080/",
     "height": 52
    },
    "outputId": "75589bc9-2619-449b-9adc-d5f5957d31b8",
    "executionInfo": {
     "status": "ok",
     "timestamp": 1587788055602,
     "user_tz": 240,
     "elapsed": 415,
     "user": {
      "displayName": "Lazy Programmer",
      "photoUrl": "",
      "userId": "14255399010036105472"
     }
    },
    "pycharm": {
     "name": "#%%\n"
    }
   },
   "source": [
    "np.linalg.inv(A).dot(A)"
   ],
   "execution_count": 70,
   "outputs": [
    {
     "data": {
      "text/plain": "array([[1.00000000e+00, 0.00000000e+00],\n       [2.22044605e-16, 1.00000000e+00]])"
     },
     "execution_count": 70,
     "metadata": {},
     "output_type": "execute_result"
    }
   ]
  },
  {
   "cell_type": "code",
   "metadata": {
    "id": "kdCoG55jbyIs",
    "colab": {
     "base_uri": "https://localhost:8080/",
     "height": 34
    },
    "outputId": "cee9e5b3-6112-4f52-f879-e50c62e0cf05",
    "executionInfo": {
     "status": "ok",
     "timestamp": 1587786248868,
     "user_tz": 240,
     "elapsed": 390,
     "user": {
      "displayName": "Lazy Programmer",
      "photoUrl": "",
      "userId": "14255399010036105472"
     }
    },
    "pycharm": {
     "name": "#%%\n"
    }
   },
   "source": [
    "np.trace(A)"
   ],
   "execution_count": 71,
   "outputs": [
    {
     "data": {
      "text/plain": "5"
     },
     "execution_count": 71,
     "metadata": {},
     "output_type": "execute_result"
    }
   ]
  },
  {
   "cell_type": "code",
   "metadata": {
    "id": "1-leTZncnOVR",
    "colab": {
     "base_uri": "https://localhost:8080/",
     "height": 34
    },
    "outputId": "21711e5b-ab2f-43dd-ec1e-634dcc38b91c",
    "executionInfo": {
     "status": "ok",
     "timestamp": 1587789231886,
     "user_tz": 240,
     "elapsed": 370,
     "user": {
      "displayName": "Lazy Programmer",
      "photoUrl": "",
      "userId": "14255399010036105472"
     }
    },
    "pycharm": {
     "name": "#%%\n",
     "is_executing": true
    }
   },
   "source": [
    "np.diag(A)"
   ],
   "execution_count": null,
   "outputs": []
  },
  {
   "cell_type": "code",
   "metadata": {
    "id": "JBQsiS-XnV7v",
    "colab": {
     "base_uri": "https://localhost:8080/",
     "height": 52
    },
    "outputId": "f173e0e0-9023-4fec-fbe8-fb2cae64885d",
    "executionInfo": {
     "status": "ok",
     "timestamp": 1587789259990,
     "user_tz": 240,
     "elapsed": 355,
     "user": {
      "displayName": "Lazy Programmer",
      "photoUrl": "",
      "userId": "14255399010036105472"
     }
    },
    "pycharm": {
     "name": "#%%\n",
     "is_executing": true
    }
   },
   "source": [
    "np.diag([1, 4])"
   ],
   "execution_count": null,
   "outputs": []
  },
  {
   "cell_type": "code",
   "metadata": {
    "id": "pkNyKFBScAVd",
    "colab": {
     "base_uri": "https://localhost:8080/",
     "height": 52
    },
    "outputId": "e6b4c791-9cc3-4442-fbf6-40d327e365a7",
    "executionInfo": {
     "status": "ok",
     "timestamp": 1587786293905,
     "user_tz": 240,
     "elapsed": 381,
     "user": {
      "displayName": "Lazy Programmer",
      "photoUrl": "",
      "userId": "14255399010036105472"
     }
    },
    "pycharm": {
     "name": "#%%\n"
    }
   },
   "source": [
    "np.linalg.eig(A)\n",
    "# https://en.wikipedia.org/wiki/Eigendecomposition_of_a_matrix"
   ],
   "execution_count": 73,
   "outputs": [
    {
     "data": {
      "text/plain": "(array([-0.37228132,  5.37228132]),\n array([[-0.82456484, -0.41597356],\n        [ 0.56576746, -0.90937671]]))"
     },
     "execution_count": 73,
     "metadata": {},
     "output_type": "execute_result"
    }
   ]
  },
  {
   "cell_type": "code",
   "metadata": {
    "id": "K7xvgXLqcHQR",
    "pycharm": {
     "name": "#%%\n"
    }
   },
   "source": [
    "Lam, V = np.linalg.eig(A)"
   ],
   "execution_count": 74,
   "outputs": []
  },
  {
   "cell_type": "code",
   "metadata": {
    "id": "h6dEgMo5wuWl",
    "colab": {
     "base_uri": "https://localhost:8080/",
     "height": 34
    },
    "outputId": "c5609785-df75-456a-ec70-a6ac7ec386df",
    "executionInfo": {
     "status": "ok",
     "timestamp": 1587791745690,
     "user_tz": 240,
     "elapsed": 395,
     "user": {
      "displayName": "Lazy Programmer",
      "photoUrl": "",
      "userId": "14255399010036105472"
     }
    },
    "pycharm": {
     "name": "#%%\n"
    }
   },
   "source": [
    "V[:,0] * Lam[0] == A @ V[:,0]"
   ],
   "execution_count": 75,
   "outputs": [
    {
     "data": {
      "text/plain": "array([ True, False])"
     },
     "execution_count": 75,
     "metadata": {},
     "output_type": "execute_result"
    }
   ]
  },
  {
   "cell_type": "code",
   "metadata": {
    "id": "jHllWY7Hw7hG",
    "colab": {
     "base_uri": "https://localhost:8080/",
     "height": 34
    },
    "outputId": "fa67f139-40f2-4172-ba5b-57192edf0587",
    "executionInfo": {
     "status": "ok",
     "timestamp": 1587791775113,
     "user_tz": 240,
     "elapsed": 334,
     "user": {
      "displayName": "Lazy Programmer",
      "photoUrl": "",
      "userId": "14255399010036105472"
     }
    },
    "pycharm": {
     "name": "#%%\n"
    }
   },
   "source": [
    "V[:,0] * Lam[0], A @ V[:,0]"
   ],
   "execution_count": 76,
   "outputs": [
    {
     "data": {
      "text/plain": "(array([ 0.30697009, -0.21062466]), array([ 0.30697009, -0.21062466]))"
     },
     "execution_count": 76,
     "metadata": {},
     "output_type": "execute_result"
    }
   ]
  },
  {
   "cell_type": "code",
   "metadata": {
    "id": "m4dFN99Hw3fk",
    "colab": {
     "base_uri": "https://localhost:8080/",
     "height": 34
    },
    "outputId": "30f459d4-c5d3-4191-cc59-e552fc737f22",
    "executionInfo": {
     "status": "ok",
     "timestamp": 1587791765775,
     "user_tz": 240,
     "elapsed": 336,
     "user": {
      "displayName": "Lazy Programmer",
      "photoUrl": "",
      "userId": "14255399010036105472"
     }
    },
    "pycharm": {
     "name": "#%%\n"
    }
   },
   "source": [
    "np.allclose(V[:,0] * Lam[0], A @ V[:,0])"
   ],
   "execution_count": 77,
   "outputs": [
    {
     "data": {
      "text/plain": "True"
     },
     "execution_count": 77,
     "metadata": {},
     "output_type": "execute_result"
    }
   ]
  },
  {
   "cell_type": "code",
   "metadata": {
    "id": "8jH2Av91cLxx",
    "colab": {
     "base_uri": "https://localhost:8080/",
     "height": 34
    },
    "outputId": "beba55ec-912d-4105-a9fe-8259bb930914",
    "executionInfo": {
     "status": "ok",
     "timestamp": 1587792180750,
     "user_tz": 240,
     "elapsed": 352,
     "user": {
      "displayName": "Lazy Programmer",
      "photoUrl": "",
      "userId": "14255399010036105472"
     }
    },
    "pycharm": {
     "name": "#%%\n",
     "is_executing": true
    }
   },
   "source": [
    "np.allclose(V @ np.diag(Lam), A @ V)"
   ],
   "execution_count": null,
   "outputs": []
  },
  {
   "cell_type": "markdown",
   "metadata": {
    "id": "MF9n94OXzEHc",
    "pycharm": {
     "name": "#%% md\n"
    }
   },
   "source": [
    "## Solving Linear Systems"
   ]
  },
  {
   "cell_type": "markdown",
   "source": [
    "Cinema:\n",
    "fee for children: 1500  -> x1\n",
    "fee for adults: 4000    -> x2\n",
    "Last Friday: collected fee -> 5050000\n",
    "All attendees: 2200 people\n",
    "Question: how many children and how many adults?\n",
    "\n",
    "$$ Ax = b <=> x = A^{-1}  b $$"
   ],
   "metadata": {
    "collapsed": false,
    "pycharm": {
     "name": "#%% md\n"
    }
   }
  },
  {
   "cell_type": "code",
   "metadata": {
    "id": "pHMyzjoHzFi7",
    "pycharm": {
     "name": "#%%\n"
    }
   },
   "source": [
    "A = np.array([[1, 1], [1500, 4000]])\n",
    "b = np.array([2200, 5050000])"
   ],
   "execution_count": 78,
   "outputs": []
  },
  {
   "cell_type": "code",
   "metadata": {
    "id": "ljjG7KI685Vd",
    "colab": {
     "base_uri": "https://localhost:8080/",
     "height": 34
    },
    "outputId": "5f51ee4e-78d4-4418-8393-a0e3dcf522ce",
    "executionInfo": {
     "status": "ok",
     "timestamp": 1587794916348,
     "user_tz": 240,
     "elapsed": 651,
     "user": {
      "displayName": "Lazy Programmer",
      "photoUrl": "",
      "userId": "14255399010036105472"
     }
    },
    "pycharm": {
     "name": "#%%\n"
    }
   },
   "source": [
    "np.linalg.solve(A, b)"
   ],
   "execution_count": 79,
   "outputs": [
    {
     "data": {
      "text/plain": "array([1500.,  700.])"
     },
     "execution_count": 79,
     "metadata": {},
     "output_type": "execute_result"
    }
   ]
  },
  {
   "cell_type": "code",
   "metadata": {
    "id": "hJjnYgbX870H",
    "colab": {
     "base_uri": "https://localhost:8080/",
     "height": 34
    },
    "outputId": "ee978b14-c198-4b33-f513-238ebb446c01",
    "executionInfo": {
     "status": "ok",
     "timestamp": 1587794929058,
     "user_tz": 240,
     "elapsed": 353,
     "user": {
      "displayName": "Lazy Programmer",
      "photoUrl": "",
      "userId": "14255399010036105472"
     }
    },
    "pycharm": {
     "name": "#%%\n"
    }
   },
   "source": [
    "# don't do this\n",
    "np.linalg.inv(A).dot(b)"
   ],
   "execution_count": 80,
   "outputs": [
    {
     "data": {
      "text/plain": "array([1500.,  700.])"
     },
     "execution_count": 80,
     "metadata": {},
     "output_type": "execute_result"
    }
   ]
  },
  {
   "cell_type": "markdown",
   "source": [
    "np.linalg.solve(A, b) does not compute the inverse of A.\n",
    "Instead it calls one of the GESV LAPACK routines, which first factorizes A using LU decomposition,\n",
    "then solves for x using forward and backward substitution.\n",
    "\n",
    "np.linalg.inv uses the same method to compute the inverse of A by solving for A-1 in A·A-1 = I where I is the identity (eye).\n",
    "The factorization step is exactly the same as above,\n",
    "but it takes more floating point operations to solve for A-1 (an n×n matrix) than for x (an n-long vector).\n",
    "Additionally, if you then wanted to obtain x via the identity A-1·b = x then\n",
    "the extra matrix multiplication would incur yet more floating point operations,\n",
    "and therefore slower performance and more numerical error.\n",
    "\n",
    "\n",
    "\n",
    "GESV LAPACK Routine: https://netlib.org/lapack/double/dgesv.f\n",
    "LU Decomposition: https://en.wikipedia.org/wiki/LU_decomposition#Solving_linear_equations\n"
   ],
   "metadata": {
    "collapsed": false,
    "pycharm": {
     "name": "#%% md\n"
    }
   }
  },
  {
   "cell_type": "markdown",
   "metadata": {
    "id": "EH2huugGChb7",
    "pycharm": {
     "name": "#%% md\n"
    }
   },
   "source": [
    "## Generating Data"
   ]
  },
  {
   "cell_type": "code",
   "metadata": {
    "id": "afs43yD5Ciqg",
    "colab": {
     "base_uri": "https://localhost:8080/",
     "height": 52
    },
    "outputId": "eef312bd-f4f2-40c8-867f-f6c8ed15de91",
    "executionInfo": {
     "status": "ok",
     "timestamp": 1587798891765,
     "user_tz": 240,
     "elapsed": 411,
     "user": {
      "displayName": "Lazy Programmer",
      "photoUrl": "",
      "userId": "14255399010036105472"
     }
    },
    "pycharm": {
     "name": "#%%\n",
     "is_executing": true
    }
   },
   "source": [
    "np.zeros((2, 3))"
   ],
   "execution_count": null,
   "outputs": []
  },
  {
   "cell_type": "code",
   "metadata": {
    "id": "B5_T7Y0VMO02",
    "colab": {
     "base_uri": "https://localhost:8080/",
     "height": 52
    },
    "outputId": "978a59d2-7ee5-45c8-c00c-5cad3411a5d5",
    "executionInfo": {
     "status": "ok",
     "timestamp": 1587798932694,
     "user_tz": 240,
     "elapsed": 420,
     "user": {
      "displayName": "Lazy Programmer",
      "photoUrl": "",
      "userId": "14255399010036105472"
     }
    },
    "pycharm": {
     "name": "#%%\n",
     "is_executing": true
    }
   },
   "source": [
    "np.ones((2, 3))"
   ],
   "execution_count": null,
   "outputs": []
  },
  {
   "cell_type": "code",
   "metadata": {
    "id": "K6x0L6PhMQRl",
    "colab": {
     "base_uri": "https://localhost:8080/",
     "height": 52
    },
    "outputId": "38e7bfa9-b9a2-4a35-fbfd-88148c1468bb",
    "executionInfo": {
     "status": "ok",
     "timestamp": 1587798980758,
     "user_tz": 240,
     "elapsed": 381,
     "user": {
      "displayName": "Lazy Programmer",
      "photoUrl": "",
      "userId": "14255399010036105472"
     }
    },
    "pycharm": {
     "name": "#%%\n",
     "is_executing": true
    }
   },
   "source": [
    "10 * np.ones((2, 3))"
   ],
   "execution_count": null,
   "outputs": []
  },
  {
   "cell_type": "code",
   "metadata": {
    "id": "yunyooXkMgph",
    "colab": {
     "base_uri": "https://localhost:8080/",
     "height": 69
    },
    "outputId": "8a793158-220b-4634-dc0d-752408f4dae9",
    "executionInfo": {
     "status": "ok",
     "timestamp": 1587799006298,
     "user_tz": 240,
     "elapsed": 359,
     "user": {
      "displayName": "Lazy Programmer",
      "photoUrl": "",
      "userId": "14255399010036105472"
     }
    },
    "pycharm": {
     "name": "#%%\n",
     "is_executing": true
    }
   },
   "source": [
    "np.eye(3)"
   ],
   "execution_count": null,
   "outputs": []
  },
  {
   "cell_type": "code",
   "metadata": {
    "id": "MEjifZddOOM9",
    "colab": {
     "base_uri": "https://localhost:8080/",
     "height": 34
    },
    "outputId": "0fa7873f-4980-4501-e521-65e990deb9b2",
    "executionInfo": {
     "status": "ok",
     "timestamp": 1587799455342,
     "user_tz": 240,
     "elapsed": 344,
     "user": {
      "displayName": "Lazy Programmer",
      "photoUrl": "",
      "userId": "14255399010036105472"
     }
    },
    "pycharm": {
     "name": "#%%\n",
     "is_executing": true
    }
   },
   "source": [
    "np.random.random()"
   ],
   "execution_count": null,
   "outputs": []
  },
  {
   "cell_type": "code",
   "metadata": {
    "id": "OwbTs3khOY0W",
    "colab": {
     "base_uri": "https://localhost:8080/",
     "height": 52
    },
    "outputId": "2697d229-e78a-4970-cf50-4af83ce15978",
    "executionInfo": {
     "status": "ok",
     "timestamp": 1587799500961,
     "user_tz": 240,
     "elapsed": 279,
     "user": {
      "displayName": "Lazy Programmer",
      "photoUrl": "",
      "userId": "14255399010036105472"
     }
    },
    "pycharm": {
     "name": "#%%\n",
     "is_executing": true
    }
   },
   "source": [
    "np.random.random((2, 3))"
   ],
   "execution_count": null,
   "outputs": []
  },
  {
   "cell_type": "code",
   "metadata": {
    "id": "TsZhBWcdPPwK",
    "colab": {
     "base_uri": "https://localhost:8080/",
     "height": 52
    },
    "outputId": "97a51268-8e9d-4e09-9b42-6538ba89293c",
    "executionInfo": {
     "status": "ok",
     "timestamp": 1587799723379,
     "user_tz": 240,
     "elapsed": 322,
     "user": {
      "displayName": "Lazy Programmer",
      "photoUrl": "",
      "userId": "14255399010036105472"
     }
    },
    "pycharm": {
     "name": "#%%\n",
     "is_executing": true
    }
   },
   "source": [
    "np.random.randn(2, 3)"
   ],
   "execution_count": null,
   "outputs": []
  },
  {
   "cell_type": "code",
   "metadata": {
    "id": "QRVlFW8mYXdv",
    "pycharm": {
     "name": "#%%\n"
    }
   },
   "source": [
    "R = np.random.randn(10000)"
   ],
   "execution_count": null,
   "outputs": []
  },
  {
   "cell_type": "code",
   "metadata": {
    "id": "g4am8a3ZYaam",
    "colab": {
     "base_uri": "https://localhost:8080/",
     "height": 34
    },
    "outputId": "10999b03-e66f-4688-e97b-034d40950378",
    "executionInfo": {
     "status": "ok",
     "timestamp": 1587802155428,
     "user_tz": 240,
     "elapsed": 390,
     "user": {
      "displayName": "Lazy Programmer",
      "photoUrl": "",
      "userId": "14255399010036105472"
     }
    },
    "pycharm": {
     "name": "#%%\n",
     "is_executing": true
    }
   },
   "source": [
    "R.mean()"
   ],
   "execution_count": null,
   "outputs": []
  },
  {
   "cell_type": "code",
   "metadata": {
    "id": "hbggL_0n0I8S",
    "pycharm": {
     "name": "#%%\n"
    }
   },
   "source": [
    "np.mean(R)"
   ],
   "execution_count": null,
   "outputs": []
  },
  {
   "cell_type": "code",
   "metadata": {
    "id": "ofYpDmxgYnAL",
    "colab": {
     "base_uri": "https://localhost:8080/",
     "height": 34
    },
    "outputId": "45acfda7-f37c-4d7a-b740-e806c3142f32",
    "executionInfo": {
     "status": "ok",
     "timestamp": 1587802176520,
     "user_tz": 240,
     "elapsed": 302,
     "user": {
      "displayName": "Lazy Programmer",
      "photoUrl": "",
      "userId": "14255399010036105472"
     }
    },
    "pycharm": {
     "name": "#%%\n",
     "is_executing": true
    }
   },
   "source": [
    "R.var()"
   ],
   "execution_count": null,
   "outputs": []
  },
  {
   "cell_type": "code",
   "metadata": {
    "id": "-pwAoqmwYxf1",
    "pycharm": {
     "name": "#%%\n"
    }
   },
   "source": [
    "R = np.random.randn(10000, 3)"
   ],
   "execution_count": null,
   "outputs": []
  },
  {
   "cell_type": "code",
   "metadata": {
    "id": "1jsCMjuUZGgq",
    "colab": {
     "base_uri": "https://localhost:8080/",
     "height": 34
    },
    "outputId": "4896bd2d-7b1a-4d11-a670-11b3a2b7b807",
    "executionInfo": {
     "status": "ok",
     "timestamp": 1587802334800,
     "user_tz": 240,
     "elapsed": 335,
     "user": {
      "displayName": "Lazy Programmer",
      "photoUrl": "",
      "userId": "14255399010036105472"
     }
    },
    "pycharm": {
     "name": "#%%\n",
     "is_executing": true
    }
   },
   "source": [
    "R.mean(axis=0)"
   ],
   "execution_count": null,
   "outputs": []
  },
  {
   "cell_type": "code",
   "metadata": {
    "id": "Ghv9E_tPZXDn",
    "colab": {
     "base_uri": "https://localhost:8080/",
     "height": 34
    },
    "outputId": "6142505e-1607-4d83-fa39-8fef51d16bf7",
    "executionInfo": {
     "status": "ok",
     "timestamp": 1587802383527,
     "user_tz": 240,
     "elapsed": 334,
     "user": {
      "displayName": "Lazy Programmer",
      "photoUrl": "",
      "userId": "14255399010036105472"
     }
    },
    "pycharm": {
     "name": "#%%\n",
     "is_executing": true
    }
   },
   "source": [
    "R.mean(axis=1).shape"
   ],
   "execution_count": null,
   "outputs": []
  },
  {
   "cell_type": "code",
   "metadata": {
    "id": "KmdHkq-FiOG2",
    "colab": {
     "base_uri": "https://localhost:8080/",
     "height": 34
    },
    "outputId": "ef0e880f-9c37-4915-8d20-3f1ed80bc141",
    "executionInfo": {
     "status": "ok",
     "timestamp": 1587804704901,
     "user_tz": 240,
     "elapsed": 1197,
     "user": {
      "displayName": "Lazy Programmer",
      "photoUrl": "",
      "userId": "14255399010036105472"
     }
    },
    "pycharm": {
     "name": "#%%\n",
     "is_executing": true
    }
   },
   "source": [
    "np.cov(R).shape"
   ],
   "execution_count": null,
   "outputs": []
  },
  {
   "cell_type": "code",
   "metadata": {
    "id": "Z73Tog0WiRTy",
    "colab": {
     "base_uri": "https://localhost:8080/",
     "height": 69
    },
    "outputId": "16f72b90-860c-4fb4-9fb5-310639f01465",
    "executionInfo": {
     "status": "ok",
     "timestamp": 1587804710588,
     "user_tz": 240,
     "elapsed": 367,
     "user": {
      "displayName": "Lazy Programmer",
      "photoUrl": "",
      "userId": "14255399010036105472"
     }
    },
    "pycharm": {
     "name": "#%%\n",
     "is_executing": true
    }
   },
   "source": [
    "np.cov(R.T)"
   ],
   "execution_count": null,
   "outputs": []
  },
  {
   "cell_type": "code",
   "metadata": {
    "id": "tBAzvX8TiTlB",
    "colab": {
     "base_uri": "https://localhost:8080/",
     "height": 69
    },
    "outputId": "88008ae5-f4c5-4801-c4f5-b21a60e3b567",
    "executionInfo": {
     "status": "ok",
     "timestamp": 1587804747674,
     "user_tz": 240,
     "elapsed": 331,
     "user": {
      "displayName": "Lazy Programmer",
      "photoUrl": "",
      "userId": "14255399010036105472"
     }
    },
    "pycharm": {
     "name": "#%%\n",
     "is_executing": true
    }
   },
   "source": [
    "np.cov(R, rowvar=False)"
   ],
   "execution_count": null,
   "outputs": []
  },
  {
   "cell_type": "code",
   "metadata": {
    "id": "ZxxOKs_ArYZs",
    "colab": {
     "base_uri": "https://localhost:8080/",
     "height": 69
    },
    "outputId": "d7a40ae2-76b4-4a19-b7d4-5df65ffc246f",
    "executionInfo": {
     "status": "ok",
     "timestamp": 1587840865589,
     "user_tz": 240,
     "elapsed": 477,
     "user": {
      "displayName": "Lazy Programmer",
      "photoUrl": "",
      "userId": "14255399010036105472"
     }
    },
    "pycharm": {
     "name": "#%%\n",
     "is_executing": true
    }
   },
   "source": [
    "np.random.randint(0, 10, size=(3, 3))"
   ],
   "execution_count": null,
   "outputs": []
  },
  {
   "cell_type": "code",
   "metadata": {
    "id": "ER8hjqUVsWv2",
    "colab": {
     "base_uri": "https://localhost:8080/",
     "height": 69
    },
    "outputId": "a7e1e9d7-a8c2-44c7-ec4d-3f6c51ffb83d",
    "executionInfo": {
     "status": "ok",
     "timestamp": 1587841290347,
     "user_tz": 240,
     "elapsed": 870,
     "user": {
      "displayName": "Lazy Programmer",
      "photoUrl": "",
      "userId": "14255399010036105472"
     }
    },
    "pycharm": {
     "name": "#%%\n",
     "is_executing": true
    }
   },
   "source": [
    "np.random.choice(10, size=(3, 3))"
   ],
   "execution_count": null,
   "outputs": []
  },
  {
   "cell_type": "code",
   "execution_count": 14,
   "outputs": [
    {
     "data": {
      "text/plain": "232"
     },
     "execution_count": 14,
     "metadata": {},
     "output_type": "execute_result"
    }
   ],
   "source": [
    "import sys\n",
    "t = (('name', 'Mehdi'), ('age', 25), ('test', 24), ('test1', 76), ('test2', 8687))\n",
    "\n",
    "sys.getsizeof(dict(t))"
   ],
   "metadata": {
    "collapsed": false,
    "pycharm": {
     "name": "#%%\n"
    }
   }
  },
  {
   "cell_type": "code",
   "execution_count": 15,
   "outputs": [
    {
     "data": {
      "text/plain": "232"
     },
     "execution_count": 15,
     "metadata": {},
     "output_type": "execute_result"
    }
   ],
   "source": [
    "sys.getsizeof({'name':'Mehdi', 'age': 25, 'test': 24,\n",
    "               'test1': 76, 'test2': 8687})"
   ],
   "metadata": {
    "collapsed": false,
    "pycharm": {
     "name": "#%%\n"
    }
   }
  }
 ]
}