{
 "cells": [
  {
   "cell_type": "markdown",
   "id": "d523098f",
   "metadata": {
    "papermill": {
     "duration": 0.06564,
     "end_time": "2022-04-04T23:05:35.687807",
     "exception": false,
     "start_time": "2022-04-04T23:05:35.622167",
     "status": "completed"
    },
    "pycharm": {
     "name": "#%% md\n"
    },
    "tags": []
   },
   "source": [
    "# Avacado Prices Analysis And Forecasting"
   ]
  },
  {
   "cell_type": "markdown",
   "id": "8f0619bc",
   "metadata": {
    "papermill": {
     "duration": 0.063694,
     "end_time": "2022-04-04T23:05:35.814092",
     "exception": false,
     "start_time": "2022-04-04T23:05:35.750398",
     "status": "completed"
    },
    "pycharm": {
     "name": "#%% md\n"
    },
    "tags": []
   },
   "source": [
    "### Python Libraries"
   ]
  },
  {
   "cell_type": "code",
   "execution_count": null,
   "id": "3776cbd7",
   "metadata": {
    "collapsed": false,
    "execution": {
     "iopub.execute_input": "2022-04-04T23:05:35.973484Z",
     "iopub.status.busy": "2022-04-04T23:05:35.972183Z",
     "iopub.status.idle": "2022-04-04T23:05:38.483226Z",
     "shell.execute_reply": "2022-04-04T23:05:38.482445Z",
     "shell.execute_reply.started": "2022-04-04T23:04:38.512914Z"
    },
    "jupyter": {
     "outputs_hidden": false
    },
    "papermill": {
     "duration": 2.585628,
     "end_time": "2022-04-04T23:05:38.483425",
     "exception": false,
     "start_time": "2022-04-04T23:05:35.897797",
     "status": "completed"
    },
    "pycharm": {
     "name": "#%%\n",
     "is_executing": true
    },
    "tags": []
   },
   "outputs": [],
   "source": [
    "import numpy as np\n",
    "import pandas as pd\n",
    "import seaborn as sns\n",
    "\n",
    "import matplotlib.pyplot as plt\n",
    "\n",
    "%matplotlib inline\n",
    "\n",
    "\n",
    "from sklearn.ensemble import RandomForestClassifier, AdaBoostClassifier, GradientBoostingClassifier, ExtraTreesClassifier, VotingClassifier,RandomForestRegressor,GradientBoostingRegressor,ExtraTreesRegressor,AdaBoostRegressor\n",
    "from sklearn.tree import DecisionTreeClassifier\n",
    "\n",
    "from sklearn.model_selection import GridSearchCV, cross_val_score, StratifiedKFold,KFold,RepeatedStratifiedKFold,train_test_split,learning_curve\n",
    "from xgboost import XGBClassifier\n",
    "from sklearn.svm import SVC, LinearSVC, NuSVC\n",
    "\n",
    "from sklearn.preprocessing import MinMaxScaler, LabelEncoder, StandardScaler,RobustScaler\n",
    "from sklearn.neighbors import KNeighborsClassifier\n",
    "\n",
    "from sklearn.linear_model import LogisticRegression\n",
    "\n",
    "from sklearn.svm import SVC\n",
    "\n",
    "from sklearn.calibration import CalibratedClassifierCV\n",
    "\n",
    "from sklearn.metrics import accuracy_score,mean_squared_error\n",
    "\n",
    "from sklearn.tree import DecisionTreeRegressor\n",
    "\n",
    "import lightgbm as lgbm\n",
    "from sklearn import utils\n",
    "from lightgbm.sklearn import LGBMRegressor\n",
    "\n",
    "import warnings\n",
    "warnings.filterwarnings(\"ignore\")"
   ]
  },
  {
   "cell_type": "code",
   "execution_count": null,
   "id": "28a58945",
   "metadata": {
    "collapsed": false,
    "execution": {
     "iopub.execute_input": "2022-04-04T23:05:38.617094Z",
     "iopub.status.busy": "2022-04-04T23:05:38.616380Z",
     "iopub.status.idle": "2022-04-04T23:05:38.784609Z",
     "shell.execute_reply": "2022-04-04T23:05:38.783889Z",
     "shell.execute_reply.started": "2022-04-04T23:04:38.594920Z"
    },
    "jupyter": {
     "outputs_hidden": false
    },
    "papermill": {
     "duration": 0.23672,
     "end_time": "2022-04-04T23:05:38.784758",
     "exception": false,
     "start_time": "2022-04-04T23:05:38.548038",
     "status": "completed"
    },
    "pycharm": {
     "name": "#%%\n",
     "is_executing": true
    },
    "tags": []
   },
   "outputs": [],
   "source": [
    "avacado = pd.read_csv(\"avocado.csv\")\n",
    "df = avacado.copy()\n",
    "df.drop_duplicates()\n",
    "df"
   ]
  },
  {
   "cell_type": "markdown",
   "id": "7b184d4e",
   "metadata": {
    "papermill": {
     "duration": 0.064447,
     "end_time": "2022-04-04T23:05:38.917191",
     "exception": false,
     "start_time": "2022-04-04T23:05:38.852744",
     "status": "completed"
    },
    "pycharm": {
     "name": "#%% md\n"
    },
    "tags": []
   },
   "source": [
    "**Alright,We need to auxiliary functions in order to get better coding concept.Let's describe it. :=)**"
   ]
  },
  {
   "cell_type": "code",
   "execution_count": 3,
   "id": "362ee4d8",
   "metadata": {
    "collapsed": false,
    "execution": {
     "iopub.execute_input": "2022-04-04T23:05:39.052283Z",
     "iopub.status.busy": "2022-04-04T23:05:39.051284Z",
     "iopub.status.idle": "2022-04-04T23:05:39.091319Z",
     "shell.execute_reply": "2022-04-04T23:05:39.091847Z",
     "shell.execute_reply.started": "2022-04-04T23:04:38.678463Z"
    },
    "jupyter": {
     "outputs_hidden": false
    },
    "papermill": {
     "duration": 0.109194,
     "end_time": "2022-04-04T23:05:39.092040",
     "exception": false,
     "start_time": "2022-04-04T23:05:38.982846",
     "status": "completed"
    },
    "pycharm": {
     "name": "#%%\n"
    },
    "tags": []
   },
   "outputs": [],
   "source": [
    "def load(dataset_path):\n",
    "    data = pd.read_csv(dataset_path)\n",
    "    return data\n",
    "def data_sampling(dataframe):\n",
    "    seedcount = int(len(dataframe)/8)\n",
    "    np.random.seed(seedcount)\n",
    "    return dataframe.sample(n=seedcount, random_state=1, replace=True)\n",
    "\n",
    "def check_df(dataframe, head=5):\n",
    "    print(\"##################### Shape #####################\")\n",
    "    print(dataframe.shape)\n",
    "\n",
    "    print(\"##################### Types #####################\")\n",
    "    print(dataframe.dtypes)\n",
    "\n",
    "    print(\"##################### Head #####################\")\n",
    "    print(dataframe.head(head))\n",
    "\n",
    "    print(\"##################### Tail #####################\")\n",
    "    print(dataframe.tail(head))\n",
    "\n",
    "    print(\"##################### NA #####################\")\n",
    "    print(dataframe.isnull().sum())\n",
    "\n",
    "    print(\"##################### Quantiles #####################\")\n",
    "    print(dataframe.quantile([0, 0.05, 0.50, 0.95, 0.99, 1]).T)\n",
    "\n",
    "def grab_col_names(dataframe, cat_th=12, car_th=20):\n",
    "    # cat_cols, cat_but_car\n",
    "    cat_cols = [col for col in dataframe.columns if dataframe[col].dtypes == \"O\"]\n",
    "    num_but_cat = [col for col in dataframe.columns if dataframe[col].nunique() < cat_th and\n",
    "                   dataframe[col].dtypes != \"O\"]\n",
    "    cat_but_car = [col for col in dataframe.columns if dataframe[col].nunique() > car_th and\n",
    "                   dataframe[col].dtypes == \"O\"]\n",
    "    cat_cols = cat_cols + num_but_cat\n",
    "    cat_cols = [col for col in cat_cols if col not in cat_but_car]\n",
    "\n",
    "    # num_cols\n",
    "    num_cols = [col for col in dataframe.columns if dataframe[col].dtypes != \"O\"]\n",
    "    num_cols = [col for col in num_cols if col not in num_but_cat]\n",
    "\n",
    "    print(f\"Observations: {dataframe.shape[0]}\")\n",
    "    print(f\"Variables: {dataframe.shape[1]}\")\n",
    "    print(f'cat_cols: {len(cat_cols)}')\n",
    "    print(f'num_cols: {len(num_cols)}')\n",
    "    print(f'cat_but_car: {len(cat_but_car)}')\n",
    "    print(f'num_but_cat: {len(num_but_cat)}')\n",
    "    return cat_cols, num_cols, cat_but_car,num_but_cat\n",
    "\n",
    "def cat_summary(dataframe, col_name, plot=False):\n",
    "\n",
    "    print(pd.DataFrame({col_name: dataframe[col_name].value_counts(),\n",
    "                        \"Ratio\": 100 * dataframe[col_name].value_counts() / len(dataframe)}))\n",
    "    print(\"##########################################\")\n",
    "\n",
    "    if plot:\n",
    "        sns.countplot(x=dataframe[col_name], data=dataframe)\n",
    "        plt.show()\n",
    "\n",
    "def num_summary(dataframe, numerical_col, plot=False):\n",
    "\n",
    "    quantiles = [0.05, 0.10, 0.20, 0.30, 0.40, 0.50, 0.60, 0.70, 0.80, 0.90, 0.95, 0.99]\n",
    "\n",
    "    print(dataframe[numerical_col].describe(quantiles).T)\n",
    "\n",
    "    if plot:\n",
    "        dataframe[numerical_col].hist(bins=20)\n",
    "        plt.xlabel(numerical_col)\n",
    "        plt.title(numerical_col)\n",
    "        plt.show(block=True)\n",
    "\n",
    "def target_summary_with_cat(dataframe, target, categorical_col):\n",
    "\n",
    "    print(pd.DataFrame({\"TARGET_MEAN\": dataframe.groupby(categorical_col)[target].mean()}), end=\"\\n\\n\\n\")\n",
    "\n",
    "def target_summary_with_num(dataframe, target, numerical_col):\n",
    "    print(dataframe.groupby(target).agg({numerical_col: \"mean\"}), end=\"\\n\\n\\n\")\n",
    "\n",
    "\n",
    "def outlier_thresholds(dataframe, col_name, q1=0.25, q3=0.75):\n",
    "    quartile1 = dataframe[col_name].quantile(q1)\n",
    "    quartile3 = dataframe[col_name].quantile(q3)\n",
    "    interquantile_range = quartile3 - quartile1\n",
    "    up_limit = quartile3 + 1.5 * interquantile_range\n",
    "    low_limit = quartile1 - 1.5 * interquantile_range\n",
    "    return low_limit, up_limit\n",
    "\n",
    "def check_outlier(dataframe, col_name):\n",
    "    low_limit, up_limit = outlier_thresholds(dataframe, col_name)\n",
    "    if dataframe[(dataframe[col_name] > up_limit) | (dataframe[col_name] < low_limit)].any(axis=None):\n",
    "        return True\n",
    "    else:\n",
    "        return False\n",
    "\n",
    "def grab_outliers(dataframe, col_name, index=False):\n",
    "    low, up = outlier_thresholds(dataframe, col_name)\n",
    "\n",
    "    if dataframe[((dataframe[col_name] < low) | (dataframe[col_name] > up))].shape[0] > 10:\n",
    "        print(dataframe[((dataframe[col_name] < low) | (dataframe[col_name] > up))].head())\n",
    "    else:\n",
    "        print(dataframe[((dataframe[col_name] < low) | (dataframe[col_name] > up))])\n",
    "\n",
    "    if index:\n",
    "        outlier_index = dataframe[((dataframe[col_name] < low) | (dataframe[col_name] > up))].index\n",
    "        return outlier_index\n",
    "\n",
    "def missing_values_table(dataframe, na_name=False):\n",
    "    na_columns = [col for col in dataframe.columns if dataframe[col].isnull().sum() > 0]\n",
    "\n",
    "    n_miss = dataframe[na_columns].isnull().sum().sort_values(ascending=False)\n",
    "    ratio = (dataframe[na_columns].isnull().sum() / dataframe.shape[0] * 100).sort_values(ascending=False)\n",
    "    missing_df = pd.concat([n_miss, np.round(ratio, 2)], axis=1, keys=['n_miss', 'ratio'])\n",
    "    print(missing_df, end=\"\\n\")\n",
    "\n",
    "    if na_name:\n",
    "        return na_columns\n",
    "\n",
    "def replace_with_thresholds(dataframe, variable):\n",
    "    low_limit, up_limit = outlier_thresholds(dataframe, variable)\n",
    "    dataframe.loc[(dataframe[variable] < low_limit), variable] = low_limit\n",
    "    dataframe.loc[(dataframe[variable] > up_limit), variable] = up_limit\n",
    "\n",
    "def label_encoder(dataframe, binary_col):\n",
    "    le = LabelEncoder()\n",
    "    for i in binary_col:\n",
    "        dataframe[i]=le.fit_transform(df[i])\n",
    "    return dataframe\n",
    "\n",
    "def one_hot_encoder(dataframe, categorical_cols, drop_first=True):\n",
    "    dataframe = pd.get_dummies(dataframe, columns=categorical_cols, drop_first=drop_first)\n",
    "    return dataframe\n",
    "\n",
    "def plot_importance(model, features, num, save=False):\n",
    "    feature_imp = pd.DataFrame({'Value': model.feature_importances_, 'Feature': features.columns})\n",
    "    plt.figure(figsize=(10, 10))\n",
    "    sns.set(font_scale=1)\n",
    "    sns.barplot(x=\"Value\", y=\"Feature\", data=feature_imp.sort_values(by=\"Value\",\n",
    "                                                                      ascending=False)[0:num])\n",
    "    plt.title('Features')\n",
    "    plt.tight_layout()\n",
    "    plt.show()\n",
    "    if save:\n",
    "        plt.savefig('importances.png')\n",
    "\n",
    "def showlineplot(style, x, y, dataframe, alhp,rot,color, xlabel, ylabel, title):\n",
    "    sns.set_style(style)\n",
    "    sns.lineplot(x=x,\n",
    "                 y=y,\n",
    "                 data=dataframe,\n",
    "                 alpha=alhp,\n",
    "                 color=color\n",
    "                 )\n",
    "    plt.xticks(rotation=rot)\n",
    "    plt.xlabel(xlabel)\n",
    "    plt.ylabel(ylabel)\n",
    "    plt.title(title)\n",
    "    plt.show()"
   ]
  },
  {
   "cell_type": "markdown",
   "id": "e25616cd",
   "metadata": {
    "papermill": {
     "duration": 0.063607,
     "end_time": "2022-04-04T23:05:39.221067",
     "exception": false,
     "start_time": "2022-04-04T23:05:39.157460",
     "status": "completed"
    },
    "tags": [],
    "pycharm": {
     "name": "#%% md\n"
    }
   },
   "source": [
    "**We have 18249 observations.We need to edit that tiny problem.This problem will be arising issue in next times.Therefore,we are diving to data sampling.Yaaay!**"
   ]
  },
  {
   "cell_type": "markdown",
   "id": "829b5929",
   "metadata": {
    "papermill": {
     "duration": 0.064332,
     "end_time": "2022-04-04T23:05:39.350440",
     "exception": false,
     "start_time": "2022-04-04T23:05:39.286108",
     "status": "completed"
    },
    "tags": [],
    "pycharm": {
     "name": "#%% md\n"
    }
   },
   "source": [
    "## Data Sampling"
   ]
  },
  {
   "cell_type": "code",
   "execution_count": 4,
   "id": "16b14c7c",
   "metadata": {
    "collapsed": false,
    "execution": {
     "iopub.execute_input": "2022-04-04T23:05:39.481745Z",
     "iopub.status.busy": "2022-04-04T23:05:39.481121Z",
     "iopub.status.idle": "2022-04-04T23:05:39.486070Z",
     "shell.execute_reply": "2022-04-04T23:05:39.486656Z",
     "shell.execute_reply.started": "2022-04-04T23:04:38.714366Z"
    },
    "jupyter": {
     "outputs_hidden": false
    },
    "papermill": {
     "duration": 0.072402,
     "end_time": "2022-04-04T23:05:39.486839",
     "exception": false,
     "start_time": "2022-04-04T23:05:39.414437",
     "status": "completed"
    },
    "pycharm": {
     "name": "#%%\n"
    },
    "tags": []
   },
   "outputs": [],
   "source": [
    "df=data_sampling(df)"
   ]
  },
  {
   "cell_type": "code",
   "execution_count": null,
   "id": "8ab77bc2",
   "metadata": {
    "collapsed": false,
    "execution": {
     "iopub.execute_input": "2022-04-04T23:05:39.618182Z",
     "iopub.status.busy": "2022-04-04T23:05:39.617522Z",
     "iopub.status.idle": "2022-04-04T23:05:39.656288Z",
     "shell.execute_reply": "2022-04-04T23:05:39.655703Z",
     "shell.execute_reply.started": "2022-04-04T23:04:38.730624Z"
    },
    "jupyter": {
     "outputs_hidden": false
    },
    "papermill": {
     "duration": 0.105584,
     "end_time": "2022-04-04T23:05:39.656447",
     "exception": false,
     "start_time": "2022-04-04T23:05:39.550863",
     "status": "completed"
    },
    "pycharm": {
     "name": "#%%\n",
     "is_executing": true
    },
    "tags": []
   },
   "outputs": [],
   "source": [
    "check_df(df)"
   ]
  },
  {
   "cell_type": "markdown",
   "id": "ca111b3f",
   "metadata": {
    "papermill": {
     "duration": 0.06459,
     "end_time": "2022-04-04T23:05:39.786958",
     "exception": false,
     "start_time": "2022-04-04T23:05:39.722368",
     "status": "completed"
    },
    "pycharm": {
     "name": "#%% md\n"
    },
    "tags": []
   },
   "source": [
    "- Finally,we have minimized our datas  in order to obtain result faster"
   ]
  },
  {
   "cell_type": "markdown",
   "id": "6a82d47d",
   "metadata": {
    "papermill": {
     "duration": 0.06451,
     "end_time": "2022-04-04T23:05:39.916877",
     "exception": false,
     "start_time": "2022-04-04T23:05:39.852367",
     "status": "completed"
    },
    "tags": [],
    "pycharm": {
     "name": "#%% md\n"
    }
   },
   "source": [
    "*There is a missing column name.We should remove unnecessary column in order to edit our data*"
   ]
  },
  {
   "cell_type": "code",
   "execution_count": 6,
   "id": "8d7cc919",
   "metadata": {
    "collapsed": false,
    "execution": {
     "iopub.execute_input": "2022-04-04T23:05:40.051621Z",
     "iopub.status.busy": "2022-04-04T23:05:40.050987Z",
     "iopub.status.idle": "2022-04-04T23:05:40.055633Z",
     "shell.execute_reply": "2022-04-04T23:05:40.056226Z",
     "shell.execute_reply.started": "2022-04-04T23:04:38.767807Z"
    },
    "jupyter": {
     "outputs_hidden": false
    },
    "papermill": {
     "duration": 0.074514,
     "end_time": "2022-04-04T23:05:40.056401",
     "exception": false,
     "start_time": "2022-04-04T23:05:39.981887",
     "status": "completed"
    },
    "pycharm": {
     "name": "#%%\n"
    },
    "tags": []
   },
   "outputs": [],
   "source": [
    "df.drop(['Unnamed: 0','Date'],axis=1,inplace=True)"
   ]
  },
  {
   "cell_type": "markdown",
   "id": "b3536e99",
   "metadata": {
    "papermill": {
     "duration": 0.066782,
     "end_time": "2022-04-04T23:05:40.187704",
     "exception": false,
     "start_time": "2022-04-04T23:05:40.120922",
     "status": "completed"
    },
    "tags": [],
    "pycharm": {
     "name": "#%% md\n"
    }
   },
   "source": [
    "***Let's examine our data structure***"
   ]
  },
  {
   "cell_type": "code",
   "execution_count": null,
   "id": "f587c639",
   "metadata": {
    "collapsed": false,
    "execution": {
     "iopub.execute_input": "2022-04-04T23:05:40.321422Z",
     "iopub.status.busy": "2022-04-04T23:05:40.320752Z",
     "iopub.status.idle": "2022-04-04T23:05:40.336162Z",
     "shell.execute_reply": "2022-04-04T23:05:40.335647Z",
     "shell.execute_reply.started": "2022-04-04T23:04:38.776278Z"
    },
    "jupyter": {
     "outputs_hidden": false
    },
    "papermill": {
     "duration": 0.084039,
     "end_time": "2022-04-04T23:05:40.336308",
     "exception": false,
     "start_time": "2022-04-04T23:05:40.252269",
     "status": "completed"
    },
    "pycharm": {
     "name": "#%%\n"
    },
    "tags": []
   },
   "outputs": [],
   "source": [
    "df.columns=df.columns.str.lower()\n",
    "df.columns=df.columns.str.strip()\n",
    "df.head()"
   ]
  },
  {
   "cell_type": "code",
   "execution_count": null,
   "outputs": [],
   "source": [
    "cat_cols,num_cols,cat_but_car,num_but_car=grab_col_names(df)\n",
    "num_but_car"
   ],
   "metadata": {
    "collapsed": false,
    "pycharm": {
     "name": "#%%\n"
    }
   }
  },
  {
   "cell_type": "code",
   "execution_count": null,
   "outputs": [],
   "source": [
    "cat_but_car"
   ],
   "metadata": {
    "collapsed": false,
    "pycharm": {
     "name": "#%%\n",
     "is_executing": true
    }
   }
  },
  {
   "cell_type": "code",
   "execution_count": null,
   "id": "ec64ffc5",
   "metadata": {
    "collapsed": false,
    "execution": {
     "iopub.execute_input": "2022-04-04T23:05:40.472282Z",
     "iopub.status.busy": "2022-04-04T23:05:40.471586Z",
     "iopub.status.idle": "2022-04-04T23:05:42.783591Z",
     "shell.execute_reply": "2022-04-04T23:05:42.782998Z",
     "shell.execute_reply.started": "2022-04-04T23:04:38.923000Z"
    },
    "jupyter": {
     "outputs_hidden": false
    },
    "papermill": {
     "duration": 2.381932,
     "end_time": "2022-04-04T23:05:42.783731",
     "exception": false,
     "start_time": "2022-04-04T23:05:40.401799",
     "status": "completed"
    },
    "pycharm": {
     "name": "#%%\n",
     "is_executing": true
    },
    "tags": []
   },
   "outputs": [],
   "source": [
    "for col in num_cols:\n",
    "    num_summary(df,col,plot=True)"
   ]
  },
  {
   "cell_type": "code",
   "execution_count": null,
   "id": "b35cac95",
   "metadata": {
    "collapsed": false,
    "execution": {
     "iopub.execute_input": "2022-04-04T23:05:42.943206Z",
     "iopub.status.busy": "2022-04-04T23:05:42.942123Z",
     "iopub.status.idle": "2022-04-04T23:05:48.197174Z",
     "shell.execute_reply": "2022-04-04T23:05:48.197683Z",
     "shell.execute_reply.started": "2022-04-04T23:04:40.848086Z"
    },
    "jupyter": {
     "outputs_hidden": false
    },
    "papermill": {
     "duration": 5.336442,
     "end_time": "2022-04-04T23:05:48.197852",
     "exception": false,
     "start_time": "2022-04-04T23:05:42.861410",
     "status": "completed"
    },
    "pycharm": {
     "name": "#%%\n",
     "is_executing": true
    },
    "tags": []
   },
   "outputs": [],
   "source": [
    "sns.catplot(x=\"year\",y=\"averageprice\",hue=\"region\",data=df);"
   ]
  },
  {
   "cell_type": "markdown",
   "id": "a8869be0",
   "metadata": {
    "papermill": {
     "duration": 0.080741,
     "end_time": "2022-04-04T23:05:48.358277",
     "exception": false,
     "start_time": "2022-04-04T23:05:48.277536",
     "status": "completed"
    },
    "pycharm": {
     "name": "#%% md\n"
    },
    "tags": []
   },
   "source": [
    "*Absolutely it looks like so confused for everyone.However,we need to examine our datas by groupby function*"
   ]
  },
  {
   "cell_type": "code",
   "execution_count": null,
   "id": "449bb48c",
   "metadata": {
    "collapsed": false,
    "execution": {
     "iopub.execute_input": "2022-04-04T23:05:48.537093Z",
     "iopub.status.busy": "2022-04-04T23:05:48.536308Z",
     "iopub.status.idle": "2022-04-04T23:05:48.577193Z",
     "shell.execute_reply": "2022-04-04T23:05:48.577711Z",
     "shell.execute_reply.started": "2022-04-04T23:04:45.558057Z"
    },
    "jupyter": {
     "outputs_hidden": false
    },
    "papermill": {
     "duration": 0.130697,
     "end_time": "2022-04-04T23:05:48.577889",
     "exception": false,
     "start_time": "2022-04-04T23:05:48.447192",
     "status": "completed"
    },
    "pycharm": {
     "name": "#%%\n",
     "is_executing": true
    },
    "tags": []
   },
   "outputs": [],
   "source": [
    "df.groupby(['region','year']).sum()"
   ]
  },
  {
   "cell_type": "markdown",
   "id": "6c11d1ca",
   "metadata": {
    "papermill": {
     "duration": 0.103543,
     "end_time": "2022-04-04T23:05:48.764239",
     "exception": false,
     "start_time": "2022-04-04T23:05:48.660696",
     "status": "completed"
    },
    "pycharm": {
     "name": "#%% md\n"
    },
    "tags": []
   },
   "source": [
    "**as you can see,there are so many region on our data set :(**"
   ]
  },
  {
   "cell_type": "markdown",
   "id": "35b2b0f2",
   "metadata": {
    "papermill": {
     "duration": 0.080823,
     "end_time": "2022-04-04T23:05:48.944650",
     "exception": false,
     "start_time": "2022-04-04T23:05:48.863827",
     "status": "completed"
    },
    "pycharm": {
     "name": "#%% md\n"
    },
    "tags": []
   },
   "source": [
    "# Data Preparation"
   ]
  },
  {
   "cell_type": "markdown",
   "id": "50f47589",
   "metadata": {
    "papermill": {
     "duration": 0.082522,
     "end_time": "2022-04-04T23:05:49.108337",
     "exception": false,
     "start_time": "2022-04-04T23:05:49.025815",
     "status": "completed"
    },
    "pycharm": {
     "name": "#%% md\n"
    },
    "tags": []
   },
   "source": [
    "### Outlier Analysis"
   ]
  },
  {
   "cell_type": "markdown",
   "id": "cd228c19",
   "metadata": {
    "papermill": {
     "duration": 0.082973,
     "end_time": "2022-04-04T23:05:49.273832",
     "exception": false,
     "start_time": "2022-04-04T23:05:49.190859",
     "status": "completed"
    },
    "pycharm": {
     "name": "#%% md\n"
    },
    "tags": []
   },
   "source": [
    "**Alright, let's  look inside of our data whether there are outliers.We check by analyzing graphs**"
   ]
  },
  {
   "cell_type": "code",
   "execution_count": null,
   "id": "931bb15e",
   "metadata": {
    "collapsed": false,
    "execution": {
     "iopub.execute_input": "2022-04-04T23:05:49.445177Z",
     "iopub.status.busy": "2022-04-04T23:05:49.444460Z",
     "iopub.status.idle": "2022-04-04T23:05:49.574000Z",
     "shell.execute_reply": "2022-04-04T23:05:49.572661Z",
     "shell.execute_reply.started": "2022-04-04T23:04:45.595061Z"
    },
    "jupyter": {
     "outputs_hidden": false
    },
    "papermill": {
     "duration": 0.219069,
     "end_time": "2022-04-04T23:05:49.574172",
     "exception": false,
     "start_time": "2022-04-04T23:05:49.355103",
     "status": "completed"
    },
    "pycharm": {
     "name": "#%%\n",
     "is_executing": true
    },
    "tags": []
   },
   "outputs": [],
   "source": [
    "for col in num_cols:\n",
    "    print(\"{} :  {}\".format(col,check_outlier(df,col)))\n",
    "    grab_outliers(df,col)"
   ]
  },
  {
   "cell_type": "markdown",
   "id": "e10e8c5b",
   "metadata": {
    "papermill": {
     "duration": 0.081511,
     "end_time": "2022-04-04T23:05:49.737425",
     "exception": false,
     "start_time": "2022-04-04T23:05:49.655914",
     "status": "completed"
    },
    "pycharm": {
     "name": "#%% md\n"
    },
    "tags": []
   },
   "source": [
    "## Outlier Processing"
   ]
  },
  {
   "cell_type": "code",
   "execution_count": 12,
   "id": "2abcca10",
   "metadata": {
    "collapsed": false,
    "execution": {
     "iopub.execute_input": "2022-04-04T23:05:49.904054Z",
     "iopub.status.busy": "2022-04-04T23:05:49.903359Z",
     "iopub.status.idle": "2022-04-04T23:05:49.931086Z",
     "shell.execute_reply": "2022-04-04T23:05:49.931569Z",
     "shell.execute_reply.started": "2022-04-04T23:04:45.712906Z"
    },
    "jupyter": {
     "outputs_hidden": false
    },
    "papermill": {
     "duration": 0.11284,
     "end_time": "2022-04-04T23:05:49.931759",
     "exception": false,
     "start_time": "2022-04-04T23:05:49.818919",
     "status": "completed"
    },
    "pycharm": {
     "name": "#%%\n"
    },
    "tags": []
   },
   "outputs": [],
   "source": [
    "for col in num_cols:\n",
    "    replace_with_thresholds(df,col)"
   ]
  },
  {
   "cell_type": "markdown",
   "id": "bfc27654",
   "metadata": {
    "papermill": {
     "duration": 0.081949,
     "end_time": "2022-04-04T23:05:50.096313",
     "exception": false,
     "start_time": "2022-04-04T23:05:50.014364",
     "status": "completed"
    },
    "pycharm": {
     "name": "#%% md\n"
    },
    "tags": []
   },
   "source": [
    "***Let's check whether outliers of variables one more time***"
   ]
  },
  {
   "cell_type": "code",
   "execution_count": null,
   "id": "5d22233b",
   "metadata": {
    "collapsed": false,
    "execution": {
     "iopub.execute_input": "2022-04-04T23:05:50.263035Z",
     "iopub.status.busy": "2022-04-04T23:05:50.262398Z",
     "iopub.status.idle": "2022-04-04T23:05:50.300197Z",
     "shell.execute_reply": "2022-04-04T23:05:50.299498Z",
     "shell.execute_reply.started": "2022-04-04T23:04:45.744362Z"
    },
    "jupyter": {
     "outputs_hidden": false
    },
    "papermill": {
     "duration": 0.122167,
     "end_time": "2022-04-04T23:05:50.300355",
     "exception": false,
     "start_time": "2022-04-04T23:05:50.178188",
     "status": "completed"
    },
    "pycharm": {
     "name": "#%%\n",
     "is_executing": true
    },
    "tags": []
   },
   "outputs": [],
   "source": [
    "for col in num_cols:\n",
    "    print(check_outlier(df,col))"
   ]
  },
  {
   "cell_type": "code",
   "execution_count": null,
   "id": "b1d4482d",
   "metadata": {
    "collapsed": false,
    "execution": {
     "iopub.execute_input": "2022-04-04T23:05:50.470657Z",
     "iopub.status.busy": "2022-04-04T23:05:50.468883Z",
     "iopub.status.idle": "2022-04-04T23:05:50.650193Z",
     "shell.execute_reply": "2022-04-04T23:05:50.649666Z",
     "shell.execute_reply.started": "2022-04-04T23:04:45.783152Z"
    },
    "jupyter": {
     "outputs_hidden": false
    },
    "papermill": {
     "duration": 0.266702,
     "end_time": "2022-04-04T23:05:50.650342",
     "exception": false,
     "start_time": "2022-04-04T23:05:50.383640",
     "status": "completed"
    },
    "pycharm": {
     "name": "#%%\n",
     "is_executing": true
    },
    "tags": []
   },
   "outputs": [],
   "source": [
    "sns.boxplot(x=df.averageprice);"
   ]
  },
  {
   "cell_type": "markdown",
   "id": "6d6179b6",
   "metadata": {
    "papermill": {
     "duration": 0.082221,
     "end_time": "2022-04-04T23:05:50.814994",
     "exception": false,
     "start_time": "2022-04-04T23:05:50.732773",
     "status": "completed"
    },
    "pycharm": {
     "name": "#%% md\n"
    },
    "tags": []
   },
   "source": [
    "**We have checked value of price_wheat_ton both functionally and visually**"
   ]
  },
  {
   "cell_type": "code",
   "execution_count": null,
   "id": "b30e1afd",
   "metadata": {
    "collapsed": false,
    "execution": {
     "iopub.execute_input": "2022-04-04T23:05:50.983740Z",
     "iopub.status.busy": "2022-04-04T23:05:50.983088Z",
     "iopub.status.idle": "2022-04-04T23:05:51.020313Z",
     "shell.execute_reply": "2022-04-04T23:05:51.020991Z",
     "shell.execute_reply.started": "2022-04-04T23:04:45.964111Z"
    },
    "jupyter": {
     "outputs_hidden": false
    },
    "papermill": {
     "duration": 0.123828,
     "end_time": "2022-04-04T23:05:51.021176",
     "exception": false,
     "start_time": "2022-04-04T23:05:50.897348",
     "status": "completed"
    },
    "pycharm": {
     "name": "#%%\n",
     "is_executing": true
    },
    "tags": []
   },
   "outputs": [],
   "source": [
    "df.describe()"
   ]
  },
  {
   "cell_type": "code",
   "execution_count": null,
   "id": "a59e2bd9",
   "metadata": {
    "collapsed": false,
    "execution": {
     "iopub.execute_input": "2022-04-04T23:05:51.192794Z",
     "iopub.status.busy": "2022-04-04T23:05:51.192148Z",
     "iopub.status.idle": "2022-04-04T23:05:52.067088Z",
     "shell.execute_reply": "2022-04-04T23:05:52.067633Z",
     "shell.execute_reply.started": "2022-04-04T23:04:46.001205Z"
    },
    "jupyter": {
     "outputs_hidden": false
    },
    "papermill": {
     "duration": 0.962485,
     "end_time": "2022-04-04T23:05:52.067813",
     "exception": false,
     "start_time": "2022-04-04T23:05:51.105328",
     "status": "completed"
    },
    "pycharm": {
     "name": "#%%\n",
     "is_executing": true
    },
    "tags": []
   },
   "outputs": [],
   "source": [
    "plt.figure(figsize=(10,10))\n",
    "sns.heatmap(df.corr(),annot=True,fmt=\".3f\",linewidth=.5,cbar=True);"
   ]
  },
  {
   "cell_type": "markdown",
   "id": "a2de8b47",
   "metadata": {
    "papermill": {
     "duration": 0.085531,
     "end_time": "2022-04-04T23:05:52.239814",
     "exception": false,
     "start_time": "2022-04-04T23:05:52.154283",
     "status": "completed"
    },
    "pycharm": {
     "name": "#%% md\n"
    },
    "tags": []
   },
   "source": [
    "## Feature Engineering"
   ]
  },
  {
   "cell_type": "code",
   "execution_count": 17,
   "id": "05d30a0d",
   "metadata": {
    "collapsed": false,
    "execution": {
     "iopub.execute_input": "2022-04-04T23:05:52.417854Z",
     "iopub.status.busy": "2022-04-04T23:05:52.416774Z",
     "iopub.status.idle": "2022-04-04T23:05:52.419404Z",
     "shell.execute_reply": "2022-04-04T23:05:52.418702Z",
     "shell.execute_reply.started": "2022-04-04T23:04:46.813663Z"
    },
    "jupyter": {
     "outputs_hidden": false
    },
    "papermill": {
     "duration": 0.092928,
     "end_time": "2022-04-04T23:05:52.419563",
     "exception": false,
     "start_time": "2022-04-04T23:05:52.326635",
     "status": "completed"
    },
    "pycharm": {
     "name": "#%%\n"
    },
    "tags": []
   },
   "outputs": [],
   "source": [
    "categories=[\"Very Low\",\"Low\",\"Avarage\",\"High\",\"Very High\"]"
   ]
  },
  {
   "cell_type": "code",
   "execution_count": null,
   "id": "a54aa92f",
   "metadata": {
    "collapsed": false,
    "execution": {
     "iopub.execute_input": "2022-04-04T23:05:52.599361Z",
     "iopub.status.busy": "2022-04-04T23:05:52.598260Z",
     "iopub.status.idle": "2022-04-04T23:05:52.641602Z",
     "shell.execute_reply": "2022-04-04T23:05:52.641084Z",
     "shell.execute_reply.started": "2022-04-04T23:04:46.819874Z"
    },
    "jupyter": {
     "outputs_hidden": false
    },
    "papermill": {
     "duration": 0.136356,
     "end_time": "2022-04-04T23:05:52.641747",
     "exception": false,
     "start_time": "2022-04-04T23:05:52.505391",
     "status": "completed"
    },
    "pycharm": {
     "name": "#%%\n",
     "is_executing": true
    },
    "tags": []
   },
   "outputs": [],
   "source": [
    "df[\"total_income\"]=df[\"averageprice\"]*df[\"total volume\"]\n",
    "df[\"reveneu_status\"]=pd.cut(df[\"total_income\"],len(categories),labels=categories)\n",
    "df.head(30)"
   ]
  },
  {
   "cell_type": "code",
   "execution_count": null,
   "id": "b676ff21",
   "metadata": {
    "collapsed": false,
    "execution": {
     "iopub.execute_input": "2022-04-04T23:05:52.819918Z",
     "iopub.status.busy": "2022-04-04T23:05:52.819272Z",
     "iopub.status.idle": "2022-04-04T23:05:52.826837Z",
     "shell.execute_reply": "2022-04-04T23:05:52.827375Z",
     "shell.execute_reply.started": "2022-04-04T23:04:46.865970Z"
    },
    "jupyter": {
     "outputs_hidden": false
    },
    "papermill": {
     "duration": 0.098111,
     "end_time": "2022-04-04T23:05:52.827553",
     "exception": false,
     "start_time": "2022-04-04T23:05:52.729442",
     "status": "completed"
    },
    "pycharm": {
     "name": "#%%\n",
     "is_executing": true
    },
    "tags": []
   },
   "outputs": [],
   "source": [
    "df.reveneu_status.value_counts()"
   ]
  },
  {
   "cell_type": "markdown",
   "id": "82d4ee2e",
   "metadata": {
    "papermill": {
     "duration": 0.087969,
     "end_time": "2022-04-04T23:05:53.002699",
     "exception": false,
     "start_time": "2022-04-04T23:05:52.914730",
     "status": "completed"
    },
    "pycharm": {
     "name": "#%% md\n"
    },
    "tags": []
   },
   "source": [
    "## Encoding"
   ]
  },
  {
   "cell_type": "markdown",
   "id": "1505a768",
   "metadata": {
    "papermill": {
     "duration": 0.087598,
     "end_time": "2022-04-04T23:05:53.179816",
     "exception": false,
     "start_time": "2022-04-04T23:05:53.092218",
     "status": "completed"
    },
    "pycharm": {
     "name": "#%% md\n"
    },
    "tags": []
   },
   "source": [
    "### One hot Encoding"
   ]
  },
  {
   "cell_type": "code",
   "execution_count": null,
   "id": "cddfc5b4",
   "metadata": {
    "collapsed": false,
    "execution": {
     "iopub.execute_input": "2022-04-04T23:05:53.360832Z",
     "iopub.status.busy": "2022-04-04T23:05:53.360146Z",
     "iopub.status.idle": "2022-04-04T23:05:53.373588Z",
     "shell.execute_reply": "2022-04-04T23:05:53.374515Z",
     "shell.execute_reply.started": "2022-04-04T23:04:46.880439Z"
    },
    "jupyter": {
     "outputs_hidden": false
    },
    "papermill": {
     "duration": 0.106853,
     "end_time": "2022-04-04T23:05:53.374756",
     "exception": false,
     "start_time": "2022-04-04T23:05:53.267903",
     "status": "completed"
    },
    "pycharm": {
     "name": "#%%\n",
     "is_executing": true
    },
    "tags": []
   },
   "outputs": [],
   "source": [
    "df.info()"
   ]
  },
  {
   "cell_type": "code",
   "execution_count": 21,
   "id": "c1df2861",
   "metadata": {
    "collapsed": false,
    "execution": {
     "iopub.execute_input": "2022-04-04T23:05:53.555267Z",
     "iopub.status.busy": "2022-04-04T23:05:53.554582Z",
     "iopub.status.idle": "2022-04-04T23:05:53.569635Z",
     "shell.execute_reply": "2022-04-04T23:05:53.569120Z",
     "shell.execute_reply.started": "2022-04-04T23:04:46.904234Z"
    },
    "jupyter": {
     "outputs_hidden": false
    },
    "papermill": {
     "duration": 0.105884,
     "end_time": "2022-04-04T23:05:53.569777",
     "exception": false,
     "start_time": "2022-04-04T23:05:53.463893",
     "status": "completed"
    },
    "pycharm": {
     "name": "#%%\n"
    },
    "tags": []
   },
   "outputs": [],
   "source": [
    "ohe_cols=[col for col in df.columns if 80 >=df[col].nunique()>=2]\n",
    "df=one_hot_encoder(df,ohe_cols,True)\n"
   ]
  },
  {
   "cell_type": "code",
   "execution_count": null,
   "id": "1b40ac34",
   "metadata": {
    "collapsed": false,
    "execution": {
     "iopub.execute_input": "2022-04-04T23:05:53.752530Z",
     "iopub.status.busy": "2022-04-04T23:05:53.751711Z",
     "iopub.status.idle": "2022-04-04T23:05:53.767364Z",
     "shell.execute_reply": "2022-04-04T23:05:53.768109Z",
     "shell.execute_reply.started": "2022-04-04T23:04:47.092104Z"
    },
    "jupyter": {
     "outputs_hidden": false
    },
    "papermill": {
     "duration": 0.110124,
     "end_time": "2022-04-04T23:05:53.768300",
     "exception": false,
     "start_time": "2022-04-04T23:05:53.658176",
     "status": "completed"
    },
    "pycharm": {
     "name": "#%%\n",
     "is_executing": true
    },
    "tags": []
   },
   "outputs": [],
   "source": [
    "df.info()"
   ]
  },
  {
   "cell_type": "markdown",
   "id": "420c74f7",
   "metadata": {
    "papermill": {
     "duration": 0.088881,
     "end_time": "2022-04-04T23:05:53.950233",
     "exception": false,
     "start_time": "2022-04-04T23:05:53.861352",
     "status": "completed"
    },
    "pycharm": {
     "name": "#%% md\n"
    },
    "tags": []
   },
   "source": [
    "**We need to check what  kind of data  we have.Apparently, variable of region has so many different types.Therefore,we have associated  variable counts of region to onehotencoding**"
   ]
  },
  {
   "cell_type": "code",
   "execution_count": null,
   "id": "030b31d1",
   "metadata": {
    "collapsed": false,
    "execution": {
     "iopub.execute_input": "2022-04-04T23:05:54.132969Z",
     "iopub.status.busy": "2022-04-04T23:05:54.131927Z",
     "iopub.status.idle": "2022-04-04T23:05:54.137206Z",
     "shell.execute_reply": "2022-04-04T23:05:54.137695Z",
     "shell.execute_reply.started": "2022-04-04T23:04:47.112190Z"
    },
    "jupyter": {
     "outputs_hidden": false
    },
    "papermill": {
     "duration": 0.097827,
     "end_time": "2022-04-04T23:05:54.137867",
     "exception": false,
     "start_time": "2022-04-04T23:05:54.040040",
     "status": "completed"
    },
    "pycharm": {
     "name": "#%%\n",
     "is_executing": true
    },
    "tags": []
   },
   "outputs": [],
   "source": [
    "ohe_cols"
   ]
  },
  {
   "cell_type": "code",
   "execution_count": null,
   "id": "83b51b7c",
   "metadata": {
    "collapsed": false,
    "execution": {
     "iopub.execute_input": "2022-04-04T23:05:54.319469Z",
     "iopub.status.busy": "2022-04-04T23:05:54.318541Z",
     "iopub.status.idle": "2022-04-04T23:05:54.481984Z",
     "shell.execute_reply": "2022-04-04T23:05:54.482488Z",
     "shell.execute_reply.started": "2022-04-04T23:04:47.119231Z"
    },
    "jupyter": {
     "outputs_hidden": false
    },
    "papermill": {
     "duration": 0.255937,
     "end_time": "2022-04-04T23:05:54.482656",
     "exception": false,
     "start_time": "2022-04-04T23:05:54.226719",
     "status": "completed"
    },
    "pycharm": {
     "name": "#%%\n",
     "is_executing": true
    },
    "tags": []
   },
   "outputs": [],
   "source": [
    "df.describe()"
   ]
  },
  {
   "cell_type": "markdown",
   "id": "9944a4c9",
   "metadata": {
    "papermill": {
     "duration": 0.089573,
     "end_time": "2022-04-04T23:05:54.661717",
     "exception": false,
     "start_time": "2022-04-04T23:05:54.572144",
     "status": "completed"
    },
    "pycharm": {
     "name": "#%% md\n"
    },
    "tags": []
   },
   "source": [
    "## Feature Scaling"
   ]
  },
  {
   "cell_type": "code",
   "execution_count": null,
   "id": "53a0fae1",
   "metadata": {
    "collapsed": false,
    "execution": {
     "iopub.execute_input": "2022-04-04T23:05:54.849074Z",
     "iopub.status.busy": "2022-04-04T23:05:54.848336Z",
     "iopub.status.idle": "2022-04-04T23:05:54.874212Z",
     "shell.execute_reply": "2022-04-04T23:05:54.873677Z",
     "shell.execute_reply.started": "2022-04-04T23:04:47.277323Z"
    },
    "jupyter": {
     "outputs_hidden": false
    },
    "papermill": {
     "duration": 0.123362,
     "end_time": "2022-04-04T23:05:54.874364",
     "exception": false,
     "start_time": "2022-04-04T23:05:54.751002",
     "status": "completed"
    },
    "pycharm": {
     "name": "#%%\n",
     "is_executing": true
    },
    "tags": []
   },
   "outputs": [],
   "source": [
    "transform_power = RobustScaler()\n",
    "df[num_cols] = transform_power.fit_transform(df[num_cols])\n",
    "df.head()"
   ]
  },
  {
   "cell_type": "code",
   "execution_count": null,
   "id": "821b1fd1",
   "metadata": {
    "collapsed": false,
    "jupyter": {
     "outputs_hidden": false
    },
    "papermill": {
     "duration": 0.0914,
     "end_time": "2022-04-04T23:05:55.057565",
     "exception": false,
     "start_time": "2022-04-04T23:05:54.966165",
     "status": "completed"
    },
    "pycharm": {
     "name": "#%%\n"
    },
    "tags": []
   },
   "outputs": [],
   "source": []
  },
  {
   "cell_type": "markdown",
   "id": "9b9cc1ae",
   "metadata": {
    "papermill": {
     "duration": 0.091114,
     "end_time": "2022-04-04T23:05:55.240063",
     "exception": false,
     "start_time": "2022-04-04T23:05:55.148949",
     "status": "completed"
    },
    "pycharm": {
     "name": "#%% md\n"
    },
    "tags": []
   },
   "source": [
    "<a id=\"11\"></a>\n",
    "# Modeling"
   ]
  },
  {
   "cell_type": "code",
   "execution_count": 26,
   "id": "640fd589",
   "metadata": {
    "collapsed": false,
    "execution": {
     "iopub.execute_input": "2022-04-04T23:05:55.430680Z",
     "iopub.status.busy": "2022-04-04T23:05:55.429985Z",
     "iopub.status.idle": "2022-04-04T23:05:55.435615Z",
     "shell.execute_reply": "2022-04-04T23:05:55.436123Z",
     "shell.execute_reply.started": "2022-04-04T23:04:47.306810Z"
    },
    "jupyter": {
     "outputs_hidden": false
    },
    "papermill": {
     "duration": 0.103503,
     "end_time": "2022-04-04T23:05:55.436314",
     "exception": false,
     "start_time": "2022-04-04T23:05:55.332811",
     "status": "completed"
    },
    "pycharm": {
     "name": "#%%\n"
    },
    "tags": []
   },
   "outputs": [],
   "source": [
    "from sklearn.linear_model import LinearRegression\n",
    "\n",
    "y = df.averageprice\n",
    "X = df.drop(['averageprice'], axis=1)\n",
    "\n",
    "X_train, X_test, y_train, y_test = train_test_split(X, y, train_size=0.70, random_state=17)"
   ]
  },
  {
   "cell_type": "code",
   "execution_count": 27,
   "id": "24c077c5",
   "metadata": {
    "collapsed": false,
    "execution": {
     "iopub.execute_input": "2022-04-04T23:05:55.627773Z",
     "iopub.status.busy": "2022-04-04T23:05:55.626798Z",
     "iopub.status.idle": "2022-04-04T23:05:55.629599Z",
     "shell.execute_reply": "2022-04-04T23:05:55.629045Z",
     "shell.execute_reply.started": "2022-04-04T23:04:47.317675Z"
    },
    "jupyter": {
     "outputs_hidden": false
    },
    "papermill": {
     "duration": 0.099976,
     "end_time": "2022-04-04T23:05:55.629743",
     "exception": false,
     "start_time": "2022-04-04T23:05:55.529767",
     "status": "completed"
    },
    "pycharm": {
     "name": "#%%\n"
    },
    "tags": []
   },
   "outputs": [],
   "source": [
    "def train_model(model, x_train, y_train, x_test):\n",
    "    model.fit(x_train, y_train)\n",
    "    y_pred = model.predict(x_test)\n",
    "    return model, y_pred"
   ]
  },
  {
   "cell_type": "markdown",
   "id": "499c8c69",
   "metadata": {
    "papermill": {
     "duration": 0.091045,
     "end_time": "2022-04-04T23:05:55.811971",
     "exception": false,
     "start_time": "2022-04-04T23:05:55.720926",
     "status": "completed"
    },
    "pycharm": {
     "name": "#%% md\n"
    },
    "tags": []
   },
   "source": [
    "**Ok,we gonna use  regression models**"
   ]
  },
  {
   "cell_type": "code",
   "execution_count": 28,
   "id": "300d2209",
   "metadata": {
    "collapsed": false,
    "execution": {
     "iopub.execute_input": "2022-04-04T23:05:55.999568Z",
     "iopub.status.busy": "2022-04-04T23:05:55.998785Z",
     "iopub.status.idle": "2022-04-04T23:05:56.000542Z",
     "shell.execute_reply": "2022-04-04T23:05:56.001141Z",
     "shell.execute_reply.started": "2022-04-04T23:04:47.327622Z"
    },
    "jupyter": {
     "outputs_hidden": false
    },
    "papermill": {
     "duration": 0.098621,
     "end_time": "2022-04-04T23:05:56.001337",
     "exception": false,
     "start_time": "2022-04-04T23:05:55.902716",
     "status": "completed"
    },
    "pycharm": {
     "name": "#%%\n"
    },
    "tags": []
   },
   "outputs": [],
   "source": [
    "# Cross validate model with Kfold stratified cross val\n",
    "kfold = KFold(n_splits=10,shuffle=True)"
   ]
  },
  {
   "cell_type": "code",
   "execution_count": 29,
   "id": "ab77c614",
   "metadata": {
    "collapsed": false,
    "execution": {
     "iopub.execute_input": "2022-04-04T23:05:56.188338Z",
     "iopub.status.busy": "2022-04-04T23:05:56.187713Z",
     "iopub.status.idle": "2022-04-04T23:05:56.235244Z",
     "shell.execute_reply": "2022-04-04T23:05:56.236222Z",
     "shell.execute_reply.started": "2022-04-04T23:04:47.342072Z"
    },
    "jupyter": {
     "outputs_hidden": false
    },
    "papermill": {
     "duration": 0.142361,
     "end_time": "2022-04-04T23:05:56.236525",
     "exception": false,
     "start_time": "2022-04-04T23:05:56.094164",
     "status": "completed"
    },
    "pycharm": {
     "name": "#%%\n"
    },
    "tags": []
   },
   "outputs": [],
   "source": [
    "Lin_reg,y_pred=train_model(LinearRegression(),X_train,y_train,X_test)"
   ]
  },
  {
   "cell_type": "code",
   "execution_count": null,
   "id": "f4122bf2",
   "metadata": {
    "collapsed": false,
    "execution": {
     "iopub.execute_input": "2022-04-04T23:05:56.518543Z",
     "iopub.status.busy": "2022-04-04T23:05:56.517358Z",
     "iopub.status.idle": "2022-04-04T23:05:56.525563Z",
     "shell.execute_reply": "2022-04-04T23:05:56.526390Z",
     "shell.execute_reply.started": "2022-04-04T23:04:47.407137Z"
    },
    "jupyter": {
     "outputs_hidden": false
    },
    "papermill": {
     "duration": 0.107913,
     "end_time": "2022-04-04T23:05:56.526690",
     "exception": false,
     "start_time": "2022-04-04T23:05:56.418777",
     "status": "completed"
    },
    "pycharm": {
     "name": "#%%\n",
     "is_executing": true
    },
    "tags": []
   },
   "outputs": [],
   "source": [
    "Lin_reg.score(X_test,y_test)"
   ]
  },
  {
   "cell_type": "code",
   "execution_count": 31,
   "id": "21b26182",
   "metadata": {
    "collapsed": false,
    "execution": {
     "iopub.execute_input": "2022-04-04T23:05:56.769234Z",
     "iopub.status.busy": "2022-04-04T23:05:56.768501Z",
     "iopub.status.idle": "2022-04-04T23:05:57.972446Z",
     "shell.execute_reply": "2022-04-04T23:05:57.971867Z",
     "shell.execute_reply.started": "2022-04-04T23:04:47.448103Z"
    },
    "jupyter": {
     "outputs_hidden": false
    },
    "papermill": {
     "duration": 1.302258,
     "end_time": "2022-04-04T23:05:57.972610",
     "exception": false,
     "start_time": "2022-04-04T23:05:56.670352",
     "status": "completed"
    },
    "pycharm": {
     "name": "#%%\n"
    },
    "tags": []
   },
   "outputs": [],
   "source": [
    "RFM_reg,y_pred=train_model(RandomForestRegressor(),X_train,y_train,X_test)"
   ]
  },
  {
   "cell_type": "code",
   "execution_count": null,
   "id": "d042f38c",
   "metadata": {
    "collapsed": false,
    "execution": {
     "iopub.execute_input": "2022-04-04T23:05:58.163900Z",
     "iopub.status.busy": "2022-04-04T23:05:58.163231Z",
     "iopub.status.idle": "2022-04-04T23:05:58.192709Z",
     "shell.execute_reply": "2022-04-04T23:05:58.193372Z",
     "shell.execute_reply.started": "2022-04-04T23:04:48.661945Z"
    },
    "jupyter": {
     "outputs_hidden": false
    },
    "papermill": {
     "duration": 0.128465,
     "end_time": "2022-04-04T23:05:58.193550",
     "exception": false,
     "start_time": "2022-04-04T23:05:58.065085",
     "status": "completed"
    },
    "pycharm": {
     "name": "#%%\n",
     "is_executing": true
    },
    "tags": []
   },
   "outputs": [],
   "source": [
    "RFM_reg.score(X_test,y_test)"
   ]
  },
  {
   "cell_type": "code",
   "execution_count": 33,
   "id": "8b1ad2ac",
   "metadata": {
    "collapsed": false,
    "execution": {
     "iopub.execute_input": "2022-04-04T23:05:58.384268Z",
     "iopub.status.busy": "2022-04-04T23:05:58.383245Z",
     "iopub.status.idle": "2022-04-04T23:05:58.858181Z",
     "shell.execute_reply": "2022-04-04T23:05:58.856988Z",
     "shell.execute_reply.started": "2022-04-04T23:04:48.696516Z"
    },
    "jupyter": {
     "outputs_hidden": false
    },
    "papermill": {
     "duration": 0.572164,
     "end_time": "2022-04-04T23:05:58.858362",
     "exception": false,
     "start_time": "2022-04-04T23:05:58.286198",
     "status": "completed"
    },
    "pycharm": {
     "name": "#%%\n"
    },
    "tags": []
   },
   "outputs": [],
   "source": [
    "Gradient_reg,y_pred=train_model(GradientBoostingRegressor(),X_train,y_train,X_test)"
   ]
  },
  {
   "cell_type": "code",
   "execution_count": null,
   "id": "44659db1",
   "metadata": {
    "collapsed": false,
    "execution": {
     "iopub.execute_input": "2022-04-04T23:05:59.052089Z",
     "iopub.status.busy": "2022-04-04T23:05:59.051419Z",
     "iopub.status.idle": "2022-04-04T23:05:59.057158Z",
     "shell.execute_reply": "2022-04-04T23:05:59.057789Z",
     "shell.execute_reply.started": "2022-04-04T23:04:49.161738Z"
    },
    "jupyter": {
     "outputs_hidden": false
    },
    "papermill": {
     "duration": 0.105148,
     "end_time": "2022-04-04T23:05:59.057989",
     "exception": false,
     "start_time": "2022-04-04T23:05:58.952841",
     "status": "completed"
    },
    "pycharm": {
     "name": "#%%\n",
     "is_executing": true
    },
    "tags": []
   },
   "outputs": [],
   "source": [
    "Gradient_reg.score(X_test,y_test)"
   ]
  },
  {
   "cell_type": "code",
   "execution_count": 35,
   "id": "830135b9",
   "metadata": {
    "collapsed": false,
    "execution": {
     "iopub.execute_input": "2022-04-04T23:05:59.248093Z",
     "iopub.status.busy": "2022-04-04T23:05:59.247409Z",
     "iopub.status.idle": "2022-04-04T23:06:00.309362Z",
     "shell.execute_reply": "2022-04-04T23:06:00.309866Z",
     "shell.execute_reply.started": "2022-04-04T23:04:49.174408Z"
    },
    "jupyter": {
     "outputs_hidden": false
    },
    "papermill": {
     "duration": 1.158242,
     "end_time": "2022-04-04T23:06:00.310095",
     "exception": false,
     "start_time": "2022-04-04T23:05:59.151853",
     "status": "completed"
    },
    "pycharm": {
     "name": "#%%\n"
    },
    "tags": []
   },
   "outputs": [],
   "source": [
    "Extra_reg,y_pred=train_model(ExtraTreesRegressor(),X_train,y_train,X_test)"
   ]
  },
  {
   "cell_type": "code",
   "execution_count": null,
   "id": "fe7718cb",
   "metadata": {
    "collapsed": false,
    "execution": {
     "iopub.execute_input": "2022-04-04T23:06:00.500981Z",
     "iopub.status.busy": "2022-04-04T23:06:00.500328Z",
     "iopub.status.idle": "2022-04-04T23:06:00.538216Z",
     "shell.execute_reply": "2022-04-04T23:06:00.537677Z",
     "shell.execute_reply.started": "2022-04-04T23:04:50.216086Z"
    },
    "jupyter": {
     "outputs_hidden": false
    },
    "papermill": {
     "duration": 0.133128,
     "end_time": "2022-04-04T23:06:00.538452",
     "exception": false,
     "start_time": "2022-04-04T23:06:00.405324",
     "status": "completed"
    },
    "pycharm": {
     "name": "#%%\n",
     "is_executing": true
    },
    "tags": []
   },
   "outputs": [],
   "source": [
    "Extra_reg.score(X_test,y_test)"
   ]
  },
  {
   "cell_type": "code",
   "execution_count": 37,
   "id": "5948576c",
   "metadata": {
    "collapsed": false,
    "execution": {
     "iopub.execute_input": "2022-04-04T23:06:00.732601Z",
     "iopub.status.busy": "2022-04-04T23:06:00.731876Z",
     "iopub.status.idle": "2022-04-04T23:06:00.754613Z",
     "shell.execute_reply": "2022-04-04T23:06:00.755138Z",
     "shell.execute_reply.started": "2022-04-04T23:04:50.251910Z"
    },
    "jupyter": {
     "outputs_hidden": false
    },
    "papermill": {
     "duration": 0.123641,
     "end_time": "2022-04-04T23:06:00.755332",
     "exception": false,
     "start_time": "2022-04-04T23:06:00.631691",
     "status": "completed"
    },
    "pycharm": {
     "name": "#%%\n"
    },
    "tags": []
   },
   "outputs": [],
   "source": [
    "Dec_reg,y_pred=train_model(DecisionTreeRegressor(),X_train,y_train,X_test)"
   ]
  },
  {
   "cell_type": "code",
   "execution_count": null,
   "id": "2b92d75e",
   "metadata": {
    "collapsed": false,
    "execution": {
     "iopub.execute_input": "2022-04-04T23:06:00.948351Z",
     "iopub.status.busy": "2022-04-04T23:06:00.947510Z",
     "iopub.status.idle": "2022-04-04T23:06:00.953178Z",
     "shell.execute_reply": "2022-04-04T23:06:00.953616Z",
     "shell.execute_reply.started": "2022-04-04T23:04:50.278893Z"
    },
    "jupyter": {
     "outputs_hidden": false
    },
    "papermill": {
     "duration": 0.105487,
     "end_time": "2022-04-04T23:06:00.953787",
     "exception": false,
     "start_time": "2022-04-04T23:06:00.848300",
     "status": "completed"
    },
    "pycharm": {
     "name": "#%%\n",
     "is_executing": true
    },
    "tags": []
   },
   "outputs": [],
   "source": [
    "Dec_reg.score(X_test,y_test)"
   ]
  },
  {
   "cell_type": "code",
   "execution_count": 39,
   "id": "1eabbdcd",
   "metadata": {
    "collapsed": false,
    "execution": {
     "iopub.execute_input": "2022-04-04T23:06:01.147738Z",
     "iopub.status.busy": "2022-04-04T23:06:01.147040Z",
     "iopub.status.idle": "2022-04-04T23:06:01.417900Z",
     "shell.execute_reply": "2022-04-04T23:06:01.417297Z",
     "shell.execute_reply.started": "2022-04-04T23:04:50.290653Z"
    },
    "jupyter": {
     "outputs_hidden": false
    },
    "papermill": {
     "duration": 0.370666,
     "end_time": "2022-04-04T23:06:01.418092",
     "exception": false,
     "start_time": "2022-04-04T23:06:01.047426",
     "status": "completed"
    },
    "pycharm": {
     "name": "#%%\n"
    },
    "tags": []
   },
   "outputs": [],
   "source": [
    "Adabost_reg,y_pred=train_model(AdaBoostRegressor(),X_train,y_train,X_test)"
   ]
  },
  {
   "cell_type": "code",
   "execution_count": null,
   "id": "26cc778b",
   "metadata": {
    "collapsed": false,
    "execution": {
     "iopub.execute_input": "2022-04-04T23:06:01.611502Z",
     "iopub.status.busy": "2022-04-04T23:06:01.610821Z",
     "iopub.status.idle": "2022-04-04T23:06:01.625083Z",
     "shell.execute_reply": "2022-04-04T23:06:01.625593Z",
     "shell.execute_reply.started": "2022-04-04T23:04:50.542155Z"
    },
    "jupyter": {
     "outputs_hidden": false
    },
    "papermill": {
     "duration": 0.114723,
     "end_time": "2022-04-04T23:06:01.625770",
     "exception": false,
     "start_time": "2022-04-04T23:06:01.511047",
     "status": "completed"
    },
    "pycharm": {
     "name": "#%%\n",
     "is_executing": true
    },
    "tags": []
   },
   "outputs": [],
   "source": [
    "Adabost_reg.score(X_test,y_test)"
   ]
  },
  {
   "cell_type": "code",
   "execution_count": 41,
   "id": "81abd499",
   "metadata": {
    "collapsed": false,
    "execution": {
     "iopub.execute_input": "2022-04-04T23:06:01.815869Z",
     "iopub.status.busy": "2022-04-04T23:06:01.815228Z",
     "iopub.status.idle": "2022-04-04T23:06:02.036016Z",
     "shell.execute_reply": "2022-04-04T23:06:02.036633Z",
     "shell.execute_reply.started": "2022-04-04T23:04:50.561786Z"
    },
    "jupyter": {
     "outputs_hidden": false
    },
    "papermill": {
     "duration": 0.31784,
     "end_time": "2022-04-04T23:06:02.036835",
     "exception": false,
     "start_time": "2022-04-04T23:06:01.718995",
     "status": "completed"
    },
    "pycharm": {
     "name": "#%%\n"
    },
    "tags": []
   },
   "outputs": [],
   "source": [
    "Lgbm_reg,y_pred=train_model(LGBMRegressor(),X_train,y_train,X_test)"
   ]
  },
  {
   "cell_type": "code",
   "execution_count": null,
   "id": "337e7270",
   "metadata": {
    "collapsed": false,
    "execution": {
     "iopub.execute_input": "2022-04-04T23:06:02.231490Z",
     "iopub.status.busy": "2022-04-04T23:06:02.228158Z",
     "iopub.status.idle": "2022-04-04T23:06:02.247659Z",
     "shell.execute_reply": "2022-04-04T23:06:02.248716Z",
     "shell.execute_reply.started": "2022-04-04T23:04:50.774012Z"
    },
    "jupyter": {
     "outputs_hidden": false
    },
    "papermill": {
     "duration": 0.117295,
     "end_time": "2022-04-04T23:06:02.248927",
     "exception": false,
     "start_time": "2022-04-04T23:06:02.131632",
     "status": "completed"
    },
    "pycharm": {
     "name": "#%%\n",
     "is_executing": true
    },
    "tags": []
   },
   "outputs": [],
   "source": [
    "Lgbm_reg.score(X_test,y_test)"
   ]
  },
  {
   "cell_type": "code",
   "execution_count": null,
   "id": "6402fd85",
   "metadata": {
    "collapsed": false,
    "jupyter": {
     "outputs_hidden": false
    },
    "papermill": {
     "duration": 0.093576,
     "end_time": "2022-04-04T23:06:02.436597",
     "exception": false,
     "start_time": "2022-04-04T23:06:02.343021",
     "status": "completed"
    },
    "pycharm": {
     "name": "#%%\n"
    },
    "tags": []
   },
   "outputs": [],
   "source": []
  }
 ],
 "metadata": {
  "kernelspec": {
   "display_name": "Python 3",
   "language": "python",
   "name": "python3"
  },
  "language_info": {
   "codemirror_mode": {
    "name": "ipython",
    "version": 3
   },
   "file_extension": ".py",
   "mimetype": "text/x-python",
   "name": "python",
   "nbconvert_exporter": "python",
   "pygments_lexer": "ipython3",
   "version": "3.7.12"
  },
  "papermill": {
   "default_parameters": {},
   "duration": 37.835127,
   "end_time": "2022-04-04T23:06:03.441653",
   "environment_variables": {},
   "exception": null,
   "input_path": "__notebook__.ipynb",
   "output_path": "__notebook__.ipynb",
   "parameters": {},
   "start_time": "2022-04-04T23:05:25.606526",
   "version": "2.3.3"
  }
 },
 "nbformat": 4,
 "nbformat_minor": 5
}